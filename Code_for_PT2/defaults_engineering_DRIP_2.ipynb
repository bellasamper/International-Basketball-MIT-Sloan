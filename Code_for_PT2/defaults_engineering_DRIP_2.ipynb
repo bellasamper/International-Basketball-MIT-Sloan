{
 "cells": [
  {
   "cell_type": "markdown",
   "id": "e370a141-9eaa-4b3b-b2a2-8a12f29808d1",
   "metadata": {},
   "source": [
    "# Defaults Engineering"
   ]
  },
  {
   "cell_type": "code",
   "execution_count": null,
   "id": "7421f289-4bcd-411a-a9f5-a1ade2fe86e0",
   "metadata": {},
   "outputs": [],
   "source": [
    "import pandas as pd \n",
    "import numpy as np \n",
    "import matplotlib.pyplot as plt"
   ]
  },
  {
   "cell_type": "markdown",
   "id": "8142e107-73cd-4e7a-8e66-6160d7a55e46",
   "metadata": {},
   "source": [
    "## Average Data "
   ]
  },
  {
   "cell_type": "code",
   "execution_count": null,
   "id": "257c55f1-7899-42d5-aa17-ae0ff3eb1a2e",
   "metadata": {},
   "outputs": [],
   "source": [
    "## read in the X variables\n",
    "\n",
    "## data from other part of the project\n",
    "X_data = pd.read_csv(\"../PT1/final_data.csv\").drop('Unnamed: 0', axis=1).rename({'PLAYER_ID':'playerid'}, axis=1)\n",
    "\n",
    "## drop 2023 data \n",
    "X_data = X_data[X_data['START_SEASON'] != 2023]\n",
    "\n",
    "X_data.to_csv('X_Model_Data.csv')\n",
    "\n",
    "## read in y variables \n",
    "y_data = pd.read_csv('RAPM_AVG_year.csv').drop('Unnamed: 0', axis=1)\n",
    "y_data = y_data.sort_values('DRIP_Off_YEAR11').reset_index()\n",
    "\n",
    "## read in NBA data to get player names & league\n",
    "players = pd.read_csv(\"../Models/NBA Caliber Players.csv\").rename({'PLAYER_ID':'playerid'}, axis=1)"
   ]
  },
  {
   "cell_type": "code",
   "execution_count": null,
   "id": "e2d2d701-d1c1-4b88-8611-115f5d8f4256",
   "metadata": {},
   "outputs": [],
   "source": [
    "## merge the data\n",
    "y_data = pd.merge(X_data, y_data, on='playerid', how='left')"
   ]
  },
  {
   "cell_type": "code",
   "execution_count": null,
   "id": "adba2c93-16da-4a64-8695-91bf8e896d1a",
   "metadata": {},
   "outputs": [],
   "source": [
    "check = y_data[['playerid', 'PICK_NUMBER', 'year1', 'START_SEASON']]\n",
    "\n",
    "## making sure none of the players are in the top drafts \n",
    "print(check[check['year1'].isna()]['PICK_NUMBER'].unique())\n",
    "\n",
    "## creating a df of missing people in RAPM\n",
    "check = check[check['year1'].isna()]"
   ]
  },
  {
   "cell_type": "code",
   "execution_count": null,
   "id": "e64616ae-7fe2-4334-9d2f-d4a7a3a79a13",
   "metadata": {},
   "outputs": [],
   "source": [
    "## adding values to these players who do not show up in RAPM\n",
    "check.drop(['year1'], axis=1, inplace=True) \n",
    "\n",
    "#renaming \n",
    "check.rename({'START_SEASON':'year1'}, axis=1, inplace=True)"
   ]
  },
  {
   "cell_type": "code",
   "execution_count": null,
   "id": "00d88ff7-36b5-4b7e-8507-e3a31de7d9ed",
   "metadata": {},
   "outputs": [],
   "source": [
    "## creating lists to add to dataframe\n",
    "RAPM_Off_YEAR1 = [-1.5] * len(check)\n",
    "RAPM_Def_YEAR1 = [-1] * len(check)\n",
    "\n",
    "## adding them to missing dataframe \n",
    "check['DRIP_Off_YEAR1'] = RAPM_Off_YEAR1\n",
    "check['DRIP_Def_YEAR1'] = RAPM_Def_YEAR1"
   ]
  },
  {
   "cell_type": "code",
   "execution_count": null,
   "id": "3181a1cf-b136-4fc1-bcef-316f856dc2a4",
   "metadata": {},
   "outputs": [],
   "source": [
    "## grabbing rest of columns \n",
    "cols = ['year2', 'DRIP_Off_YEAR2', 'DRIP_Def_YEAR2', 'year3', 'DRIP_Off_YEAR3',\n",
    "       'DRIP_Def_YEAR3', 'year4', 'DRIP_Off_YEAR4', 'DRIP_Def_YEAR4', 'year5',\n",
    "       'DRIP_Off_YEAR5', 'DRIP_Def_YEAR5', 'year6', 'DRIP_Off_YEAR6',\n",
    "       'DRIP_Def_YEAR6', 'year7', 'DRIP_Off_YEAR7', 'DRIP_Def_YEAR7', 'year8',\n",
    "       'DRIP_Off_YEAR8', 'DRIP_Def_YEAR8', 'year9', 'DRIP_Off_YEAR9',\n",
    "       'DRIP_Def_YEAR9', 'year10', 'DRIP_Off_YEAR10', 'DRIP_Def_YEAR10',\n",
    "       'year11', 'DRIP_Off_YEAR11', 'DRIP_Def_YEAR11']\n",
    "\n",
    "## making other columns added to dataframe \n",
    "for i in cols: \n",
    "    check[i] = np.nan\n",
    "    "
   ]
  },
  {
   "cell_type": "code",
   "execution_count": null,
   "id": "c65fd10e-2751-4537-be52-7203a190276c",
   "metadata": {},
   "outputs": [],
   "source": [
    "check.drop(['PICK_NUMBER'], axis=1, inplace=True)"
   ]
  },
  {
   "cell_type": "code",
   "execution_count": null,
   "id": "1e9e636f-791b-4518-a5b8-27de70615c22",
   "metadata": {},
   "outputs": [],
   "source": [
    "## need to drop the values in the original dataframe \n",
    "y_data = y_data[y_data['year1'].notna()]"
   ]
  },
  {
   "cell_type": "code",
   "execution_count": null,
   "id": "13943bc8-c544-4897-bfd8-d8fbe9f7d8a6",
   "metadata": {},
   "outputs": [],
   "source": [
    "## want to add those values that were not in RAPM dataframe \n",
    "y_data = y_data.append(check).reset_index(drop=True)"
   ]
  },
  {
   "cell_type": "code",
   "execution_count": null,
   "id": "c4b95240-bedb-473f-9eca-0d775f8c81e5",
   "metadata": {},
   "outputs": [],
   "source": [
    "## add playerid \n",
    "play = y_data['playerid']"
   ]
  },
  {
   "cell_type": "code",
   "execution_count": null,
   "id": "f69b7b21-d861-4e24-9976-d2060dabd5e3",
   "metadata": {},
   "outputs": [],
   "source": [
    "## grab only y variables\n",
    "final_y = y_data.iloc[:, 165:198]"
   ]
  },
  {
   "cell_type": "code",
   "execution_count": null,
   "id": "dbcef0c3-45cf-4d5c-a734-b2d81349100f",
   "metadata": {},
   "outputs": [],
   "source": [
    "## inserting the player id\n",
    "final_y.insert(0, 'playerid', y_data['playerid'])"
   ]
  },
  {
   "cell_type": "code",
   "execution_count": null,
   "id": "bc5f9e89-6d3f-4fa7-a34d-beaa5eea7e10",
   "metadata": {},
   "outputs": [],
   "source": [
    "final_y.to_csv(\"Final_RAPM_AVG.csv\")"
   ]
  },
  {
   "cell_type": "markdown",
   "id": "13c15e39-9da0-4b58-89bf-5bfb55c106a0",
   "metadata": {},
   "source": [
    "## Added Data"
   ]
  },
  {
   "cell_type": "code",
   "execution_count": null,
   "id": "e45c8157-4854-40d3-99b6-6c385e6ae93e",
   "metadata": {},
   "outputs": [],
   "source": [
    "## read in y variables \n",
    "y_data2 = pd.read_csv('RAPM_Added_year.csv').drop('Unnamed: 0', axis=1)\n",
    "y_data2 = y_data2.sort_values('DRIP_Off_YEAR11').reset_index()\n"
   ]
  },
  {
   "cell_type": "code",
   "execution_count": null,
   "id": "96de9589-73a3-48ab-937b-a2ebf370167d",
   "metadata": {},
   "outputs": [],
   "source": [
    "y_data2 = pd.merge(X_data, y_data2, on='playerid', how='left')"
   ]
  },
  {
   "cell_type": "code",
   "execution_count": null,
   "id": "a71cf504-d900-4c29-b03f-152ee33c461c",
   "metadata": {},
   "outputs": [],
   "source": [
    "check2 = y_data2[['playerid', 'PICK_NUMBER', 'year1', 'START_SEASON']]\n",
    "\n",
    "## making sure none of the players are in the top drafts \n",
    "print(check2[check2['year1'].isna()]['PICK_NUMBER'].unique())\n",
    "\n",
    "## creating a df of missing people in RAPM\n",
    "check2 = check2[check2['year1'].isna()]"
   ]
  },
  {
   "cell_type": "code",
   "execution_count": null,
   "id": "13d0c6fe-8a40-406b-8770-ec9ae104c324",
   "metadata": {},
   "outputs": [],
   "source": [
    "## adding values to these players who do not show up in RAPM\n",
    "check2.drop(['year1'], axis=1, inplace=True) \n",
    "\n",
    "#renaming \n",
    "check2.rename({'START_SEASON':'year1'}, axis=1, inplace=True)"
   ]
  },
  {
   "cell_type": "code",
   "execution_count": null,
   "id": "49a21aec-726c-46f3-99b0-852082060321",
   "metadata": {},
   "outputs": [],
   "source": [
    "## creating lists to add to dataframe\n",
    "RAPM_Off_YEAR1 = [-1.5] * len(check2)\n",
    "RAPM_Def_YEAR1 = [-1] * len(check2)\n",
    "\n",
    "## adding them to missing dataframe \n",
    "check2['DRIP_Off_YEAR1'] = RAPM_Off_YEAR1\n",
    "check2['DRIP_Def_YEAR1'] = RAPM_Def_YEAR1"
   ]
  },
  {
   "cell_type": "code",
   "execution_count": null,
   "id": "dc575e2a-6b96-4dde-a4e7-1c393d8dab6d",
   "metadata": {},
   "outputs": [],
   "source": [
    "## grabbing rest of columns \n",
    "cols = ['year2', 'DRIP_Off_YEAR2', 'DRIP_Def_YEAR2', 'year3', 'DRIP_Off_YEAR3',\n",
    "       'DRIP_Def_YEAR3', 'year4', 'DRIP_Off_YEAR4', 'DRIP_Def_YEAR4', 'year5',\n",
    "       'DRIP_Off_YEAR5', 'DRIP_Def_YEAR5', 'year6', 'DRIP_Off_YEAR6',\n",
    "       'DRIP_Def_YEAR6', 'year7', 'DRIP_Off_YEAR7', 'DRIP_Def_YEAR7', 'year8',\n",
    "       'DRIP_Off_YEAR8', 'DRIP_Def_YEAR8', 'year9', 'DRIP_Off_YEAR9',\n",
    "       'DRIP_Def_YEAR9', 'year10', 'DRIP_Off_YEAR10', 'DRIP_Def_YEAR10',\n",
    "       'year11', 'DRIP_Off_YEAR11', 'DRIP_Def_YEAR11']\n",
    "\n",
    "## making other columns added to dataframe \n",
    "for i in cols: \n",
    "    check2[i] = np.nan"
   ]
  },
  {
   "cell_type": "code",
   "execution_count": null,
   "id": "fe227e28-0e1c-4f45-ae04-9b938e2a604a",
   "metadata": {},
   "outputs": [],
   "source": [
    "check2.drop(['PICK_NUMBER'], axis=1, inplace=True)"
   ]
  },
  {
   "cell_type": "code",
   "execution_count": null,
   "id": "fb5d435c-a021-4ed0-8bad-6892376322ce",
   "metadata": {},
   "outputs": [],
   "source": [
    "## need to drop the values in the original dataframe \n",
    "y_data2 = y_data2[y_data2['year1'].notna()]"
   ]
  },
  {
   "cell_type": "code",
   "execution_count": null,
   "id": "d07d55b0-d4b8-4b1a-8d7f-2874587f38eb",
   "metadata": {},
   "outputs": [],
   "source": [
    "play2 = y_data2['playerid']"
   ]
  },
  {
   "cell_type": "code",
   "execution_count": null,
   "id": "7e60e371-ab6b-4646-ac0d-505b833a4c2b",
   "metadata": {},
   "outputs": [],
   "source": [
    "## grabbing only y variables\n",
    "y_data2 = y_data2.iloc[:, 165:198]"
   ]
  },
  {
   "cell_type": "code",
   "execution_count": null,
   "id": "2226e596-0ada-4774-b3ea-ae5a2410110b",
   "metadata": {},
   "outputs": [],
   "source": [
    "## inserting player id\n",
    "y_data2.insert(0, 'playerid', play2)"
   ]
  },
  {
   "cell_type": "code",
   "execution_count": null,
   "id": "287d28b1-04bb-4b22-ba47-295efff9c6dc",
   "metadata": {},
   "outputs": [],
   "source": [
    "## want to add those values that were not in RAPM dataframe \n",
    "final_y2 = y_data2.append(check2).reset_index(drop=True)"
   ]
  },
  {
   "cell_type": "code",
   "execution_count": null,
   "id": "28e5bf07-1aef-4f7d-bc83-da1dfd4e21c3",
   "metadata": {},
   "outputs": [],
   "source": [
    "final_y2.to_csv(\"Final_RAPM_Added.csv\")"
   ]
  },
  {
   "cell_type": "code",
   "execution_count": null,
   "id": "cc9032c4-5bc8-4e80-84f6-5f6b2abc6c7f",
   "metadata": {},
   "outputs": [],
   "source": []
  }
 ],
 "metadata": {
  "kernelspec": {
   "display_name": "Python 3 (ipykernel)",
   "language": "python",
   "name": "python3"
  },
  "language_info": {
   "codemirror_mode": {
    "name": "ipython",
    "version": 3
   },
   "file_extension": ".py",
   "mimetype": "text/x-python",
   "name": "python",
   "nbconvert_exporter": "python",
   "pygments_lexer": "ipython3",
   "version": "3.9.12"
  }
 },
 "nbformat": 4,
 "nbformat_minor": 5
}
