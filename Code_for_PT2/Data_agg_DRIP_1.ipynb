{
 "cells": [
  {
   "cell_type": "markdown",
   "id": "8db99c03-3206-47b4-8f87-d88990e0f4b4",
   "metadata": {},
   "source": [
    "# Data Aggregation DRIP"
   ]
  },
  {
   "cell_type": "code",
   "execution_count": null,
   "id": "b93b9bb0-30f2-4aca-abec-c8c3c485a3a3",
   "metadata": {},
   "outputs": [],
   "source": [
    "import pandas as pd \n",
    "import numpy as np\n",
    "import matplotlib.pyplot as plt"
   ]
  },
  {
   "cell_type": "code",
   "execution_count": null,
   "id": "6e8a012b-2a27-48aa-a3e1-3b74c11feab8",
   "metadata": {},
   "outputs": [],
   "source": [
    "## read in data \n",
    "RAPM = pd.read_csv(\"RAPM_Predictions_All.csv\").drop('Unnamed: 0', axis=1)"
   ]
  },
  {
   "cell_type": "code",
   "execution_count": null,
   "id": "9eac37a1-4a7b-458c-ae18-6b8e7f77e6e8",
   "metadata": {},
   "outputs": [],
   "source": [
    "## grab only columns needed \n",
    "r = RAPM[['playerid','player','teamname','minutesplayed','season','RAPM_Off_Prediction','RAPM_Def_Prediction']]"
   ]
  },
  {
   "cell_type": "markdown",
   "id": "cd65cfda-b2d6-4e9e-80bb-29247bac747f",
   "metadata": {},
   "source": [
    "## Condense the RAPM Predcitions so there is only one per season \n",
    "did average and added percentage "
   ]
  },
  {
   "cell_type": "markdown",
   "id": "34b14816-35ae-4887-a484-1c214e631749",
   "metadata": {},
   "source": [
    "### Added Percentage of all of them"
   ]
  },
  {
   "cell_type": "code",
   "execution_count": null,
   "id": "378e608b-376b-489f-93bd-00e8ffab021c",
   "metadata": {},
   "outputs": [],
   "source": [
    "## these players are in autostats data\n",
    "players = [1176246, 1343009, 1350414, 1350608, 1350808, 1350935, 1352114, 1374251]\n",
    "z = r[r['playerid'].isin(players)]\n",
    "z['season'] = z['season'].replace(0,2022)\n",
    "\n",
    "r = r.append(z)"
   ]
  },
  {
   "cell_type": "code",
   "execution_count": null,
   "id": "ce53dbb9-41d1-47dc-b154-a010431ac853",
   "metadata": {},
   "outputs": [],
   "source": [
    "## there is a bunch of seasons that are zero so going to drop it for now \n",
    "r = r[r['season'] > 0].reset_index(drop=True)"
   ]
  },
  {
   "cell_type": "code",
   "execution_count": null,
   "id": "1a15cc17-9d94-4186-a2d3-89711019dc1c",
   "metadata": {},
   "outputs": [],
   "source": [
    "## sums up all AutoStats Games a player has \n",
    "a = r.merge(pd.DataFrame(r.groupby(['playerid', 'season']) ['minutesplayed'].sum()), on=['playerid', 'season'])\n",
    "\n",
    "## creates a percentage of each player for each season\n",
    "r['percent'] = (a['minutesplayed_x']/a['minutesplayed_y'])"
   ]
  },
  {
   "cell_type": "code",
   "execution_count": null,
   "id": "a1befc86-c0dd-4694-84e2-bef9b9be98b4",
   "metadata": {},
   "outputs": [],
   "source": [
    "## creates the columns we need to multiple the percent by\n",
    "num_cols = r.drop(['minutesplayed', 'playerid','player','teamname','season', 'percent'], axis=1)"
   ]
  },
  {
   "cell_type": "code",
   "execution_count": null,
   "id": "2bffb94e-86bc-4c8e-8edd-d5e95f9ce0a3",
   "metadata": {},
   "outputs": [],
   "source": [
    "## gets the percent of each variable based on game\n",
    "for i in num_cols:\n",
    "    r[i] = r[i] * r['percent']"
   ]
  },
  {
   "cell_type": "code",
   "execution_count": null,
   "id": "e3a2dfb4-0805-4162-9eb2-9d33506da3f8",
   "metadata": {},
   "outputs": [],
   "source": [
    "## adds up the lines per each player per season\n",
    "r = r.groupby(['playerid', 'season']).agg('sum').reset_index()"
   ]
  },
  {
   "cell_type": "code",
   "execution_count": null,
   "id": "62367077-e07d-4a3f-8369-1baf34246f2e",
   "metadata": {},
   "outputs": [],
   "source": [
    "## creates a variable that gives what number year it is for each season\n",
    "r['rank'] = r.groupby(['playerid'])['season'].rank('dense', ascending=True)"
   ]
  },
  {
   "cell_type": "code",
   "execution_count": null,
   "id": "55824c6e-53ef-4488-817e-5bc746c5c01f",
   "metadata": {},
   "outputs": [],
   "source": [
    "## drop minuteplayed \n",
    "r = r.drop(['minutesplayed'], axis=1)"
   ]
  },
  {
   "cell_type": "markdown",
   "id": "7fa553ca-4687-485b-b087-0261002a5b20",
   "metadata": {},
   "source": [
    "### Functions to Switch the rows to columns "
   ]
  },
  {
   "cell_type": "code",
   "execution_count": null,
   "id": "049daf7e-9f6c-4076-936b-07db934d35b0",
   "metadata": {},
   "outputs": [],
   "source": [
    "\"\"\" \n",
    "Function that changes the rows of each year to columns\n",
    "\n",
    "INPUT: the year (rank), the data needed, anything that needs to be dropped\n",
    "OUTPUT: the dataframe for that year \n",
    "\n",
    "\"\"\"\n",
    "def rows_to_columns(year, data, drop):\n",
    "    rapm_year = data[data['rank'] ==year].rename({'season':'year' + str(year),'RAPM_Off_Prediction': 'DRIP_Off_YEAR' + str(year),\n",
    "                                       'RAPM_Def_Prediction': 'DRIP_Def_YEAR'+ str(year)}, axis=1).drop(drop, axis=1)\n",
    "    return rapm_year"
   ]
  },
  {
   "cell_type": "code",
   "execution_count": null,
   "id": "41a5989e-9c14-4be4-8dac-4085ec3b9903",
   "metadata": {},
   "outputs": [],
   "source": [
    "\"\"\" \n",
    "Function that merges two dataframes as an outer merge\n",
    "\n",
    "INPUT: two dataframes\n",
    "OUTPUT: merged dataframe \n",
    "\n",
    "\"\"\"\n",
    "def merge(df1, df2, df3):\n",
    "    merged = pd.merge(pd.merge(df1, df2, on = 'playerid', how='outer'), df3, on='playerid', how='outer')\n",
    "    return merged"
   ]
  },
  {
   "cell_type": "code",
   "execution_count": null,
   "id": "9e50bfc5-a401-466c-9c95-70cc8e6f6bfd",
   "metadata": {},
   "outputs": [],
   "source": [
    "## all the years (11)\n",
    "r1 = rows_to_columns(1, r, ['rank', 'percent'])\n",
    "r2 = rows_to_columns(2, r, ['rank', 'percent'])\n",
    "r3 = rows_to_columns(3, r, ['rank', 'percent'])\n",
    "r4 = rows_to_columns(4, r, ['rank', 'percent'])\n",
    "r5 = rows_to_columns(5, r, ['rank', 'percent'])\n",
    "r6 = rows_to_columns(6, r, ['rank', 'percent'])\n",
    "r7 = rows_to_columns(7, r, ['rank', 'percent'])\n",
    "r8 = rows_to_columns(8, r, ['rank', 'percent'])\n",
    "r9 = rows_to_columns(9, r, ['rank', 'percent'])\n",
    "r10 = rows_to_columns(10, r, ['rank', 'percent'])\n",
    "r11 = rows_to_columns(11, r, ['rank', 'percent'])"
   ]
  },
  {
   "cell_type": "code",
   "execution_count": null,
   "id": "7df63abd-d3eb-414a-b8c4-24e573027a0f",
   "metadata": {},
   "outputs": [],
   "source": [
    "## merges \n",
    "r123 = merge(r1, r2, r3)\n",
    "r456 = merge(r4, r5, r6)\n",
    "r789 = merge(r7, r8, r9)\n",
    "r19 = merge(r123, r456, r789)\n",
    "rapm_merged1 = merge(r19, r10, r11)"
   ]
  },
  {
   "cell_type": "code",
   "execution_count": null,
   "id": "4113d2d8-5c8c-45f8-b68c-73048a36d81f",
   "metadata": {},
   "outputs": [],
   "source": [
    "rapm_merged1.to_csv(\"RAPM_Added_year.csv\")"
   ]
  },
  {
   "cell_type": "markdown",
   "id": "41124606-4354-4e32-8afb-6d0d755c3610",
   "metadata": {},
   "source": [
    "### Average"
   ]
  },
  {
   "cell_type": "code",
   "execution_count": null,
   "id": "81ad575d-f4bb-41f2-8b6c-9276714a3162",
   "metadata": {},
   "outputs": [],
   "source": [
    "rapm = RAPM[['playerid','player','season','RAPM_Off_Prediction','RAPM_Def_Prediction']]"
   ]
  },
  {
   "cell_type": "code",
   "execution_count": null,
   "id": "cf9349d5-23fd-41ea-8215-950585486b85",
   "metadata": {},
   "outputs": [],
   "source": [
    "## these players are in autostats data\n",
    "players = [1176246, 1343009, 1350414, 1350608, 1350808, 1350935, 1352114, 1374251]\n",
    "z = rapm[rapm['playerid'].isin(players)]\n",
    "z['season'] = z['season'].replace(0,2022)\n",
    "\n",
    "rapm = rapm.append(z)"
   ]
  },
  {
   "cell_type": "code",
   "execution_count": null,
   "id": "752b83b4-7836-4356-9f07-cb37e80a10f1",
   "metadata": {},
   "outputs": [],
   "source": [
    "## there is a bunch of seasons that are zero so going to drop it for now \n",
    "rapm = rapm[rapm['season'] > 0].reset_index(drop=True)"
   ]
  },
  {
   "cell_type": "code",
   "execution_count": null,
   "id": "c607ca40-21e2-4f3b-a448-44c9acd495bd",
   "metadata": {},
   "outputs": [],
   "source": [
    "## takes the average RAPM per season\n",
    "rapm = rapm.groupby(['playerid', 'season']).agg({'RAPM_Off_Prediction':'mean','RAPM_Def_Prediction':'mean'}).reset_index()"
   ]
  },
  {
   "cell_type": "code",
   "execution_count": null,
   "id": "b566cef8-ba84-482d-b38b-9b205eaa3598",
   "metadata": {},
   "outputs": [],
   "source": [
    "## creates a variable that gives what number year it is for each season\n",
    "rapm['rank'] = rapm.groupby(['playerid'])['season'].rank('dense', ascending=True)"
   ]
  },
  {
   "cell_type": "code",
   "execution_count": null,
   "id": "addcaa29-bf8f-4be9-b0d8-4d96125dfa7b",
   "metadata": {},
   "outputs": [],
   "source": [
    "## all the years (11)\n",
    "rapm1 = rows_to_columns(1, rapm, ['rank'])\n",
    "rapm2 = rows_to_columns(2, rapm, ['rank'])\n",
    "rapm3 = rows_to_columns(3, rapm, ['rank'])\n",
    "rapm4 = rows_to_columns(4, rapm, ['rank'])\n",
    "rapm5 = rows_to_columns(5, rapm, ['rank'])\n",
    "rapm6 = rows_to_columns(6, rapm, ['rank'])\n",
    "rapm7 = rows_to_columns(7, rapm, ['rank'])\n",
    "rapm8 = rows_to_columns(8, rapm, ['rank'])\n",
    "rapm9 = rows_to_columns(9, rapm, ['rank'])\n",
    "rapm10 = rows_to_columns(10, rapm, ['rank'])\n",
    "rapm11 = rows_to_columns(11, rapm, ['rank'])"
   ]
  },
  {
   "cell_type": "code",
   "execution_count": null,
   "id": "37489944-6017-4cd0-afa2-de43bfbf8b15",
   "metadata": {},
   "outputs": [],
   "source": [
    "## merges \n",
    "rapm123 = merge(rapm1, rapm2, rapm3)\n",
    "rapm456 = merge(rapm4, rapm5, rapm6)\n",
    "rapm789 = merge(rapm7, rapm8, rapm9)\n",
    "rapm19 = merge(rapm123, rapm456, rapm789)\n",
    "rapm_merged2 = merge(rapm19, rapm10, rapm11)"
   ]
  },
  {
   "cell_type": "code",
   "execution_count": null,
   "id": "249eda41-125c-4ea2-82a0-b3bad7cb7fbf",
   "metadata": {},
   "outputs": [],
   "source": [
    "rapm_merged2.to_csv('RAPM_AVG_year.csv')"
   ]
  },
  {
   "cell_type": "code",
   "execution_count": null,
   "id": "4a3712b2-c3bf-4363-8083-adde20144e63",
   "metadata": {},
   "outputs": [],
   "source": []
  }
 ],
 "metadata": {
  "kernelspec": {
   "display_name": "Python 3 (ipykernel)",
   "language": "python",
   "name": "python3"
  },
  "language_info": {
   "codemirror_mode": {
    "name": "ipython",
    "version": 3
   },
   "file_extension": ".py",
   "mimetype": "text/x-python",
   "name": "python",
   "nbconvert_exporter": "python",
   "pygments_lexer": "ipython3",
   "version": "3.9.12"
  }
 },
 "nbformat": 4,
 "nbformat_minor": 5
}
