{
 "cells": [
  {
   "cell_type": "markdown",
   "id": "6e1fe6bd-7e7d-4e1d-b665-f862781bc99f",
   "metadata": {},
   "source": [
    "# Final Draft Pick Model \n",
    "\n",
    "This notebook uses a neural network to predict what pick bin a player will be in with data consisting of NBA caliber players who have been drafted and not drafted but still played in NBA"
   ]
  },
  {
   "cell_type": "code",
   "execution_count": null,
   "id": "ea363da2-e546-4074-9abc-8a28ceb6bdfa",
   "metadata": {},
   "outputs": [],
   "source": [
    "import pandas as pd \n",
    "import numpy as np \n",
    "from sklearn.linear_model import LinearRegression\n",
    "from sklearn.model_selection import train_test_split\n",
    "import statsmodels.api as sm\n",
    "from statsmodels.formula.api import glm\n",
    "from sklearn.metrics import mean_squared_error\n",
    "import matplotlib.pyplot as plt\n",
    "from sklearn.linear_model import LassoCV\n",
    "from sklearn.preprocessing import StandardScaler\n",
    "from sklearn.linear_model import Lasso, LogisticRegression\n",
    "from sklearn.decomposition import PCA\n",
    "from sklearn.ensemble import RandomForestClassifier\n",
    "from sklearn.metrics import accuracy_score, confusion_matrix, classification_report\n",
    "from sklearn.linear_model import LassoCV\n",
    "import tensorflow as tf\n",
    "from sklearn.preprocessing import LabelEncoder\n",
    "from keras.utils import np_utils\n",
    "import imblearn\n",
    "from imblearn.over_sampling import SMOTE\n",
    "from collections import Counter\n",
    "from matplotlib import pyplot\n",
    "import seaborn as sns\n",
    "import matplotlib.pyplot as plt \n",
    "from sklearn.ensemble import RandomForestClassifier\n",
    "from sklearn.datasets import make_blobs\n",
    "from sklearn.model_selection import RepeatedStratifiedKFold\n",
    "from sklearn.model_selection import GridSearchCV\n",
    "from sklearn.linear_model import LogisticRegression\n",
    "from sklearn.feature_selection import RFECV\n",
    "from keras.models import Sequential\n",
    "from keras.layers import Dense, Dropout\n",
    "from keras.callbacks import EarlyStopping\n",
    "import keras\n",
    "from sklearn.utils import class_weight\n",
    "import keras\n",
    "from keras.models import Sequential\n",
    "from keras.layers import Dense\n",
    "\n",
    "import warnings\n",
    "warnings.filterwarnings(\"ignore\")"
   ]
  },
  {
   "cell_type": "markdown",
   "id": "d93395da-5c6e-4844-81b8-e663c23b8fdc",
   "metadata": {
    "tags": []
   },
   "source": [
    "## Converting Birth Date to Age"
   ]
  },
  {
   "cell_type": "code",
   "execution_count": null,
   "id": "4ba1c1ff-5f2e-435d-8243-fcf11649eec0",
   "metadata": {},
   "outputs": [],
   "source": [
    "# reading in the data \n",
    "roster = pd.read_csv(\"Roster Decode.csv\")\n",
    "pick = pd.read_csv(\"NBA Caliber Players.csv\")"
   ]
  },
  {
   "cell_type": "code",
   "execution_count": null,
   "id": "ac509485-96a4-4d2b-8062-defc857d195d",
   "metadata": {},
   "outputs": [],
   "source": [
    "seasons = pick[['PLAYER_ID', 'START_SEASON']]"
   ]
  },
  {
   "cell_type": "code",
   "execution_count": null,
   "id": "87c4471a-26ff-42df-be53-01f9bbbb87fa",
   "metadata": {},
   "outputs": [],
   "source": [
    "## grabbing only the columns needed \n",
    "df = roster[['PLAYER_ID', 'HEIGHT','WEIGHT', 'BIRTH_DATE', 'POSITION_ABBREV']]"
   ]
  },
  {
   "cell_type": "code",
   "execution_count": null,
   "id": "3d3d71d0-f0f4-4e1e-883f-22725cfb78c6",
   "metadata": {},
   "outputs": [],
   "source": [
    "print(len(df))\n",
    "print(len(roster))"
   ]
  },
  {
   "cell_type": "code",
   "execution_count": null,
   "id": "9a0457a2-f23b-4311-b310-2365bac5e08c",
   "metadata": {},
   "outputs": [],
   "source": [
    "df = pd.merge(df, seasons, how='inner', on='PLAYER_ID')"
   ]
  },
  {
   "cell_type": "code",
   "execution_count": null,
   "id": "f9962fd6-76c4-49b8-ac1f-a2c0f3c2cb8b",
   "metadata": {},
   "outputs": [],
   "source": [
    "df['BIRTH_DATE'].isna().sum()"
   ]
  },
  {
   "cell_type": "code",
   "execution_count": null,
   "id": "fa2d0ebb-1ab1-4b7c-b9cc-3955cb39f2fb",
   "metadata": {},
   "outputs": [],
   "source": [
    "## splitting the birth_date\n",
    "df['YEAR'] = df['BIRTH_DATE'].str.split(pat = '-', expand = True)[2]"
   ]
  },
  {
   "cell_type": "code",
   "execution_count": null,
   "id": "8df52a3c-a1f3-43f4-933c-f5c9f54dcbf4",
   "metadata": {},
   "outputs": [],
   "source": [
    "df['YEAR'] = df['YEAR'].fillna(0)\n",
    "df['START_SEASON'] = df['START_SEASON'].fillna(0)"
   ]
  },
  {
   "cell_type": "code",
   "execution_count": null,
   "id": "05f836e8-f925-480b-b674-3a3a14f8d7e7",
   "metadata": {},
   "outputs": [],
   "source": [
    "## converting column to an integer\n",
    "df['YEAR'] = df['YEAR'].astype('int')"
   ]
  },
  {
   "cell_type": "markdown",
   "id": "9c780fab-b601-437d-b514-14df16d59e8c",
   "metadata": {},
   "source": [
    "birth_date - july 1st of start year "
   ]
  },
  {
   "cell_type": "code",
   "execution_count": null,
   "id": "c2c47295-b3b4-4413-b77e-3f08f37c2ea0",
   "metadata": {},
   "outputs": [],
   "source": [
    "## creating a list of years \n",
    "years = []\n",
    "for i in df['YEAR']: \n",
    "    if i == 0: \n",
    "        years.append(i)\n",
    "    elif i > 23: \n",
    "        years.append(i+1900) \n",
    "    elif i <= 23: \n",
    "        years.append(i+2000)"
   ]
  },
  {
   "cell_type": "code",
   "execution_count": null,
   "id": "af16a0f6-2525-48ae-9582-3cdfc3b2a3f2",
   "metadata": {},
   "outputs": [],
   "source": [
    "# adding this list into the dataframe\n",
    "df['YEAR'] = years"
   ]
  },
  {
   "cell_type": "code",
   "execution_count": null,
   "id": "b97a4edf-fe38-442e-9888-ddefafa9f72f",
   "metadata": {},
   "outputs": [],
   "source": [
    "df['Age'] = df['START_SEASON'] - df['YEAR']"
   ]
  },
  {
   "cell_type": "code",
   "execution_count": null,
   "id": "5e6d92fb-c707-4b63-8e1c-e11df78cb95f",
   "metadata": {},
   "outputs": [],
   "source": [
    "a = df[(df['Age'] < 57) & (df['Age'] > 0)]\n",
    "a['Age'].mean()"
   ]
  },
  {
   "cell_type": "code",
   "execution_count": null,
   "id": "9f62279c-320e-483b-9b2d-4610baab8a54",
   "metadata": {},
   "outputs": [],
   "source": [
    "## filling in Age NAs\n",
    "df.loc[df[\"Age\"] > 56, \"Age\"] = a['Age'].mean()\n",
    "df.loc[df['Age'] <= 0, \"Age\"] = a['Age'].mean()"
   ]
  },
  {
   "cell_type": "code",
   "execution_count": null,
   "id": "1bbb2ea0-92ce-4c82-bb66-96238b002eb0",
   "metadata": {
    "tags": []
   },
   "outputs": [],
   "source": [
    "## getting the age of each player based on year \n",
    "\n",
    "# import pandas as pd\n",
    "# from datetime import datetime, date\n",
    "  \n",
    "# # This function converts given date to age\n",
    "# def age(born):\n",
    "#     born = datetime.strptime(born, \"%Y\").date()\n",
    "#     today = date.today()\n",
    "#     return today.year - born.year "
   ]
  },
  {
   "cell_type": "code",
   "execution_count": null,
   "id": "39d6b62b-4dc6-4202-9827-616e71b00692",
   "metadata": {
    "tags": []
   },
   "outputs": [],
   "source": [
    "# ## appling the function\n",
    "# df['Age'] = df['YEAR'].apply(age)"
   ]
  },
  {
   "cell_type": "code",
   "execution_count": null,
   "id": "ae9ef591-ebcd-4f00-ac5b-cabc7ccc8401",
   "metadata": {},
   "outputs": [],
   "source": [
    "## dropping unneeded columns\n",
    "df.drop(['BIRTH_DATE', 'YEAR'], axis=1, inplace=True)"
   ]
  },
  {
   "cell_type": "code",
   "execution_count": null,
   "id": "47d1520e-0cdd-4ab0-aa56-2fd8c90f8953",
   "metadata": {},
   "outputs": [],
   "source": [
    "## dropping duplicate players\n",
    "df = df.drop_duplicates(subset='PLAYER_ID', keep=\"first\")"
   ]
  },
  {
   "cell_type": "code",
   "execution_count": null,
   "id": "a2dd196a-d2fd-4bf1-8158-b0df1d3b112d",
   "metadata": {},
   "outputs": [],
   "source": [
    "## drop people who started before 2012\n",
    "df = df[df['START_SEASON'] >= 2012]"
   ]
  },
  {
   "cell_type": "code",
   "execution_count": null,
   "id": "fd58c312-cd13-4d7f-b8be-b39309d4316f",
   "metadata": {},
   "outputs": [],
   "source": [
    "df.rename({'POSITION_ABBREV': 'Pos'}, axis=1, inplace=True)"
   ]
  },
  {
   "cell_type": "code",
   "execution_count": null,
   "id": "74b7a7c6-76f3-40bf-8110-36d8d997bb2d",
   "metadata": {},
   "outputs": [],
   "source": [
    "df['Pos']=np.where(df['Pos']=='G','Guard',\n",
    "                                    np.where(df['Pos']=='PG','Guard',\n",
    "                                    np.where(df['Pos']=='SF','Wing',   \n",
    "                                    np.where(df['Pos']=='PF','Big',         \n",
    "                                    np.where(df['Pos']=='G/F','Wing',\n",
    "                                    np.where(df['Pos']=='F',\n",
    "                                    np.where(df['HEIGHT']<=79,'Wing','Big'),\n",
    "                                    np.where(df['Pos']=='SG',\n",
    "                                    np.where(df['HEIGHT']<=75,'Guard','Wing'),          \n",
    "                                    np.where(df['Pos']=='F/C','Big',\n",
    "                                    np.where(df['Pos']=='C','Big',\n",
    "                                    np.where(df['HEIGHT']<=75,'Guard',\n",
    "                                    np.where(df['HEIGHT']>79,'Big','Wing')))))))))))"
   ]
  },
  {
   "cell_type": "code",
   "execution_count": null,
   "id": "d2ee5f81-3a37-4d7f-a06c-7dd45b048ffe",
   "metadata": {},
   "outputs": [],
   "source": [
    "## Finding averages to replace NAs\n",
    "df.groupby('Pos').agg({'HEIGHT': 'mean', 'WEIGHT': 'mean'})"
   ]
  },
  {
   "cell_type": "code",
   "execution_count": null,
   "id": "ef819424-a739-481b-bd20-a47ccbcd7f92",
   "metadata": {},
   "outputs": [],
   "source": [
    "## replacing Height and Weight NAs\n",
    "df['HEIGHT'] = df.groupby('Pos')['HEIGHT'].apply(lambda x: x.fillna(x.mean()))\n",
    "df['WEIGHT'] = df.groupby('Pos')['WEIGHT'].apply(lambda x: x.fillna(x.mean()))\n"
   ]
  },
  {
   "cell_type": "markdown",
   "id": "6ec13696-9f10-438d-8da3-f4cb6fe0bb8b",
   "metadata": {
    "tags": []
   },
   "source": [
    "## Get pick data"
   ]
  },
  {
   "cell_type": "markdown",
   "id": "3df7a84d-c244-4522-9e9e-b57dba65d870",
   "metadata": {},
   "source": [
    "## Adding everything together"
   ]
  },
  {
   "cell_type": "code",
   "execution_count": null,
   "id": "80d09f5c-e485-48cd-8e04-1e99aa36781d",
   "metadata": {},
   "outputs": [],
   "source": [
    "## reading other data in \n",
    "data = pd.read_csv(\"incorporated_data.csv\").drop(['Unnamed: 0'], axis=1)"
   ]
  },
  {
   "cell_type": "code",
   "execution_count": null,
   "id": "b8aecd21-d2b0-4a26-93db-482d2e63eaad",
   "metadata": {},
   "outputs": [],
   "source": [
    "## dropping duplicates & replacing NAs\n",
    "pick = pick.fillna(70)"
   ]
  },
  {
   "cell_type": "code",
   "execution_count": null,
   "id": "b3b46ec8-7a15-4e0e-aa97-f38920a0c34f",
   "metadata": {},
   "outputs": [],
   "source": [
    "## making sure it is dropping the right duplicates\n",
    "print(len(data))\n",
    "print(len(pick))\n",
    "print(len(df))"
   ]
  },
  {
   "cell_type": "code",
   "execution_count": null,
   "id": "aa00e2d4-7ab0-43e1-9f98-fbe4d1e0d446",
   "metadata": {},
   "outputs": [],
   "source": [
    "## drop columns we don't need to merge in \n",
    "df.drop(['Pos','START_SEASON'], axis=1, inplace=True)\n",
    "#data.drop(['AutoStats Games'], axis=1, inplace=True)"
   ]
  },
  {
   "cell_type": "code",
   "execution_count": null,
   "id": "a0ed490c-018d-4aa9-9955-f0e73cd07951",
   "metadata": {},
   "outputs": [],
   "source": [
    "## merging the biography data and the autostats data \n",
    "data = pd.merge(data, df, how='left', on='PLAYER_ID')"
   ]
  },
  {
   "cell_type": "code",
   "execution_count": null,
   "id": "c2e77b27-d1c7-4af1-b0a4-bb9651543291",
   "metadata": {},
   "outputs": [],
   "source": [
    "## merging pick data \n",
    "data = pd.merge(data, pick, how='inner', on='PLAYER_ID')"
   ]
  },
  {
   "cell_type": "code",
   "execution_count": null,
   "id": "2f8cbabc-984e-478a-94cd-b9bbc0e491ca",
   "metadata": {},
   "outputs": [],
   "source": [
    "final_data = data.drop(['PICK_NUMBER_x'], axis=1)"
   ]
  },
  {
   "cell_type": "code",
   "execution_count": null,
   "id": "de0bdd27-5d49-4392-b5a2-61c67d511c64",
   "metadata": {},
   "outputs": [],
   "source": [
    "final_data.rename({'PICK_NUMBER_y':'PICK_NUMBER'}, axis=1, inplace=True)"
   ]
  },
  {
   "cell_type": "code",
   "execution_count": null,
   "id": "3937e571-bb19-4ef6-a630-ca3c8da149f5",
   "metadata": {},
   "outputs": [],
   "source": [
    "final_data.to_csv('final_data.csv')"
   ]
  },
  {
   "cell_type": "code",
   "execution_count": null,
   "id": "de213ae7-7239-437f-b1b7-747d4afab58b",
   "metadata": {},
   "outputs": [],
   "source": [
    "## replacing string with an integer to work with later \n",
    "# data['PICK_NUMBER_y'].replace('Other- NBA', 70.0, inplace=True)"
   ]
  },
  {
   "cell_type": "code",
   "execution_count": null,
   "id": "29192db9-ed9f-41c1-b066-0b14834abd64",
   "metadata": {},
   "outputs": [],
   "source": [
    "## making sure they are all numeric \n",
    "data['PICK_NUMBER_y'] = data['PICK_NUMBER_y'].astype('float')"
   ]
  },
  {
   "cell_type": "code",
   "execution_count": null,
   "id": "ac1a7311-6285-48f2-a7bc-244c8e56c71b",
   "metadata": {},
   "outputs": [],
   "source": [
    "## Redistributing the pick numbers \n",
    "\n",
    "data['PICK_NUMBER_y'].replace(dict.fromkeys([1,2], '1-2'), inplace=True)\n",
    "data['PICK_NUMBER_y'].replace(dict.fromkeys([3,4,5], '3-5'), inplace=True)\n",
    "data['PICK_NUMBER_y'].replace(dict.fromkeys([6,7,8], '6-8'), inplace=True)\n",
    "data['PICK_NUMBER_y'].replace(dict.fromkeys([9,10,11,12], '9-12'), inplace=True)\n",
    "\n",
    "data['PICK_NUMBER_y'].replace(dict.fromkeys([13,14,15,16,17], '13-17'), inplace=True)\n",
    "data['PICK_NUMBER_y'].replace(dict.fromkeys([18,19,20,21,22,23,24,25,26], '18-26'), inplace=True)\n",
    "data['PICK_NUMBER_y'].replace(dict.fromkeys([27,28,29,30,31,32,33,34,35,36,37,38,39], '27-39'), inplace=True)\n",
    "data['PICK_NUMBER_y'].replace(dict.fromkeys([40,41,42,43,44,45,46,47,48,49,49,50], '40-50'), inplace=True)\n",
    "data['PICK_NUMBER_y'].replace(dict.fromkeys([51,52,53,54,55,56,57,58,59,60,70], '51-Undrafted'), inplace=True)"
   ]
  },
  {
   "cell_type": "code",
   "execution_count": null,
   "id": "3f4099b4-19ca-4c43-86d2-ce5a11a850f6",
   "metadata": {},
   "outputs": [],
   "source": [
    "data['PICK_NUMBER_y'].unique()"
   ]
  },
  {
   "cell_type": "code",
   "execution_count": null,
   "id": "3a92529c-72e9-4807-951b-763e9c7349e2",
   "metadata": {},
   "outputs": [],
   "source": [
    "## grabbing start_season\n",
    "start = data['START_SEASON']"
   ]
  },
  {
   "cell_type": "code",
   "execution_count": null,
   "id": "cd50b713-561b-43f8-8fe1-96edfd4aaf64",
   "metadata": {},
   "outputs": [],
   "source": [
    "## dropping duplicate pick_number_x\n",
    "data = data.loc[:,~data.columns.duplicated()].copy()"
   ]
  },
  {
   "cell_type": "code",
   "execution_count": null,
   "id": "4f3f081f-8e7d-473b-b508-68597ef87090",
   "metadata": {
    "tags": []
   },
   "outputs": [],
   "source": [
    "# splits data into X and Y for Bins told to do\n",
    "X = data.drop(['PLAYER_ID', 'PICK_NUMBER_y','PICK_NUMBER_x', 'PLAYER', 'MAX_LEAGUE', 'PLAYER_GAMES', 'Drafted', 'START_SEASON'], axis=1)\n",
    "y = data[['PICK_NUMBER_x']]\n",
    "\n",
    "# Normalize the data to be between -1 and 1 (mean centered)\n",
    "X = (X-X.mean())/(X.max() - X.min())"
   ]
  },
  {
   "cell_type": "code",
   "execution_count": null,
   "id": "1510b27d-db32-4d07-82ec-8ac1cda89ade",
   "metadata": {},
   "outputs": [],
   "source": [
    "## Adding season back in \n",
    "X['START_SEASON'] = start\n",
    "## splitting the data based on season \n",
    "X_test = X[X['START_SEASON'].isin([2022,2023])]\n",
    "y_test = y.loc[X_test.index]\n",
    "\n",
    "X_train = X[(X['START_SEASON'] < 2022)]\n",
    "y_train = y.loc[X_train.index]\n",
    "\n",
    "## drop start season again \n",
    "\n",
    "X_train.drop(['START_SEASON'], axis=1, inplace=True)\n",
    "X_test.drop(['START_SEASON'], axis=1, inplace=True)"
   ]
  },
  {
   "cell_type": "code",
   "execution_count": null,
   "id": "a97aad26-e8d5-4b45-aa0a-1072b1ff9c7a",
   "metadata": {},
   "outputs": [],
   "source": [
    "(len(X_train) + len(X_test)) == len(data)"
   ]
  },
  {
   "cell_type": "markdown",
   "id": "c355755e-bc4b-4c43-bce1-971c68e5bd8a",
   "metadata": {},
   "source": [
    "## Recursive Feature Embedding"
   ]
  },
  {
   "cell_type": "code",
   "execution_count": null,
   "id": "f04c3144-fb3d-462b-9fe2-4838efe6dbba",
   "metadata": {},
   "outputs": [],
   "source": [
    "rfc = RandomForestClassifier()\n",
    "\n",
    "\n",
    "RFE_model = RFECV(\n",
    "    estimator = rfc, # the ML model\n",
    "    scoring = 'accuracy',  \n",
    "    cv=2)\n",
    "\n",
    "RFE_model.fit(X_train, y_train)"
   ]
  },
  {
   "cell_type": "code",
   "execution_count": null,
   "id": "0151f181-808e-4240-890f-5a15906eb64b",
   "metadata": {},
   "outputs": [],
   "source": [
    "mask = RFE_model.get_support()\n",
    "features = np.array(X_train.columns) \n",
    "best_features = features[mask]\n",
    " \n",
    "print(\"All features: \", X_train.shape[1])\n",
    "\n",
    "print(\"Selected best: \", best_features.shape[0])"
   ]
  },
  {
   "cell_type": "markdown",
   "id": "c12b1fbe-85db-4b9f-bd4b-a982f2e2ad84",
   "metadata": {},
   "source": [
    "Take out anything that isn't a percent or / and anything with rank\n",
    "\n",
    "anything that is a count (integer)"
   ]
  },
  {
   "cell_type": "code",
   "execution_count": null,
   "id": "ab6d1900-f1dd-419d-95b8-df1b7530c777",
   "metadata": {},
   "outputs": [],
   "source": [
    "for i in features[mask]:\n",
    "    print(\"'\" + i + \"',\")"
   ]
  },
  {
   "cell_type": "code",
   "execution_count": null,
   "id": "74ae389e-0dd9-4aa7-bed1-00eb9cf3e077",
   "metadata": {},
   "outputs": [],
   "source": [
    "cols = ['Offensive Points/Chance',\n",
    "'Defensive Points/Chance',\n",
    "'Offensive Transition%',\n",
    "'Defensive Transition%',\n",
    "'Points/Touch',\n",
    "'Transition Touch%',\n",
    "'Transition Points/Touch',\n",
    "'AutoStats FG%',\n",
    "'Contested Jumper FG%',\n",
    "'Uncontested Jumper FG%',\n",
    "'% of Jumpers Contested',\n",
    "'% of 3s Contested',\n",
    "'Off Dribble Jumper FG%',\n",
    "'Catch & Shoot Jumper FG%',\n",
    "'Catch & Shoot 3P%',\n",
    "'% of Shots at Rim',\n",
    "'Expected eFG%',\n",
    "'AutoStats FG% Defended',\n",
    "'Contested Jumper FG% Defended',\n",
    "'Uncontested Jumper FG% Defended',\n",
    "'% of Defended Jumpers Contested',\n",
    "'Contested 3P% Defended',\n",
    "'Uncontested 3P% Defended',\n",
    "'% of Defended 3s Contested',\n",
    "'Average Influence Score Defended',\n",
    "'Expected eFG% Defended',\n",
    "'Layup FG% Defended',\n",
    "'Led to Shot %',\n",
    "'Assist %',\n",
    "'Secondary Assist %',\n",
    "'FT Assist %',\n",
    "'Offensive Adjusted Rebound %',\n",
    "'Offensive Contested Rebound %',\n",
    "'% of Offensive Rebounds Contested',\n",
    "'Defensive Adjusted Rebound %',\n",
    "'Defensive Contested Rebound %',\n",
    "'% of Defensive Rebounds Contested',\n",
    "'Crash & Boxout %',\n",
    "'Drives/Touch',\n",
    "'Player Points/Drive',\n",
    "'Drives Defended/Defensive Chances',\n",
    "'Player Points/Drive Allowed',\n",
    "'Team Points/Drive Chance Allowed',\n",
    "'Player Points/Iso',\n",
    "'Team Points/Iso Chance',\n",
    "'Isos Defended/Defensive Chances',\n",
    "'Player Points/Iso Allowed',\n",
    "'Team Points/Iso Chance Allowed',\n",
    "'Postups/Touch',\n",
    "'Player Points/Postup',\n",
    "'Team Points/Postup Chance',\n",
    "'Postups Defended/Defensive Chances',\n",
    "'Player Points/Postup Allowed',\n",
    "'Team Points/Postup Chance Allowed',\n",
    "'BH- Screens/Touch',\n",
    "'BH- Player Points/Screen',\n",
    "'BH- Team Points/Chance',\n",
    "'BH- Pass to Screener %',\n",
    "'BH- Screener Points/Touch',\n",
    "'BH Def- Ball Handler Points/Screen',\n",
    "'BH Def- Team Points/Chance',\n",
    "'BH Def- Ball Handler Pass to Screener %',\n",
    "'BH Def- Screener Points/Touch',\n",
    "'SC- Screens/Chance',\n",
    "'SC- Ball Handler Points/Screen',\n",
    "'SC- Team Points/Chance',\n",
    "'SC- Combo Points/Screen',\n",
    "'SC Def- Ball Handler Points/Screen',\n",
    "'SC Def- Screens/Chance',\n",
    "'SC Def- Team Points/Chance',\n",
    "'SC Def- Ball Handler Pass to Screener %',\n",
    "'SC Def- Screener Points/Touch',\n",
    "'SC Def- Combo Points/Screen',\n",
    "'Closeout Touch %',\n",
    "'Team Points/Closeout Chance- Offense',\n",
    "'Closeouts/Chance',\n",
    "'Points/Closeout Allowed',\n",
    "'Team Points/Closeout Chance Allowed',\n",
    "'Full Closeout %',\n",
    "'Cutter- Screens/Chance',\n",
    "'Cutter- Team Points/Chance',\n",
    "'Cutter- Touches/Screen',\n",
    "'Cutter- Points/Touch',\n",
    "'Screener- Screens/Chance',\n",
    "'Screener- Team Points/Chance',\n",
    "'Screener- Cutter Touches/Screen',\n",
    "'Screener- Cutter Points/Touch',\n",
    "'Screener- Screener Touches/Screen',\n",
    "'Screener- Screener Points/Touch',\n",
    "'Cutter Def- Screens/Chance',\n",
    "'Cutter Def- Team Points/Chance',\n",
    "'Cutter Def- Cutter Touches/Screen',\n",
    "'Cutter Def- Cutter Points/Touch',\n",
    "'Cutter Def- Screener Touches/Screen',\n",
    "'Cutter Def- Screener Points/Touch',\n",
    "'Screener Def- Screens/Chance',\n",
    "'Screener Def- Team Points/Chance',\n",
    "'Screener Def- Cutter Touches/Screen',\n",
    "'Screener Def- Cutter Touch Points',\n",
    "'Screener Def- Screener Touches/Screen',\n",
    "'Screener Def- Screener Points/Touch',\n",
    "'Receiver- Handoffs/Touch',\n",
    "'Receiver- Points/Handoff',\n",
    "'Receiver- Team Points/Chance',\n",
    "'Setter- Handoffs/Touch',\n",
    "'Setter- Receiver Points/Handoff',\n",
    "'Receiver Defender- Handoffs/Chance',\n",
    "'Receiver Defender- Receiver Points/Handoff',\n",
    "'Receiver Defender- Team Points/Chance',\n",
    "'Setter Defender- Handoffs/Chance',\n",
    "'Setter Defender- Receiver Points/Handoff',\n",
    "'Setter Defender- Team Points/Chance',\n",
    "'Offensive Chances',\n",
    "'Defensive Chances',\n",
    "'FGM_30',\n",
    "'FGA_30',\n",
    "'TPM_30',\n",
    "'TPA_30',\n",
    "'FTM_30',\n",
    "'FTA_30',\n",
    "'FOULS_30',\n",
    "'BLOCKS_30',\n",
    "'STEALS_30',\n",
    "'ASSISTS_30',\n",
    "'OREB_30',\n",
    "'DREB_30',\n",
    "'TOV_30',\n",
    "'FG_PCT',\n",
    "'TP_PCT',\n",
    "'FT_PCT',\n",
    "'USG',\n",
    "'ASSIST_PCT',\n",
    "'BLOCK_PCT',\n",
    "'OREB_PCT',\n",
    "'DREB_PCT',\n",
    "'FTM_Rate',\n",
    "'STL_PCT',\n",
    "'TOV_PCT',\n",
    "'undraft_prob',\n",
    "'Age'] "
   ]
  },
  {
   "cell_type": "code",
   "execution_count": null,
   "id": "365b5a21-e253-48f5-8f78-2a45b79a545a",
   "metadata": {},
   "outputs": [],
   "source": [
    "X_train = X_train[cols]\n",
    "X_test = X_test[cols]"
   ]
  },
  {
   "cell_type": "markdown",
   "id": "67ec49e9-eac2-43a8-a4f5-2e24c861682f",
   "metadata": {},
   "source": [
    "## ANN"
   ]
  },
  {
   "cell_type": "markdown",
   "id": "0375fed2-a179-4612-a1b9-0b5a8ac65efa",
   "metadata": {},
   "source": [
    "### Same Bins as in AutoStats "
   ]
  },
  {
   "cell_type": "code",
   "execution_count": null,
   "id": "9c63e7c2-97fd-4109-a0af-07c112863d05",
   "metadata": {},
   "outputs": [],
   "source": [
    "y_train"
   ]
  },
  {
   "cell_type": "code",
   "execution_count": null,
   "id": "67da0373-cdf6-4248-b775-42cf4bce70cc",
   "metadata": {
    "tags": []
   },
   "outputs": [],
   "source": [
    "## convert the y variable to the bins from autostats \n",
    "y_train['PICK_NUMBER_y'].replace(dict.fromkeys([1,2], '1-2'), inplace=True)\n",
    "y_train['PICK_NUMBER_y'].replace(dict.fromkeys([3,4,5], '3-5'), inplace=True)\n",
    "y_train['PICK_NUMBER_y'].replace(dict.fromkeys([6,7,8], '6-8'), inplace=True)\n",
    "y_train['PICK_NUMBER_y'].replace(dict.fromkeys([9,10,11,12], '9-12'), inplace=True)\n",
    "y_train['PICK_NUMBER_y'].replace(dict.fromkeys([13,14,14,15,16,17], '13-17'), inplace=True)\n",
    "y_train['PICK_NUMBER_y'].replace(dict.fromkeys([18,19,20,21,22,23,24,25,26], '18-26'), inplace=True)\n",
    "\n",
    "y_train['PICK_NUMBER_y'].replace(dict.fromkeys([27,28,29,30,31,32,33,34,35,36,37,38,39], '27-39'), inplace=True)\n",
    "y_train['PICK_NUMBER_y'].replace(dict.fromkeys([40,41,42,43,44,45,46,47,48,49,50], '40-50'), inplace=True)\n",
    "y_train['PICK_NUMBER_y'].replace(dict.fromkeys([51,52,53,54,55,56,57,58,59,60,70], '51-Undrafted'), inplace=True)"
   ]
  },
  {
   "cell_type": "code",
   "execution_count": null,
   "id": "1640d0b8-d8a9-4703-9bd4-d196f64fa65c",
   "metadata": {},
   "outputs": [],
   "source": [
    "y_test['PICK_NUMBER_y'].replace(dict.fromkeys([1,2], '1-2'), inplace=True)\n",
    "y_test['PICK_NUMBER_y'].replace(dict.fromkeys([3,4,5], '3-5'), inplace=True)\n",
    "y_test['PICK_NUMBER_y'].replace(dict.fromkeys([6,7,8], '6-8'), inplace=True)\n",
    "y_test['PICK_NUMBER_y'].replace(dict.fromkeys([9,10,11,12], '9-12'), inplace=True)\n",
    "y_test['PICK_NUMBER_y'].replace(dict.fromkeys([13,14,14,15,16,17], '13-17'), inplace=True)\n",
    "y_test['PICK_NUMBER_y'].replace(dict.fromkeys([18,19,20,21,22,23,24,25,26], '18-26'), inplace=True)\n",
    "\n",
    "y_test['PICK_NUMBER_y'].replace(dict.fromkeys([27,28,29,30,31,32,33,34,35,36,37,38,39], '27-39'), inplace=True)\n",
    "y_test['PICK_NUMBER_y'].replace(dict.fromkeys([40,41,42,43,44,45,46,47,48,49,50], '40-50'), inplace=True)\n",
    "y_test['PICK_NUMBER_y'].replace(dict.fromkeys([51,52,53,54,55,56,57,58,59,60,70], '51-Undrafted'), inplace=True)"
   ]
  },
  {
   "cell_type": "code",
   "execution_count": null,
   "id": "55c0b1b8-e6c6-4b43-a942-aeebf7c8b1da",
   "metadata": {},
   "outputs": [],
   "source": [
    "# Convert X values to numpy array \n",
    "## These are already arrays\n",
    "X_train_array = np.array(X_train)\n",
    "X_test_array = np.array(X_test)\n",
    "\n",
    "# encode labels as integers for y_train \n",
    "encoder = LabelEncoder()\n",
    "encoder.fit(y_train)\n",
    "encoder.classes_ = np.array(['1-2', '3-5','6-8', '9-12','13-17', '18-26', '27-39', '40-50','51-Undrafted' ])\n",
    "encoded_Y_train = encoder.transform(y_train)\n",
    "# convert integers to dummy variables (i.e. one hot encoded)\n",
    "dummy_y_train = np_utils.to_categorical(encoded_Y_train)\n",
    "\n",
    "# encode labels as integers for y_test \n",
    "encoder = LabelEncoder()\n",
    "encoder.fit(y_test)\n",
    "encoder.classes_ = np.array(['1-2', '3-5','6-8', '9-12','13-17', '18-26', '27-39', '40-50','51-Undrafted' ])\n",
    "encoded_Y_test = encoder.transform(y_test)\n",
    "# convert integers to dummy variables (i.e. one hot encoded)\n",
    "dummy_y_test = np_utils.to_categorical(encoded_Y_test)\n",
    "\n",
    "list(encoder.classes_)"
   ]
  },
  {
   "cell_type": "code",
   "execution_count": null,
   "id": "0fad1ada-20b4-44ee-8bd0-469d469819a4",
   "metadata": {},
   "outputs": [],
   "source": [
    "y_train['PICK_NUMBER_y'].unique()"
   ]
  },
  {
   "cell_type": "code",
   "execution_count": null,
   "id": "59c56ac6-e0f9-495b-bd1a-23e02d8ae45b",
   "metadata": {},
   "outputs": [],
   "source": [
    "class_w = class_weight.compute_class_weight('balanced',\n",
    "                                                 classes = ['1-2','3-5','6-8','9-12','13-17','18-26','27-39','40-50','51-Undrafted'],\n",
    "                                                 y = y_train.values.reshape(-1))\n",
    "class_w"
   ]
  },
  {
   "cell_type": "code",
   "execution_count": null,
   "id": "ea92c14f-ace9-43d7-9da2-d9eb8bce458e",
   "metadata": {},
   "outputs": [],
   "source": [
    "for i, index in zip(class_w, range(0,10)): \n",
    "    r = print(index,\":\",i, \",\")"
   ]
  },
  {
   "cell_type": "code",
   "execution_count": null,
   "id": "a1088741-4014-4453-97ac-25346f434ac0",
   "metadata": {},
   "outputs": [],
   "source": [
    "class_weights = {0 : 7.30718954248366 ,\n",
    "1 : 6.211111111111111 ,\n",
    "2 : 5.400966183574879 ,\n",
    "3 : 3.8819444444444446 ,\n",
    "4 : 3.65359477124183 ,\n",
    "5 : 1.9111111111111112 ,\n",
    "6 : 1.4116161616161615 ,\n",
    "7 : 1.6345029239766082 ,\n",
    "8 : 0.16280763069753895}"
   ]
  },
  {
   "cell_type": "code",
   "execution_count": null,
   "id": "219d0fd1-521d-4362-badb-3c6fc34ef4eb",
   "metadata": {},
   "outputs": [],
   "source": [
    "# Neural network\n",
    "model2 = Sequential()\n",
    "model2.add(Dense(16, input_dim=len(X_train.columns), activation='relu'))\n",
    "model2.add(Dense(12, activation='relu'))\n",
    "model2.add(Dense(9, activation='softmax'))\n",
    "\n",
    "model2.compile(loss='categorical_crossentropy', optimizer='adam', metrics=['accuracy'])"
   ]
  },
  {
   "cell_type": "code",
   "execution_count": null,
   "id": "d556528e-0dd6-4ef0-873d-a35d83320563",
   "metadata": {},
   "outputs": [],
   "source": [
    "history2 = model2.fit(X_train_array, dummy_y_train, \n",
    "                      validation_data = (X_test_array, dummy_y_test), \n",
    "                      epochs=100, \n",
    "                      class_weight = class_weights, \n",
    "                      batch_size=32)"
   ]
  },
  {
   "cell_type": "code",
   "execution_count": null,
   "id": "7fe6a8a5-076b-4714-89c8-a431b92410eb",
   "metadata": {},
   "outputs": [],
   "source": [
    "import matplotlib.pyplot as plt\n",
    "plt.plot(history2.history['accuracy'])\n",
    "plt.plot(history2.history['val_accuracy'])\n",
    "plt.title('Model accuracy')\n",
    "plt.ylabel('Accuracy')\n",
    "plt.xlabel('Epoch')\n",
    "plt.legend(['Train', 'Test'], loc='upper left')\n",
    "plt.show()"
   ]
  },
  {
   "cell_type": "code",
   "execution_count": null,
   "id": "3cbd8202-eed7-4566-99dc-475bb882cd58",
   "metadata": {},
   "outputs": [],
   "source": [
    "pred = model2.predict(X_train_array)\n",
    "\n",
    "predictions = pred.argmax(axis=1)\n",
    "\n",
    "cm = confusion_matrix(encoded_Y_train, predictions)"
   ]
  },
  {
   "cell_type": "code",
   "execution_count": null,
   "id": "ccd57957-5bca-4686-984c-b11c3bac5133",
   "metadata": {},
   "outputs": [],
   "source": [
    "ax= plt.subplot()\n",
    "sns.heatmap(cm, annot=True, fmt='g', ax=ax);  #annot=True to annotate cells, ftm='g' to disable scientific notation\n",
    "\n",
    "# labels, title and ticks\n",
    "ax.set_xlabel('Predicted labels');ax.set_ylabel('True labels'); \n",
    "ax.set_title('Confusion Matrix'); \n",
    "ax.xaxis.set_ticklabels(['1-2','3-5','6-8','9-12','13-17','18-26','27-39','40-50','Other']); ax.yaxis.set_ticklabels(['1-2','3-5','6-8','9-12','13-17','18-26','27-39','40-50','Other']);"
   ]
  },
  {
   "cell_type": "code",
   "execution_count": null,
   "id": "38f9796f-05bc-4feb-ae7f-e4cbc7493477",
   "metadata": {},
   "outputs": [],
   "source": [
    "print(classification_report(encoded_Y_train, predictions))"
   ]
  },
  {
   "cell_type": "markdown",
   "id": "e1f6a03c-42b0-4015-8b1a-e4706016073b",
   "metadata": {},
   "source": [
    "#### CSV of Probabilites for Train (Bins Given) "
   ]
  },
  {
   "cell_type": "code",
   "execution_count": null,
   "id": "9bb4f00b-f4b9-4337-a047-64565fc0bde2",
   "metadata": {},
   "outputs": [],
   "source": [
    "## getting indexs of the players then grabbing those IDs\n",
    "index = list(X_train.index)\n",
    "player_ids = data.loc[index, ['PLAYER_ID','PLAYER','START_SEASON','PICK_NUMBER_y']]"
   ]
  },
  {
   "cell_type": "code",
   "execution_count": null,
   "id": "a1a7e052-bb47-4581-b9ea-56e6f680f5c9",
   "metadata": {},
   "outputs": [],
   "source": [
    "player_ids = player_ids.reset_index(drop=True)"
   ]
  },
  {
   "cell_type": "code",
   "execution_count": null,
   "id": "bf3f3e39-bd66-463e-bb56-8413e1c75ca4",
   "metadata": {},
   "outputs": [],
   "source": [
    "## creating a dataframe of the probabilities of those players \n",
    "train_probs_other = pd.DataFrame(pred, columns = ['1-2','3-5','6-8','9-12','13-17','18-26','27-39','40-50','Other'])\n",
    "result1 = pd.concat([player_ids, train_probs_other], axis=1)"
   ]
  },
  {
   "cell_type": "code",
   "execution_count": null,
   "id": "b3754227-2ed1-46d0-bfad-6c5fae6ffa06",
   "metadata": {},
   "outputs": [],
   "source": [
    "result1['START_SEASON'].unique()"
   ]
  },
  {
   "cell_type": "code",
   "execution_count": null,
   "id": "31a7562c-9487-4f72-bb27-f69305982f41",
   "metadata": {},
   "outputs": [],
   "source": [
    "result1.to_csv(\"prob_train_bins.csv\")"
   ]
  },
  {
   "cell_type": "markdown",
   "id": "cc812b43-08dd-4d43-8d67-87613a247d0c",
   "metadata": {
    "tags": []
   },
   "source": [
    "**TEST**"
   ]
  },
  {
   "cell_type": "code",
   "execution_count": null,
   "id": "aa6daab8-57f2-4bc3-9c5a-89fdcbb7559a",
   "metadata": {},
   "outputs": [],
   "source": [
    "ax= plt.subplot()\n",
    "sns.heatmap(cm, annot=True, fmt='g', ax=ax);  #annot=True to annotate cells, ftm='g' to disable scientific notation\n",
    "\n",
    "# labels, title and ticks\n",
    "ax.set_xlabel('Predicted labels');ax.set_ylabel('True labels'); \n",
    "ax.set_title('Confusion Matrix'); \n",
    "ax.xaxis.set_ticklabels(['1-2','3-5','6-8','9-12','13-17','18-26','27-39','40-50','Other']); ax.yaxis.set_ticklabels(['1-2','3-5','6-8','9-12','13-17','18-26','27-39','40-50','Other']);"
   ]
  },
  {
   "cell_type": "code",
   "execution_count": null,
   "id": "efa05b30-4b6f-43d3-8834-ee31a6300fb8",
   "metadata": {},
   "outputs": [],
   "source": [
    "print(classification_report(encoded_Y_test, predictions))"
   ]
  },
  {
   "cell_type": "markdown",
   "id": "334d417b-00f0-4164-8fbf-2a50f961dec0",
   "metadata": {},
   "source": [
    "#### CSV of probabilities for Test (Bins Given)"
   ]
  },
  {
   "cell_type": "code",
   "execution_count": null,
   "id": "f14f59bb-efa7-44a6-b5f0-f451176ce532",
   "metadata": {},
   "outputs": [],
   "source": [
    "## getting indexs of the players then grabbing those IDs\n",
    "index = list(X_test.index)\n",
    "player_ids = data.loc[index, ['PLAYER_ID','PLAYER','START_SEASON','PICK_NUMBER_y']]"
   ]
  },
  {
   "cell_type": "code",
   "execution_count": null,
   "id": "10534ea6-0730-4789-93d4-857ccfc8432a",
   "metadata": {},
   "outputs": [],
   "source": [
    "player_ids = player_ids.reset_index(drop=True)"
   ]
  },
  {
   "cell_type": "code",
   "execution_count": null,
   "id": "8ce8fe3f-c9ff-49fd-9de4-f2b8c0377d57",
   "metadata": {},
   "outputs": [],
   "source": [
    "## creating a dataframe of the probabilities of those players \n",
    "train_probs_other = pd.DataFrame(pred, columns = ['1-2','3-5','6-8','9-12','13-17','18-26','27-39','40-50','Other'])\n",
    "result2 = pd.concat([player_ids, train_probs_other], axis=1)"
   ]
  },
  {
   "cell_type": "code",
   "execution_count": null,
   "id": "4baedff6-4133-4efc-8d68-bd1580230d76",
   "metadata": {},
   "outputs": [],
   "source": [
    "result2.to_csv(\"prob_test_bins.csv\")"
   ]
  },
  {
   "cell_type": "markdown",
   "id": "e008e560-d0e4-4e5f-89a6-d958fbb8748d",
   "metadata": {},
   "source": [
    "#### CSV Probabilities Combined"
   ]
  },
  {
   "cell_type": "code",
   "execution_count": null,
   "id": "4828a585-5061-44ca-8e7a-70989df91629",
   "metadata": {},
   "outputs": [],
   "source": [
    "r = pd.concat([result1, result2])\n",
    "r['PLAYER_ID'].value_counts()"
   ]
  },
  {
   "cell_type": "code",
   "execution_count": null,
   "id": "4508a68c-3604-49eb-a97c-8ca8cd2f20f4",
   "metadata": {},
   "outputs": [],
   "source": [
    "r.to_csv(\"combined_prob_bins.csv\")"
   ]
  },
  {
   "cell_type": "code",
   "execution_count": null,
   "id": "63eeb1db-e7b5-4673-9845-a17254a3ac65",
   "metadata": {},
   "outputs": [],
   "source": [
    "import shap\n",
    "\n",
    "e = shap.KernelExplainer(model2, X_train_array)\n",
    "shap_values = e.shap_values(X_test_array)"
   ]
  },
  {
   "cell_type": "code",
   "execution_count": null,
   "id": "37c35889-ddeb-440e-bd84-ea69b9c92375",
   "metadata": {},
   "outputs": [],
   "source": [
    "shap.initjs()\n",
    "# visualize the first prediction's explanation with a force plot\n",
    "shap.force_plot(e.expected_value[0], shap_values[0][0], features = X_train.columns)"
   ]
  },
  {
   "cell_type": "code",
   "execution_count": null,
   "id": "2652c99f-80a9-452c-8003-8a8239665559",
   "metadata": {},
   "outputs": [],
   "source": [
    "shap.summary_plot(shap_values[0], X_test, feature_names=X_test.columns)"
   ]
  },
  {
   "cell_type": "code",
   "execution_count": null,
   "id": "983e4496-0fd3-4574-8488-50a1bea80140",
   "metadata": {},
   "outputs": [],
   "source": [
    "cat_test = encoder.inverse_transform(predictions)"
   ]
  },
  {
   "cell_type": "code",
   "execution_count": null,
   "id": "94a6fe4a-dce2-4d5e-9cff-731180672a43",
   "metadata": {},
   "outputs": [],
   "source": [
    "model2.predict(X_test)"
   ]
  },
  {
   "cell_type": "code",
   "execution_count": null,
   "id": "eb59214a-7fc0-4329-a544-994d9f547b38",
   "metadata": {
    "tags": []
   },
   "outputs": [],
   "source": [
    "def get_feature_importance(j, n):\n",
    "    s = accuracy_score(encoded_Y_test, predictions) # baseline score\n",
    "    total = 0.0\n",
    "    for i in range(n):\n",
    "        perm = np.random.permutation(range(X_test_array.shape[0]))\n",
    "        X_test_ = X_test_array.copy()\n",
    "        X_test_[:, j] = X_test_array[perm, j]\n",
    "        y_pred_ = model2.predict(X_test_)\n",
    "        predictions_ = y_pred_.argmax(axis=1)\n",
    "        s_ij = accuracy_score(encoded_Y_test, predictions_)\n",
    "        total += s_ij\n",
    "        return s - total / n"
   ]
  },
  {
   "cell_type": "code",
   "execution_count": null,
   "id": "cfffcd68-12cc-4580-b86f-552f49206fe8",
   "metadata": {},
   "outputs": [],
   "source": [
    "# Feature importances\n",
    "f = []\n",
    "for j in range(X_test_array.shape[1]):\n",
    "    f_j = get_feature_importance(j, 100)\n",
    "    f.append(f_j)\n",
    "# Plot\n",
    "plt.figure(figsize=(10, 5))\n",
    "plt.bar(range(X_test_array.shape[1]), f, color=\"r\", alpha=0.7)\n",
    "plt.xticks(ticks=range(X_test_array.shape[1]))\n",
    "plt.xlabel(\"Feature\")\n",
    "plt.ylabel(\"Importance\")\n",
    "plt.title(\"Feature importances (Iris data set)\")\n",
    "plt.show()"
   ]
  },
  {
   "cell_type": "markdown",
   "id": "3a02f347-db3f-41b7-bf13-add03a4387e2",
   "metadata": {},
   "source": [
    "### Bins I created "
   ]
  },
  {
   "cell_type": "code",
   "execution_count": null,
   "id": "feea4444-0ceb-4575-948a-728d263192b6",
   "metadata": {},
   "outputs": [],
   "source": [
    "## adding start season back in \n",
    "start = data['START_SEASON']"
   ]
  },
  {
   "cell_type": "code",
   "execution_count": null,
   "id": "bb5494d6-eb8e-4503-9b0d-1a2aacb8d63c",
   "metadata": {},
   "outputs": [],
   "source": [
    "# splits data into X and Y \n",
    "X = data.drop(['Drafted', 'PLAYER_ID','PLAYER', 'MAX_LEAGUE','START_SEASON', 'PICK_NUMBER_y','PICK_NUMBER_x', 'PLAYER_GAMES'], axis=1)\n",
    "y = data[['PICK_NUMBER_x']]\n",
    "\n",
    "# Normalize the data to be between -1 and 1 (mean centered)\n",
    "X = (X-X.mean())/(X.max() - X.min())\n"
   ]
  },
  {
   "cell_type": "code",
   "execution_count": null,
   "id": "65706536-d26e-4989-a598-66357904a5f0",
   "metadata": {},
   "outputs": [],
   "source": [
    "## deleting duplicated column\n",
    "y = y.loc[:,~y.columns.duplicated()].copy()"
   ]
  },
  {
   "cell_type": "code",
   "execution_count": null,
   "id": "cf426190-053f-4049-bd8d-01feedae8746",
   "metadata": {},
   "outputs": [],
   "source": [
    "X['START_SEASON'] = start"
   ]
  },
  {
   "cell_type": "code",
   "execution_count": null,
   "id": "6a2997fd-31ff-4cd2-86d7-c2b75214c0f2",
   "metadata": {},
   "outputs": [],
   "source": [
    "# splitting with new data\n",
    "# X_train, X_test, y_train, y_test = train_test_split(X, y, random_state=0, stratify = y)\n",
    "\n",
    "# y_train = y_train.astype('string')\n",
    "# y_test = y_test.astype('string')"
   ]
  },
  {
   "cell_type": "code",
   "execution_count": null,
   "id": "022fbfe2-99af-492a-8cae-a38d0fb4ee96",
   "metadata": {},
   "outputs": [],
   "source": [
    "## splitting the data based on season \n",
    "X_test = X[X['START_SEASON'] >= 2022]\n",
    "y_test = y.loc[X_test.index]\n",
    "\n",
    "X_train = X[(X['START_SEASON'] < 2022)]\n",
    "y_train = y.loc[X_train.index]"
   ]
  },
  {
   "cell_type": "code",
   "execution_count": null,
   "id": "078956d4-3081-4a01-965f-03c580c2b767",
   "metadata": {},
   "outputs": [],
   "source": [
    "X_train = X_train[cols]\n",
    "X_test = X_test[cols]"
   ]
  },
  {
   "cell_type": "code",
   "execution_count": null,
   "id": "802cc687-530b-4071-b3d1-c0eb63f56546",
   "metadata": {},
   "outputs": [],
   "source": [
    "# Convert X values to numpy array \n",
    "## These are already arrays\n",
    "X_train_array = np.array(X_train)\n",
    "X_test_array = np.array(X_test)\n",
    "\n",
    "# encode labels as integers for y_train \n",
    "encoder = LabelEncoder()\n",
    "encoder.fit(y_train)\n",
    "encoder.classes_ = np.array(['1-4', '5-8','9-12', '13-18','19-30', '31-60', 'Undrafted' ])\n",
    "encoded_Y_train = encoder.transform(y_train)\n",
    "# convert integers to dummy variables (i.e. one hot encoded)\n",
    "dummy_y_train = np_utils.to_categorical(encoded_Y_train)\n",
    "\n",
    "# encode labels as integers for y_test \n",
    "encoder = LabelEncoder()\n",
    "encoder.fit(y_test)\n",
    "encoder.classes_ = np.array(['1-4', '5-8','9-12', '13-18','19-30', '31-60', 'Undrafted' ])\n",
    "encoded_Y_test = encoder.transform(y_test)\n",
    "# convert integers to dummy variables (i.e. one hot encoded)\n",
    "dummy_y_test = np_utils.to_categorical(encoded_Y_test)\n",
    "\n",
    "list(encoder.classes_)"
   ]
  },
  {
   "cell_type": "code",
   "execution_count": null,
   "id": "c7e3e3ac-79fc-4c9d-ae3a-8606cebf447b",
   "metadata": {},
   "outputs": [],
   "source": [
    "class_w = class_weight.compute_class_weight('balanced',\n",
    "                                                 classes = ['1-4', '5-8', '9-12', '13-18', '19-30', '31-60', 'Undrafted'],\n",
    "                                                 y = y_train.values.reshape(-1))\n",
    "class_w"
   ]
  },
  {
   "cell_type": "code",
   "execution_count": null,
   "id": "4fd304d3-0acc-437c-b46b-c68e228449ea",
   "metadata": {},
   "outputs": [],
   "source": [
    "for i, index in zip(class_w, range(0,10)): \n",
    "    r = print(index,\":\",i, \",\")"
   ]
  },
  {
   "cell_type": "code",
   "execution_count": null,
   "id": "9b6afc66-18df-4b0a-9651-0410f21bb4c1",
   "metadata": {},
   "outputs": [],
   "source": [
    "class_weights = {0 : 5.15668202764977 ,\n",
    "1 : 5.512315270935961 ,\n",
    "2 : 4.995535714285714 ,\n",
    "3 : 3.806122448979592 ,\n",
    "4 : 1.8374384236453203 ,\n",
    "5 : 0.8282753515914137 ,\n",
    "6 : 0.22674772036474164}"
   ]
  },
  {
   "cell_type": "code",
   "execution_count": null,
   "id": "f5b6c9ad-9e2a-41cd-9ffd-dda4561952e4",
   "metadata": {},
   "outputs": [],
   "source": [
    "# Neural network\n",
    "model = Sequential()\n",
    "model.add(Dense(16, input_dim=len(X_train.columns), activation='relu'))\n",
    "model.add(Dense(12, activation='relu'))\n",
    "model.add(Dense(7, activation='softmax'))\n",
    "\n",
    "model.compile(loss='categorical_crossentropy', optimizer='adam', metrics=['accuracy'])"
   ]
  },
  {
   "cell_type": "code",
   "execution_count": null,
   "id": "89ec75fd-de04-484e-9662-fc4c90ef20f5",
   "metadata": {},
   "outputs": [],
   "source": [
    "history = model.fit(X_train_array, dummy_y_train, \n",
    "                      validation_data = (X_test_array, dummy_y_test), \n",
    "                      epochs=100, \n",
    "                      class_weight = class_weights, \n",
    "                      batch_size=32)"
   ]
  },
  {
   "cell_type": "code",
   "execution_count": null,
   "id": "61b24e30-a495-42af-b403-a77b58b579ee",
   "metadata": {},
   "outputs": [],
   "source": [
    "import matplotlib.pyplot as plt\n",
    "plt.plot(history.history['accuracy'])\n",
    "plt.plot(history.history['val_accuracy'])\n",
    "plt.title('Model accuracy')\n",
    "plt.ylabel('Accuracy')\n",
    "plt.xlabel('Epoch')\n",
    "plt.legend(['Train', 'Test'], loc='upper left')\n",
    "plt.show()"
   ]
  },
  {
   "cell_type": "code",
   "execution_count": null,
   "id": "90d97cf5-6752-4c1b-a338-1b483392c5d4",
   "metadata": {},
   "outputs": [],
   "source": [
    "pred = model.predict(X_train_array)\n",
    "\n",
    "predictions = pred.argmax(axis=1)\n",
    "\n",
    "cm = confusion_matrix(encoded_Y_train, predictions)"
   ]
  },
  {
   "cell_type": "code",
   "execution_count": null,
   "id": "67ec71ea-5de0-4eb0-989f-19ac59b815ca",
   "metadata": {},
   "outputs": [],
   "source": [
    "ax= plt.subplot()\n",
    "sns.heatmap(cm, annot=True, fmt='g', ax=ax);  #annot=True to annotate cells, ftm='g' to disable scientific notation\n",
    "\n",
    "# labels, title and ticks\n",
    "ax.set_xlabel('Predicted labels');ax.set_ylabel('True labels'); \n",
    "ax.set_title('Confusion Matrix'); \n",
    "ax.xaxis.set_ticklabels(['1-4', '5-8', '9-12', '13-18', '19-30', '31-60', 'Other- NBA']); ax.yaxis.set_ticklabels(['1-4', '5-8', '9-12', '13-18', '19-30', '31-60', 'Other- NBA']);"
   ]
  },
  {
   "cell_type": "code",
   "execution_count": null,
   "id": "782892b3-2637-462b-a294-d678c331b1b9",
   "metadata": {},
   "outputs": [],
   "source": [
    "print(classification_report(encoded_Y_train, predictions))"
   ]
  },
  {
   "cell_type": "markdown",
   "id": "3a24b3e8-4804-4733-ac72-1b5cd674edca",
   "metadata": {},
   "source": [
    "#### CSV of Probabilities for Train (My Bins) "
   ]
  },
  {
   "cell_type": "code",
   "execution_count": null,
   "id": "9c148406-3c5e-4e63-95ae-ae5331a28938",
   "metadata": {},
   "outputs": [],
   "source": [
    "## getting indexs of the players then grabbing those IDs\n",
    "index = list(X_train.index)\n",
    "player_ids = data.loc[index, ['PLAYER_ID','PLAYER','START_SEASON','PICK_NUMBER_x']]"
   ]
  },
  {
   "cell_type": "code",
   "execution_count": null,
   "id": "36d76463-ba62-43fd-ada9-3d63f376056f",
   "metadata": {},
   "outputs": [],
   "source": [
    "player_ids = player_ids.reset_index(drop=True)"
   ]
  },
  {
   "cell_type": "code",
   "execution_count": null,
   "id": "09777e15-4771-4107-8067-1294fdc895c6",
   "metadata": {},
   "outputs": [],
   "source": [
    "## creating a dataframe of the probabilities of those players \n",
    "train_probs_other = pd.DataFrame(pred, columns = ['1-4', '5-8', '9-12', '13-18', '19-30', '31-60', 'Undrafted'])\n",
    "result3 = pd.concat([player_ids, train_probs_other], axis=1)"
   ]
  },
  {
   "cell_type": "code",
   "execution_count": null,
   "id": "122df9ca-196b-4171-9776-969494a4c48c",
   "metadata": {},
   "outputs": [],
   "source": [
    "result3.to_csv(\"prob_train_mybins.csv\")"
   ]
  },
  {
   "cell_type": "markdown",
   "id": "653809ee-e1de-4295-a1d5-d6c9e61c42ca",
   "metadata": {
    "tags": []
   },
   "source": [
    "**TEST**"
   ]
  },
  {
   "cell_type": "code",
   "execution_count": null,
   "id": "1796cbb3-c43e-48e9-8c8c-13bf0f7db0f2",
   "metadata": {},
   "outputs": [],
   "source": [
    "pred = model.predict(X_test_array)\n",
    "\n",
    "predictions = pred.argmax(axis=1)\n",
    "\n",
    "cm = confusion_matrix(encoded_Y_test, predictions)"
   ]
  },
  {
   "cell_type": "code",
   "execution_count": null,
   "id": "bc402baa-d9e2-4ed7-80ba-a7b95c799125",
   "metadata": {},
   "outputs": [],
   "source": [
    "ax= plt.subplot()\n",
    "sns.heatmap(cm, annot=True, fmt='g', ax=ax);  #annot=True to annotate cells, ftm='g' to disable scientific notation\n",
    "\n",
    "# labels, title and ticks\n",
    "ax.set_xlabel('Predicted labels');ax.set_ylabel('True labels'); \n",
    "ax.set_title('Confusion Matrix'); \n",
    "ax.xaxis.set_ticklabels(['1-4', '5-8', '9-12', '13-18', '19-30', '31-60', 'Undrafted']); ax.yaxis.set_ticklabels(['1-4', '5-8', '9-12', '13-18', '19-30', '31-60', 'Other- NBA']);"
   ]
  },
  {
   "cell_type": "code",
   "execution_count": null,
   "id": "7fc7cf73-87dc-441b-bea9-ce058d767a6c",
   "metadata": {},
   "outputs": [],
   "source": [
    "print(classification_report(encoded_Y_test, predictions))"
   ]
  },
  {
   "cell_type": "markdown",
   "id": "04a5a8f8-5fa2-4d88-997b-d5a9fdd59d15",
   "metadata": {},
   "source": [
    "#### CSV of Probabilities for Test (MyBins)"
   ]
  },
  {
   "cell_type": "code",
   "execution_count": null,
   "id": "dade6343-8fa0-46bd-9f39-6f49a3134ad7",
   "metadata": {},
   "outputs": [],
   "source": [
    "## getting indexs of the players then grabbing those IDs\n",
    "index = list(X_test.index)\n",
    "player_ids = data.loc[index, ['PLAYER_ID','PLAYER','START_SEASON','PICK_NUMBER_x']]"
   ]
  },
  {
   "cell_type": "code",
   "execution_count": null,
   "id": "0a40651c-e969-419b-b184-99234e23cde0",
   "metadata": {},
   "outputs": [],
   "source": [
    "player_ids = player_ids.reset_index(drop=True)"
   ]
  },
  {
   "cell_type": "code",
   "execution_count": null,
   "id": "2ca0a2dd-8df3-4a18-987f-2544d68be5d7",
   "metadata": {},
   "outputs": [],
   "source": [
    "## creating a dataframe of the probabilities of those players \n",
    "train_probs_other = pd.DataFrame(pred, columns = ['1-4', '5-8', '9-12', '13-18', '19-30', '31-60', 'Undrafted'])\n",
    "result4 = pd.concat([player_ids, train_probs_other], axis=1)"
   ]
  },
  {
   "cell_type": "code",
   "execution_count": null,
   "id": "42ef485f-1f6f-485e-9c9a-f1aa810064e8",
   "metadata": {},
   "outputs": [],
   "source": [
    "result4.to_csv(\"prob_test_mybins.csv\")"
   ]
  },
  {
   "cell_type": "markdown",
   "id": "45c3078c-b8f3-4482-a04e-3724daea535e",
   "metadata": {},
   "source": [
    "#### CSV of Probabilities Combined (My Bins) "
   ]
  },
  {
   "cell_type": "code",
   "execution_count": null,
   "id": "70613a74-ce2e-454d-8a69-90afca4baf6d",
   "metadata": {},
   "outputs": [],
   "source": [
    "r2 = pd.concat([result3, result4])\n",
    "r2['PLAYER_ID'].value_counts()"
   ]
  },
  {
   "cell_type": "code",
   "execution_count": null,
   "id": "2614020a-8aa1-46d3-bdbc-5a80d01b6197",
   "metadata": {},
   "outputs": [],
   "source": [
    "r2.to_csv(\"combined_prob_mybins.csv\")"
   ]
  },
  {
   "cell_type": "code",
   "execution_count": null,
   "id": "7a20d728-cdc8-4bbb-8040-cc857cc503ff",
   "metadata": {},
   "outputs": [],
   "source": [
    "com = pd.read_csv(\"combined_prob_mybins.csv\") "
   ]
  },
  {
   "cell_type": "code",
   "execution_count": null,
   "id": "de6b8267-b753-4f73-a40d-a0dd674c75e4",
   "metadata": {},
   "outputs": [],
   "source": [
    "com[com['PLAYER_ID'].isin([1373356, 1349630])]"
   ]
  },
  {
   "cell_type": "code",
   "execution_count": null,
   "id": "518ebe17-8705-440b-90ba-dce8cce9e85b",
   "metadata": {},
   "outputs": [],
   "source": []
  }
 ],
 "metadata": {
  "kernelspec": {
   "display_name": "Python 3 (ipykernel)",
   "language": "python",
   "name": "python3"
  },
  "language_info": {
   "codemirror_mode": {
    "name": "ipython",
    "version": 3
   },
   "file_extension": ".py",
   "mimetype": "text/x-python",
   "name": "python",
   "nbconvert_exporter": "python",
   "pygments_lexer": "ipython3",
   "version": "3.9.12"
  }
 },
 "nbformat": 4,
 "nbformat_minor": 5
}
