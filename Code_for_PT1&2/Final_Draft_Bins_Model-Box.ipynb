{
 "cells": [
  {
   "cell_type": "markdown",
   "id": "6e1fe6bd-7e7d-4e1d-b665-f862781bc99f",
   "metadata": {},
   "source": [
    "# Final Draft Pick Model \n",
    "\n",
    "This notebook uses a neural network to predict what pick bin a player will be in with data consisting of NBA caliber players who have been drafted and not drafted but still played in NBA"
   ]
  },
  {
   "cell_type": "code",
   "execution_count": null,
   "id": "ea363da2-e546-4074-9abc-8a28ceb6bdfa",
   "metadata": {},
   "outputs": [],
   "source": [
    "import pandas as pd \n",
    "import numpy as np \n",
    "from sklearn.linear_model import LinearRegression\n",
    "from sklearn.model_selection import train_test_split\n",
    "import statsmodels.api as sm\n",
    "from statsmodels.formula.api import glm\n",
    "from sklearn.metrics import mean_squared_error\n",
    "import matplotlib.pyplot as plt\n",
    "from sklearn.linear_model import LassoCV\n",
    "from sklearn.preprocessing import StandardScaler\n",
    "from sklearn.linear_model import Lasso, LogisticRegression\n",
    "from sklearn.decomposition import PCA\n",
    "from sklearn.ensemble import RandomForestClassifier\n",
    "from sklearn.metrics import accuracy_score, confusion_matrix, classification_report\n",
    "from sklearn.linear_model import LassoCV\n",
    "import tensorflow as tf\n",
    "from sklearn.preprocessing import LabelEncoder\n",
    "from keras.utils import np_utils\n",
    "import imblearn\n",
    "from imblearn.over_sampling import SMOTE\n",
    "from collections import Counter\n",
    "from matplotlib import pyplot\n",
    "import seaborn as sns\n",
    "import matplotlib.pyplot as plt \n",
    "from sklearn.ensemble import RandomForestClassifier\n",
    "from sklearn.datasets import make_blobs\n",
    "from sklearn.model_selection import RepeatedStratifiedKFold\n",
    "from sklearn.model_selection import GridSearchCV\n",
    "from sklearn.linear_model import LogisticRegression\n",
    "from sklearn.feature_selection import RFECV\n",
    "from keras.models import Sequential\n",
    "from keras.layers import Dense, Dropout\n",
    "from keras.callbacks import EarlyStopping\n",
    "import keras\n",
    "from sklearn.utils import class_weight\n",
    "import keras\n",
    "from keras.models import Sequential\n",
    "from keras.layers import Dense\n",
    "\n",
    "import warnings\n",
    "warnings.filterwarnings(\"ignore\")"
   ]
  },
  {
   "cell_type": "code",
   "execution_count": null,
   "id": "4ba1c1ff-5f2e-435d-8243-fcf11649eec0",
   "metadata": {},
   "outputs": [],
   "source": [
    "# reading in the data \n",
    "roster = pd.read_csv(\"Roster Decode.csv\")\n",
    "pick = pd.read_csv(\"NBA Caliber Players.csv\")"
   ]
  },
  {
   "cell_type": "code",
   "execution_count": null,
   "id": "ac509485-96a4-4d2b-8062-defc857d195d",
   "metadata": {},
   "outputs": [],
   "source": [
    "seasons = pick[['PLAYER_ID', 'START_SEASON']]"
   ]
  },
  {
   "cell_type": "code",
   "execution_count": null,
   "id": "87c4471a-26ff-42df-be53-01f9bbbb87fa",
   "metadata": {},
   "outputs": [],
   "source": [
    "## grabbing only the columns needed \n",
    "df = roster[['PLAYER_ID', 'HEIGHT','WEIGHT', 'BIRTH_DATE', 'POSITION_ABBREV']]"
   ]
  },
  {
   "cell_type": "code",
   "execution_count": null,
   "id": "3d3d71d0-f0f4-4e1e-883f-22725cfb78c6",
   "metadata": {},
   "outputs": [],
   "source": [
    "print(len(df))\n",
    "print(len(roster))"
   ]
  },
  {
   "cell_type": "code",
   "execution_count": null,
   "id": "9a0457a2-f23b-4311-b310-2365bac5e08c",
   "metadata": {},
   "outputs": [],
   "source": [
    "df = pd.merge(df, seasons, how='inner', on='PLAYER_ID')"
   ]
  },
  {
   "cell_type": "code",
   "execution_count": null,
   "id": "f9962fd6-76c4-49b8-ac1f-a2c0f3c2cb8b",
   "metadata": {},
   "outputs": [],
   "source": [
    "df['BIRTH_DATE'].isna().sum()"
   ]
  },
  {
   "cell_type": "code",
   "execution_count": null,
   "id": "fa2d0ebb-1ab1-4b7c-b9cc-3955cb39f2fb",
   "metadata": {},
   "outputs": [],
   "source": [
    "## splitting the birth_date\n",
    "df['YEAR'] = df['BIRTH_DATE'].str.split(pat = '-', expand = True)[2]"
   ]
  },
  {
   "cell_type": "code",
   "execution_count": null,
   "id": "8df52a3c-a1f3-43f4-933c-f5c9f54dcbf4",
   "metadata": {},
   "outputs": [],
   "source": [
    "df['YEAR'] = df['YEAR'].fillna(0)\n",
    "df['START_SEASON'] = df['START_SEASON'].fillna(0)"
   ]
  },
  {
   "cell_type": "code",
   "execution_count": null,
   "id": "05f836e8-f925-480b-b674-3a3a14f8d7e7",
   "metadata": {},
   "outputs": [],
   "source": [
    "## converting column to an integer\n",
    "df['YEAR'] = df['YEAR'].astype('int')"
   ]
  },
  {
   "cell_type": "markdown",
   "id": "9c780fab-b601-437d-b514-14df16d59e8c",
   "metadata": {},
   "source": [
    "birth_date - july 1st of start year "
   ]
  },
  {
   "cell_type": "code",
   "execution_count": null,
   "id": "c2c47295-b3b4-4413-b77e-3f08f37c2ea0",
   "metadata": {},
   "outputs": [],
   "source": [
    "## creating a list of years \n",
    "years = []\n",
    "for i in df['YEAR']: \n",
    "    if i == 0: \n",
    "        years.append(i)\n",
    "    elif i > 23: \n",
    "        years.append(i+1900) \n",
    "    elif i <= 23: \n",
    "        years.append(i+2000)"
   ]
  },
  {
   "cell_type": "code",
   "execution_count": null,
   "id": "af16a0f6-2525-48ae-9582-3cdfc3b2a3f2",
   "metadata": {},
   "outputs": [],
   "source": [
    "# adding this list into the dataframe\n",
    "df['YEAR'] = years"
   ]
  },
  {
   "cell_type": "code",
   "execution_count": null,
   "id": "b97a4edf-fe38-442e-9888-ddefafa9f72f",
   "metadata": {},
   "outputs": [],
   "source": [
    "df['Age'] = df['START_SEASON'] - df['YEAR']"
   ]
  },
  {
   "cell_type": "code",
   "execution_count": null,
   "id": "5e6d92fb-c707-4b63-8e1c-e11df78cb95f",
   "metadata": {},
   "outputs": [],
   "source": [
    "a = df[(df['Age'] < 57) & (df['Age'] > 0)]\n",
    "a['Age'].mean()"
   ]
  },
  {
   "cell_type": "code",
   "execution_count": null,
   "id": "9f62279c-320e-483b-9b2d-4610baab8a54",
   "metadata": {},
   "outputs": [],
   "source": [
    "## filling in Age NAs\n",
    "df.loc[df[\"Age\"] > 56, \"Age\"] = a['Age'].mean()\n",
    "df.loc[df['Age'] <= 0, \"Age\"] = a['Age'].mean()"
   ]
  },
  {
   "cell_type": "code",
   "execution_count": null,
   "id": "1bbb2ea0-92ce-4c82-bb66-96238b002eb0",
   "metadata": {
    "tags": []
   },
   "outputs": [],
   "source": [
    "## getting the age of each player based on year \n",
    "\n",
    "# import pandas as pd\n",
    "# from datetime import datetime, date\n",
    "  \n",
    "# # This function converts given date to age\n",
    "# def age(born):\n",
    "#     born = datetime.strptime(born, \"%Y\").date()\n",
    "#     today = date.today()\n",
    "#     return today.year - born.year "
   ]
  },
  {
   "cell_type": "code",
   "execution_count": null,
   "id": "39d6b62b-4dc6-4202-9827-616e71b00692",
   "metadata": {
    "tags": []
   },
   "outputs": [],
   "source": [
    "# ## appling the function\n",
    "# df['Age'] = df['YEAR'].apply(age)"
   ]
  },
  {
   "cell_type": "code",
   "execution_count": null,
   "id": "ae9ef591-ebcd-4f00-ac5b-cabc7ccc8401",
   "metadata": {},
   "outputs": [],
   "source": [
    "## dropping unneeded columns\n",
    "df.drop(['BIRTH_DATE', 'YEAR'], axis=1, inplace=True)"
   ]
  },
  {
   "cell_type": "code",
   "execution_count": null,
   "id": "47d1520e-0cdd-4ab0-aa56-2fd8c90f8953",
   "metadata": {},
   "outputs": [],
   "source": [
    "## dropping duplicate players\n",
    "df = df.drop_duplicates(subset='PLAYER_ID', keep=\"first\")"
   ]
  },
  {
   "cell_type": "code",
   "execution_count": null,
   "id": "a2dd196a-d2fd-4bf1-8158-b0df1d3b112d",
   "metadata": {},
   "outputs": [],
   "source": [
    "## drop people who started before 2012\n",
    "df = df[df['START_SEASON'] >= 2012]"
   ]
  },
  {
   "cell_type": "code",
   "execution_count": null,
   "id": "fd58c312-cd13-4d7f-b8be-b39309d4316f",
   "metadata": {},
   "outputs": [],
   "source": [
    "df.rename({'POSITION_ABBREV': 'Pos'}, axis=1, inplace=True)"
   ]
  },
  {
   "cell_type": "code",
   "execution_count": null,
   "id": "74b7a7c6-76f3-40bf-8110-36d8d997bb2d",
   "metadata": {},
   "outputs": [],
   "source": [
    "df['Pos']=np.where(df['Pos']=='G','Guard',\n",
    "                                    np.where(df['Pos']=='PG','Guard',\n",
    "                                    np.where(df['Pos']=='SF','Wing',   \n",
    "                                    np.where(df['Pos']=='PF','Big',         \n",
    "                                    np.where(df['Pos']=='G/F','Wing',\n",
    "                                    np.where(df['Pos']=='F',\n",
    "                                    np.where(df['HEIGHT']<=79,'Wing','Big'),\n",
    "                                    np.where(df['Pos']=='SG',\n",
    "                                    np.where(df['HEIGHT']<=75,'Guard','Wing'),          \n",
    "                                    np.where(df['Pos']=='F/C','Big',\n",
    "                                    np.where(df['Pos']=='C','Big',\n",
    "                                    np.where(df['HEIGHT']<=75,'Guard',\n",
    "                                    np.where(df['HEIGHT']>79,'Big','Wing')))))))))))"
   ]
  },
  {
   "cell_type": "code",
   "execution_count": null,
   "id": "d2ee5f81-3a37-4d7f-a06c-7dd45b048ffe",
   "metadata": {},
   "outputs": [],
   "source": [
    "## Finding averages to replace NAs\n",
    "df.groupby('Pos').agg({'HEIGHT': 'mean', 'WEIGHT': 'mean'})"
   ]
  },
  {
   "cell_type": "code",
   "execution_count": null,
   "id": "ef819424-a739-481b-bd20-a47ccbcd7f92",
   "metadata": {},
   "outputs": [],
   "source": [
    "## replacing Height and Weight NAs\n",
    "df['HEIGHT'] = df.groupby('Pos')['HEIGHT'].apply(lambda x: x.fillna(x.mean()))\n",
    "df['WEIGHT'] = df.groupby('Pos')['WEIGHT'].apply(lambda x: x.fillna(x.mean()))\n"
   ]
  },
  {
   "cell_type": "code",
   "execution_count": null,
   "id": "80d09f5c-e485-48cd-8e04-1e99aa36781d",
   "metadata": {},
   "outputs": [],
   "source": [
    "## reading other data in \n",
    "data = pd.read_csv(\"incorporated_data.csv\").drop(['Unnamed: 0'], axis=1)"
   ]
  },
  {
   "cell_type": "code",
   "execution_count": null,
   "id": "b8aecd21-d2b0-4a26-93db-482d2e63eaad",
   "metadata": {},
   "outputs": [],
   "source": [
    "## dropping duplicates & replacing NAs\n",
    "pick = pick.fillna(70)"
   ]
  },
  {
   "cell_type": "code",
   "execution_count": null,
   "id": "b3b46ec8-7a15-4e0e-aa97-f38920a0c34f",
   "metadata": {},
   "outputs": [],
   "source": [
    "## making sure it is dropping the right duplicates\n",
    "print(len(data))\n",
    "print(len(pick))\n",
    "print(len(df))"
   ]
  },
  {
   "cell_type": "code",
   "execution_count": null,
   "id": "aa00e2d4-7ab0-43e1-9f98-fbe4d1e0d446",
   "metadata": {},
   "outputs": [],
   "source": [
    "## drop columns we don't need to merge in \n",
    "df.drop(['Pos','START_SEASON'], axis=1, inplace=True)\n",
    "#data.drop(['AutoStats Games'], axis=1, inplace=True)"
   ]
  },
  {
   "cell_type": "code",
   "execution_count": null,
   "id": "a0ed490c-018d-4aa9-9955-f0e73cd07951",
   "metadata": {},
   "outputs": [],
   "source": [
    "## merging the biography data and the autostats data \n",
    "data = pd.merge(data, df, how='left', on='PLAYER_ID')"
   ]
  },
  {
   "cell_type": "code",
   "execution_count": null,
   "id": "c2e77b27-d1c7-4af1-b0a4-bb9651543291",
   "metadata": {},
   "outputs": [],
   "source": [
    "## merging pick data \n",
    "data = pd.merge(data, pick, how='inner', on='PLAYER_ID')"
   ]
  },
  {
   "cell_type": "code",
   "execution_count": null,
   "id": "2f8cbabc-984e-478a-94cd-b9bbc0e491ca",
   "metadata": {},
   "outputs": [],
   "source": [
    "final_data = data.drop(['PICK_NUMBER_x'], axis=1)"
   ]
  },
  {
   "cell_type": "code",
   "execution_count": null,
   "id": "de0bdd27-5d49-4392-b5a2-61c67d511c64",
   "metadata": {},
   "outputs": [],
   "source": [
    "final_data.rename({'PICK_NUMBER_y':'PICK_NUMBER'}, axis=1, inplace=True)"
   ]
  },
  {
   "cell_type": "code",
   "execution_count": null,
   "id": "3937e571-bb19-4ef6-a630-ca3c8da149f5",
   "metadata": {},
   "outputs": [],
   "source": [
    "final_data.to_csv('final_data.csv')"
   ]
  },
  {
   "cell_type": "code",
   "execution_count": null,
   "id": "de213ae7-7239-437f-b1b7-747d4afab58b",
   "metadata": {},
   "outputs": [],
   "source": [
    "## replacing string with an integer to work with later \n",
    "# data['PICK_NUMBER_y'].replace('Other- NBA', 70.0, inplace=True)"
   ]
  },
  {
   "cell_type": "markdown",
   "id": "578b3263-42e1-4263-afa6-ddc6c7bf3c2f",
   "metadata": {
    "tags": []
   },
   "source": [
    "# Box Stuff"
   ]
  },
  {
   "cell_type": "code",
   "execution_count": null,
   "id": "794085c9-f096-4810-9ac2-be30775bdd18",
   "metadata": {},
   "outputs": [],
   "source": [
    "pick = pd.read_csv(\"NBA Caliber Players.csv\")\n",
    "seasons = pick[['PLAYER_ID', 'START_SEASON']]"
   ]
  },
  {
   "cell_type": "code",
   "execution_count": null,
   "id": "aa029856-7445-4b95-8281-33acc32c815d",
   "metadata": {},
   "outputs": [],
   "source": [
    "data = pd.read_csv('incorporated_data-Box.csv').drop(['Unnamed: 0', 'Drafted', 'PLAYER_GAMES'], axis=1)"
   ]
  },
  {
   "cell_type": "code",
   "execution_count": null,
   "id": "c6bd5d43-d3b0-44f6-b4a1-72f5fbf78d4f",
   "metadata": {},
   "outputs": [],
   "source": [
    "data = pd.merge(seasons, data, on='PLAYER_ID', how='inner')"
   ]
  },
  {
   "cell_type": "code",
   "execution_count": null,
   "id": "3a92529c-72e9-4807-951b-763e9c7349e2",
   "metadata": {
    "tags": []
   },
   "outputs": [],
   "source": [
    "## grabbing start_season\n",
    "start = data['START_SEASON']"
   ]
  },
  {
   "cell_type": "code",
   "execution_count": null,
   "id": "4f3f081f-8e7d-473b-b508-68597ef87090",
   "metadata": {
    "tags": []
   },
   "outputs": [],
   "source": [
    "# splits data into X and Y for Bins told to do\n",
    "X = data.drop(['PLAYER_ID', 'PICK_NUMBER', 'START_SEASON'], axis=1)\n",
    "y = data[['PICK_NUMBER']]\n",
    "\n",
    "# Normalize the data to be between -1 and 1 (mean centered)\n",
    "X = (X-X.mean())/(X.max() - X.min())"
   ]
  },
  {
   "cell_type": "markdown",
   "id": "3a02f347-db3f-41b7-bf13-add03a4387e2",
   "metadata": {},
   "source": [
    "### Bins I created "
   ]
  },
  {
   "cell_type": "code",
   "execution_count": null,
   "id": "6a2997fd-31ff-4cd2-86d7-c2b75214c0f2",
   "metadata": {},
   "outputs": [],
   "source": [
    "# splitting with new data\n",
    "# X_train, X_test, y_train, y_test = train_test_split(X, y, random_state=0, stratify = y)\n",
    "\n",
    "# y_train = y_train.astype('string')\n",
    "# y_test = y_test.astype('string')"
   ]
  },
  {
   "cell_type": "code",
   "execution_count": null,
   "id": "cf9891fb-f1c6-409a-bbc8-06ddfcb8a9e8",
   "metadata": {},
   "outputs": [],
   "source": [
    "X['START_SEASON'] = start"
   ]
  },
  {
   "cell_type": "code",
   "execution_count": null,
   "id": "022fbfe2-99af-492a-8cae-a38d0fb4ee96",
   "metadata": {},
   "outputs": [],
   "source": [
    "## splitting the data based on season \n",
    "X_test = X[X['START_SEASON'] >= 2022]\n",
    "y_test = y.loc[X_test.index]\n",
    "\n",
    "X_train = X[(X['START_SEASON'] < 2022)]\n",
    "y_train = y.loc[X_train.index]"
   ]
  },
  {
   "cell_type": "code",
   "execution_count": null,
   "id": "b6445769-36d8-4fd3-a9a8-bdb2395e2f9b",
   "metadata": {},
   "outputs": [],
   "source": [
    "X_test.drop(['START_SEASON'], axis=1, inplace =True) \n",
    "X_train.drop(['START_SEASON'], axis=1, inplace =True) "
   ]
  },
  {
   "cell_type": "markdown",
   "id": "80de2cce-a5ae-401f-b839-a577e6fc8351",
   "metadata": {},
   "source": [
    "#### Recursive Feature Embedding"
   ]
  },
  {
   "cell_type": "code",
   "execution_count": null,
   "id": "f04c3144-fb3d-462b-9fe2-4838efe6dbba",
   "metadata": {},
   "outputs": [],
   "source": [
    "rfc = RandomForestClassifier()\n",
    "\n",
    "\n",
    "RFE_model = RFECV(\n",
    "    estimator = rfc, # the ML model\n",
    "    scoring = 'accuracy',  \n",
    "    cv=2)\n",
    "\n",
    "RFE_model.fit(X_train, y_train)"
   ]
  },
  {
   "cell_type": "code",
   "execution_count": null,
   "id": "0151f181-808e-4240-890f-5a15906eb64b",
   "metadata": {},
   "outputs": [],
   "source": [
    "mask = RFE_model.get_support()\n",
    "features = np.array(X_train.columns) \n",
    "best_features = features[mask]\n",
    " \n",
    "print(\"All features: \", X_train.shape[1])\n",
    "\n",
    "print(\"Selected best: \", best_features.shape[0])"
   ]
  },
  {
   "cell_type": "markdown",
   "id": "e0a17330-3741-4d25-87ff-310b1f0171ed",
   "metadata": {},
   "source": [
    "Take out anything that isn't a percent or / and anything with rank\n",
    "\n",
    "anything that is a count (integer)"
   ]
  },
  {
   "cell_type": "code",
   "execution_count": null,
   "id": "ab6d1900-f1dd-419d-95b8-df1b7530c777",
   "metadata": {},
   "outputs": [],
   "source": [
    "for i in features[mask]:\n",
    "    print(\"'\" + i + \"',\")"
   ]
  },
  {
   "cell_type": "code",
   "execution_count": null,
   "id": "276a226a-b2ed-4e49-a966-2a8f63dd0ba9",
   "metadata": {},
   "outputs": [],
   "source": [
    "cols = ['FGM_30',\n",
    "'FGA_30',\n",
    "'TPA_30',\n",
    "'FTM_30',\n",
    "'FTA_30',\n",
    "'FOULS_30',\n",
    "'BLOCKS_30',\n",
    "'STEALS_30',\n",
    "'ASSISTS_30',\n",
    "'DREB_30',\n",
    "'TOV_30',\n",
    "'FG_PCT',\n",
    "'FT_PCT',\n",
    "'USG',\n",
    "'ASSIST_PCT',\n",
    "'BLOCK_PCT',\n",
    "'DREB_PCT',\n",
    "'FTM_Rate',\n",
    "'STL_PCT',\n",
    "'TOV_PCT',\n",
    "'undraft_prob']"
   ]
  },
  {
   "cell_type": "code",
   "execution_count": null,
   "id": "078956d4-3081-4a01-965f-03c580c2b767",
   "metadata": {},
   "outputs": [],
   "source": [
    "X_train = X_train[cols]\n",
    "X_test = X_test[cols]"
   ]
  },
  {
   "cell_type": "code",
   "execution_count": null,
   "id": "802cc687-530b-4071-b3d1-c0eb63f56546",
   "metadata": {},
   "outputs": [],
   "source": [
    "# Convert X values to numpy array \n",
    "## These are already arrays\n",
    "X_train_array = np.array(X_train)\n",
    "X_test_array = np.array(X_test)\n",
    "\n",
    "# encode labels as integers for y_train \n",
    "encoder = LabelEncoder()\n",
    "encoder.fit(y_train)\n",
    "encoder.classes_ = np.array(['1-4', '5-8','9-12', '13-18','19-30', '31-60', 'Undrafted' ])\n",
    "encoded_Y_train = encoder.transform(y_train)\n",
    "# convert integers to dummy variables (i.e. one hot encoded)\n",
    "dummy_y_train = np_utils.to_categorical(encoded_Y_train)\n",
    "\n",
    "# encode labels as integers for y_test \n",
    "encoder = LabelEncoder()\n",
    "encoder.fit(y_test)\n",
    "encoder.classes_ = np.array(['1-4', '5-8','9-12', '13-18','19-30', '31-60', 'Undrafted' ])\n",
    "encoded_Y_test = encoder.transform(y_test)\n",
    "# convert integers to dummy variables (i.e. one hot encoded)\n",
    "dummy_y_test = np_utils.to_categorical(encoded_Y_test)\n",
    "\n",
    "list(encoder.classes_)"
   ]
  },
  {
   "cell_type": "code",
   "execution_count": null,
   "id": "c7e3e3ac-79fc-4c9d-ae3a-8606cebf447b",
   "metadata": {},
   "outputs": [],
   "source": [
    "class_w = class_weight.compute_class_weight('balanced',\n",
    "                                                 classes = ['1-4', '5-8', '9-12', '13-18', '19-30', '31-60', 'Undrafted'],\n",
    "                                                 y = y_train.values.reshape(-1))\n",
    "class_w"
   ]
  },
  {
   "cell_type": "code",
   "execution_count": null,
   "id": "4fd304d3-0acc-437c-b46b-c68e228449ea",
   "metadata": {},
   "outputs": [],
   "source": [
    "for i, index in zip(class_w, range(0,10)): \n",
    "    r = print(index,\":\",i, \",\")"
   ]
  },
  {
   "cell_type": "code",
   "execution_count": null,
   "id": "9b6afc66-18df-4b0a-9651-0410f21bb4c1",
   "metadata": {},
   "outputs": [],
   "source": [
    "class_weights = {0 : 7.982142857142857 ,\n",
    "1 : 8.514285714285714 ,\n",
    "2 : 7.740259740259741 ,\n",
    "3 : 5.1085714285714285 ,\n",
    "4 : 2.528995756718529 ,\n",
    "5 : 1.1352380952380952 ,\n",
    "6 : 0.19394728278555157}"
   ]
  },
  {
   "cell_type": "code",
   "execution_count": null,
   "id": "f5b6c9ad-9e2a-41cd-9ffd-dda4561952e4",
   "metadata": {},
   "outputs": [],
   "source": [
    "# Neural network\n",
    "model = Sequential()\n",
    "model.add(Dense(16, input_dim=len(X_train.columns), activation='relu'))\n",
    "model.add(Dense(12, activation='relu'))\n",
    "model.add(Dense(7, activation='softmax'))\n",
    "\n",
    "model.compile(loss='categorical_crossentropy', optimizer='adam', metrics=['accuracy'])"
   ]
  },
  {
   "cell_type": "code",
   "execution_count": null,
   "id": "89ec75fd-de04-484e-9662-fc4c90ef20f5",
   "metadata": {},
   "outputs": [],
   "source": [
    "history = model.fit(X_train_array, dummy_y_train, \n",
    "                      validation_data = (X_test_array, dummy_y_test), \n",
    "                      epochs=100, \n",
    "                      class_weight = class_weights, \n",
    "                      batch_size=32)"
   ]
  },
  {
   "cell_type": "code",
   "execution_count": null,
   "id": "61b24e30-a495-42af-b403-a77b58b579ee",
   "metadata": {},
   "outputs": [],
   "source": [
    "import matplotlib.pyplot as plt\n",
    "plt.plot(history.history['accuracy'])\n",
    "plt.plot(history.history['val_accuracy'])\n",
    "plt.title('Model accuracy')\n",
    "plt.ylabel('Accuracy')\n",
    "plt.xlabel('Epoch')\n",
    "plt.legend(['Train', 'Test'], loc='upper left')\n",
    "plt.show()"
   ]
  },
  {
   "cell_type": "code",
   "execution_count": null,
   "id": "90d97cf5-6752-4c1b-a338-1b483392c5d4",
   "metadata": {},
   "outputs": [],
   "source": [
    "pred = model.predict(X_train_array)\n",
    "\n",
    "predictions = pred.argmax(axis=1)\n",
    "\n",
    "cm = confusion_matrix(encoded_Y_train, predictions)"
   ]
  },
  {
   "cell_type": "code",
   "execution_count": null,
   "id": "67ec71ea-5de0-4eb0-989f-19ac59b815ca",
   "metadata": {},
   "outputs": [],
   "source": [
    "ax= plt.subplot()\n",
    "sns.heatmap(cm, annot=True, fmt='g', ax=ax);  #annot=True to annotate cells, ftm='g' to disable scientific notation\n",
    "\n",
    "# labels, title and ticks\n",
    "ax.set_xlabel('Predicted labels');ax.set_ylabel('True labels'); \n",
    "ax.set_title('Confusion Matrix'); \n",
    "ax.xaxis.set_ticklabels(['1-4', '5-8', '9-12', '13-18', '19-30', '31-60', 'Other- NBA']); ax.yaxis.set_ticklabels(['1-4', '5-8', '9-12', '13-18', '19-30', '31-60', 'Other- NBA']);"
   ]
  },
  {
   "cell_type": "code",
   "execution_count": null,
   "id": "782892b3-2637-462b-a294-d678c331b1b9",
   "metadata": {},
   "outputs": [],
   "source": [
    "print(classification_report(encoded_Y_train, predictions))"
   ]
  },
  {
   "cell_type": "markdown",
   "id": "3a24b3e8-4804-4733-ac72-1b5cd674edca",
   "metadata": {},
   "source": [
    "#### CSV of Probabilities for Train (My Bins) "
   ]
  },
  {
   "cell_type": "code",
   "execution_count": null,
   "id": "9c148406-3c5e-4e63-95ae-ae5331a28938",
   "metadata": {},
   "outputs": [],
   "source": [
    "## getting indexs of the players then grabbing those IDs\n",
    "index = list(X_train.index)\n",
    "player_ids = data.loc[index, ['PLAYER_ID','START_SEASON','PICK_NUMBER']]"
   ]
  },
  {
   "cell_type": "code",
   "execution_count": null,
   "id": "36d76463-ba62-43fd-ada9-3d63f376056f",
   "metadata": {},
   "outputs": [],
   "source": [
    "player_ids = player_ids.reset_index(drop=True)"
   ]
  },
  {
   "cell_type": "code",
   "execution_count": null,
   "id": "09777e15-4771-4107-8067-1294fdc895c6",
   "metadata": {},
   "outputs": [],
   "source": [
    "## creating a dataframe of the probabilities of those players \n",
    "train_probs_other = pd.DataFrame(pred, columns = ['1-4', '5-8', '9-12', '13-18', '19-30', '31-60', 'Undrafted'])\n",
    "result3 = pd.concat([player_ids, train_probs_other], axis=1)"
   ]
  },
  {
   "cell_type": "code",
   "execution_count": null,
   "id": "122df9ca-196b-4171-9776-969494a4c48c",
   "metadata": {},
   "outputs": [],
   "source": [
    "result3.to_csv(\"prob_train_box.csv\")"
   ]
  },
  {
   "cell_type": "markdown",
   "id": "653809ee-e1de-4295-a1d5-d6c9e61c42ca",
   "metadata": {
    "tags": []
   },
   "source": [
    "**TEST**"
   ]
  },
  {
   "cell_type": "code",
   "execution_count": null,
   "id": "1796cbb3-c43e-48e9-8c8c-13bf0f7db0f2",
   "metadata": {},
   "outputs": [],
   "source": [
    "pred = model.predict(X_test_array)\n",
    "\n",
    "predictions = pred.argmax(axis=1)\n",
    "\n",
    "cm = confusion_matrix(encoded_Y_test, predictions)"
   ]
  },
  {
   "cell_type": "code",
   "execution_count": null,
   "id": "bc402baa-d9e2-4ed7-80ba-a7b95c799125",
   "metadata": {},
   "outputs": [],
   "source": [
    "ax= plt.subplot()\n",
    "sns.heatmap(cm, annot=True, fmt='g', ax=ax);  #annot=True to annotate cells, ftm='g' to disable scientific notation\n",
    "\n",
    "# labels, title and ticks\n",
    "ax.set_xlabel('Predicted labels');ax.set_ylabel('True labels'); \n",
    "ax.set_title('Confusion Matrix'); \n",
    "ax.xaxis.set_ticklabels(['1-4', '5-8', '9-12', '13-18', '19-30', '31-60', 'Undrafted']); ax.yaxis.set_ticklabels(['1-4', '5-8', '9-12', '13-18', '19-30', '31-60', 'Other- NBA']);"
   ]
  },
  {
   "cell_type": "code",
   "execution_count": null,
   "id": "7fc7cf73-87dc-441b-bea9-ce058d767a6c",
   "metadata": {},
   "outputs": [],
   "source": [
    "print(classification_report(encoded_Y_test, predictions))"
   ]
  },
  {
   "cell_type": "markdown",
   "id": "04a5a8f8-5fa2-4d88-997b-d5a9fdd59d15",
   "metadata": {},
   "source": [
    "#### CSV of Probabilities for Test (MyBins)"
   ]
  },
  {
   "cell_type": "code",
   "execution_count": null,
   "id": "dade6343-8fa0-46bd-9f39-6f49a3134ad7",
   "metadata": {},
   "outputs": [],
   "source": [
    "## getting indexs of the players then grabbing those IDs\n",
    "index = list(X_test.index)\n",
    "player_ids = data.loc[index, ['PLAYER_ID','START_SEASON','PICK_NUMBER']]"
   ]
  },
  {
   "cell_type": "code",
   "execution_count": null,
   "id": "0a40651c-e969-419b-b184-99234e23cde0",
   "metadata": {},
   "outputs": [],
   "source": [
    "player_ids = player_ids.reset_index(drop=True)"
   ]
  },
  {
   "cell_type": "code",
   "execution_count": null,
   "id": "2ca0a2dd-8df3-4a18-987f-2544d68be5d7",
   "metadata": {},
   "outputs": [],
   "source": [
    "## creating a dataframe of the probabilities of those players \n",
    "train_probs_other = pd.DataFrame(pred, columns = ['1-4', '5-8', '9-12', '13-18', '19-30', '31-60', 'Undrafted'])\n",
    "result4 = pd.concat([player_ids, train_probs_other], axis=1)"
   ]
  },
  {
   "cell_type": "code",
   "execution_count": null,
   "id": "42ef485f-1f6f-485e-9c9a-f1aa810064e8",
   "metadata": {},
   "outputs": [],
   "source": [
    "result4.to_csv(\"prob_test_box.csv\")"
   ]
  },
  {
   "cell_type": "markdown",
   "id": "45c3078c-b8f3-4482-a04e-3724daea535e",
   "metadata": {},
   "source": [
    "#### CSV of Probabilities Combined (My Bins) "
   ]
  },
  {
   "cell_type": "code",
   "execution_count": null,
   "id": "70613a74-ce2e-454d-8a69-90afca4baf6d",
   "metadata": {},
   "outputs": [],
   "source": [
    "r2 = pd.concat([result3, result4])\n",
    "r2['PLAYER_ID'].value_counts()"
   ]
  },
  {
   "cell_type": "code",
   "execution_count": null,
   "id": "2614020a-8aa1-46d3-bdbc-5a80d01b6197",
   "metadata": {},
   "outputs": [],
   "source": [
    "r2.to_csv(\"combined_prob_box.csv\")"
   ]
  },
  {
   "cell_type": "code",
   "execution_count": null,
   "id": "7a20d728-cdc8-4bbb-8040-cc857cc503ff",
   "metadata": {},
   "outputs": [],
   "source": [
    "com = pd.read_csv(\"combined_prob_box.csv\") "
   ]
  },
  {
   "cell_type": "code",
   "execution_count": null,
   "id": "de6b8267-b753-4f73-a40d-a0dd674c75e4",
   "metadata": {},
   "outputs": [],
   "source": [
    "com[com['PLAYER_ID'].isin([1373356, 1349630])]"
   ]
  },
  {
   "cell_type": "code",
   "execution_count": null,
   "id": "518ebe17-8705-440b-90ba-dce8cce9e85b",
   "metadata": {},
   "outputs": [],
   "source": [
    "com[com['PLAYER_ID'].isin([1373356, 1349630])]"
   ]
  },
  {
   "cell_type": "code",
   "execution_count": null,
   "id": "72bcc86b-9367-4514-a892-fa6f5594f0cb",
   "metadata": {},
   "outputs": [],
   "source": []
  }
 ],
 "metadata": {
  "kernelspec": {
   "display_name": "Python 3 (ipykernel)",
   "language": "python",
   "name": "python3"
  },
  "language_info": {
   "codemirror_mode": {
    "name": "ipython",
    "version": 3
   },
   "file_extension": ".py",
   "mimetype": "text/x-python",
   "name": "python",
   "nbconvert_exporter": "python",
   "pygments_lexer": "ipython3",
   "version": "3.9.12"
  }
 },
 "nbformat": 4,
 "nbformat_minor": 5
}
