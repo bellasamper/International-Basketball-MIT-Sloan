{
 "cells": [
  {
   "cell_type": "markdown",
   "id": "07b05f45-5e99-456e-b39f-751a770ff4e6",
   "metadata": {},
   "source": [
    "# Combined Model incorporating Drafted/Undrafted Model (Step 4) \n",
    "\n",
    "This model will have the Box score data and the autostats percentage data as well as incorporating the model created for drafted/undrafted using probabilities"
   ]
  },
  {
   "cell_type": "code",
   "execution_count": null,
   "id": "1269d082-4b3c-4c0c-970e-d6e24f35ab7b",
   "metadata": {},
   "outputs": [],
   "source": [
    "import pandas as pd \n",
    "import numpy as np \n",
    "import numpy as np\n",
    "from sklearn.linear_model import LinearRegression\n",
    "from sklearn.model_selection import train_test_split\n",
    "from statsmodels.formula.api import glm\n",
    "from sklearn.metrics import mean_squared_error\n",
    "import matplotlib.pyplot as plt\n",
    "from sklearn.linear_model import LassoCV\n",
    "from sklearn.preprocessing import StandardScaler\n",
    "from sklearn.linear_model import Lasso, LogisticRegression\n",
    "from sklearn.decomposition import PCA\n",
    "from sklearn.ensemble import RandomForestClassifier\n",
    "from sklearn.metrics import accuracy_score, confusion_matrix, classification_report\n",
    "from sklearn.linear_model import LassoCV\n",
    "import tensorflow as tf\n",
    "from sklearn.preprocessing import LabelEncoder\n",
    "from keras.utils import np_utils\n",
    "import imblearn\n",
    "from imblearn.over_sampling import SMOTE\n",
    "from collections import Counter\n",
    "from matplotlib import pyplot\n",
    "import seaborn as sns\n",
    "import matplotlib.pyplot as plt \n",
    "from sklearn.ensemble import RandomForestClassifier\n",
    "from sklearn.datasets import make_blobs\n",
    "from sklearn.model_selection import RepeatedStratifiedKFold\n",
    "from sklearn.model_selection import GridSearchCV\n",
    "from sklearn.linear_model import LogisticRegression\n",
    "from sklearn.feature_selection import RFECV\n",
    "from sklearn import preprocessing\n",
    "\n",
    "import warnings\n",
    "warnings.filterwarnings(\"ignore\")"
   ]
  },
  {
   "cell_type": "code",
   "execution_count": null,
   "id": "9101aa68-67fe-48b5-9d4b-bede3d14b4c8",
   "metadata": {},
   "outputs": [],
   "source": [
    "# reading in the data for the model\n",
    "draft_data = pd.read_csv(\"combined_data.csv\").drop('Unnamed: 0', axis=1)"
   ]
  },
  {
   "cell_type": "code",
   "execution_count": null,
   "id": "8a88f93f-161f-4ac8-b317-1ab666b83095",
   "metadata": {},
   "outputs": [],
   "source": [
    "draft_data = draft_data.fillna(0)"
   ]
  },
  {
   "cell_type": "code",
   "execution_count": null,
   "id": "df204336-839a-487e-a962-0a55ce9ff2f8",
   "metadata": {},
   "outputs": [],
   "source": [
    "# splits data into X and Y \n",
    "X_full = draft_data.drop(['Drafted', 'PICK_NUMBER', 'AutoStats Games', 'PICK_NUMBER_x', 'PLAYER_GAMES','Offensive Chances', 'Defensive Chances'], axis=1)\n",
    "y_full = draft_data[['Drafted']]"
   ]
  },
  {
   "cell_type": "markdown",
   "id": "a2506a80-7867-4786-9e95-afa5941b751b",
   "metadata": {
    "tags": []
   },
   "source": [
    "## Converting Birth Date to Age"
   ]
  },
  {
   "cell_type": "code",
   "execution_count": null,
   "id": "5358d37a-2777-4da8-b849-9bb5d416bcd4",
   "metadata": {},
   "outputs": [],
   "source": [
    "# reading in the data \n",
    "roster = pd.read_csv(\"Roster Decode.csv\")\n",
    "pick = pd.read_csv(\"NBA Caliber Players.csv\")"
   ]
  },
  {
   "cell_type": "code",
   "execution_count": null,
   "id": "0bcc451d-daa4-4451-be2c-8808c80c26b8",
   "metadata": {},
   "outputs": [],
   "source": [
    "seasons = pick[['PLAYER_ID', 'START_SEASON']]"
   ]
  },
  {
   "cell_type": "code",
   "execution_count": null,
   "id": "1f11b31e-c496-427f-8b1d-2f4120b2ac02",
   "metadata": {},
   "outputs": [],
   "source": [
    "## grabbing only the columns needed \n",
    "df = roster[['PLAYER_ID', 'HEIGHT','WEIGHT', 'BIRTH_DATE', 'POSITION_ABBREV']]"
   ]
  },
  {
   "cell_type": "code",
   "execution_count": null,
   "id": "5d66a6e3-e2d5-46ff-9e92-e271a3c8a997",
   "metadata": {},
   "outputs": [],
   "source": [
    "print(len(df))\n",
    "print(len(roster))"
   ]
  },
  {
   "cell_type": "code",
   "execution_count": null,
   "id": "a7eb53d8-dc34-4ea8-a5d1-84a1da207da0",
   "metadata": {},
   "outputs": [],
   "source": [
    "df = pd.merge(df, seasons, how='inner', on='PLAYER_ID')"
   ]
  },
  {
   "cell_type": "code",
   "execution_count": null,
   "id": "5716a7c9-8f23-46fb-ab3c-42f95f341328",
   "metadata": {},
   "outputs": [],
   "source": [
    "df['BIRTH_DATE'].isna().sum()"
   ]
  },
  {
   "cell_type": "code",
   "execution_count": null,
   "id": "2e52651a-c10e-4533-9b72-3b2f9f96a648",
   "metadata": {},
   "outputs": [],
   "source": [
    "## splitting the birth_date\n",
    "df['YEAR'] = df['BIRTH_DATE'].str.split(pat = '-', expand = True)[2]"
   ]
  },
  {
   "cell_type": "code",
   "execution_count": null,
   "id": "d0c3a0d7-c9fe-4e79-b10f-7b2b6d7a4749",
   "metadata": {},
   "outputs": [],
   "source": [
    "df['YEAR'] = df['YEAR'].fillna(0)\n",
    "df['START_SEASON'] = df['START_SEASON'].fillna(0)"
   ]
  },
  {
   "cell_type": "code",
   "execution_count": null,
   "id": "5625629d-6fed-4275-b838-4606dcb0790d",
   "metadata": {},
   "outputs": [],
   "source": [
    "## converting column to an integer\n",
    "df['YEAR'] = df['YEAR'].astype('int')"
   ]
  },
  {
   "cell_type": "markdown",
   "id": "f93e0f42-aaf7-44ef-91bf-2e7efd2abacb",
   "metadata": {},
   "source": [
    "birth_date - july 1st of start year "
   ]
  },
  {
   "cell_type": "code",
   "execution_count": null,
   "id": "11701ea3-5b12-4805-9081-7605bde4922c",
   "metadata": {},
   "outputs": [],
   "source": [
    "## creating a list of years \n",
    "years = []\n",
    "for i in df['YEAR']: \n",
    "    if i == 0: \n",
    "        years.append(i)\n",
    "    elif i > 23: \n",
    "        years.append(i+1900) \n",
    "    elif i <= 23: \n",
    "        years.append(i+2000)"
   ]
  },
  {
   "cell_type": "code",
   "execution_count": null,
   "id": "aa0d2f8c-da6a-4dc1-869c-f6d0673c5902",
   "metadata": {},
   "outputs": [],
   "source": [
    "# adding this list into the dataframe\n",
    "df['YEAR'] = years"
   ]
  },
  {
   "cell_type": "code",
   "execution_count": null,
   "id": "9d2e5ce8-ddab-4579-b90d-3f0e2e12f83f",
   "metadata": {},
   "outputs": [],
   "source": [
    "df['Age'] = df['START_SEASON'] - df['YEAR']"
   ]
  },
  {
   "cell_type": "code",
   "execution_count": null,
   "id": "03db0fab-134f-43e9-afaf-ff453e24467d",
   "metadata": {},
   "outputs": [],
   "source": [
    "a = df[(df['Age'] < 57) & (df['Age'] > 0)]\n",
    "a['Age'].mean()"
   ]
  },
  {
   "cell_type": "code",
   "execution_count": null,
   "id": "bf6632a6-784a-4676-a0a6-f5c347b2799d",
   "metadata": {},
   "outputs": [],
   "source": [
    "## filling in Age NAs\n",
    "df.loc[df[\"Age\"] > 56, \"Age\"] = a['Age'].mean()\n",
    "df.loc[df['Age'] <= 0, \"Age\"] = a['Age'].mean()"
   ]
  },
  {
   "cell_type": "code",
   "execution_count": null,
   "id": "8dd11e42-ef8e-44ac-95de-57f44c2782d3",
   "metadata": {
    "tags": []
   },
   "outputs": [],
   "source": [
    "## getting the age of each player based on year \n",
    "\n",
    "# import pandas as pd\n",
    "# from datetime import datetime, date\n",
    "  \n",
    "# # This function converts given date to age\n",
    "# def age(born):\n",
    "#     born = datetime.strptime(born, \"%Y\").date()\n",
    "#     today = date.today()\n",
    "#     return today.year - born.year "
   ]
  },
  {
   "cell_type": "code",
   "execution_count": null,
   "id": "12952b76-8c66-4985-9188-6740b7217742",
   "metadata": {
    "tags": []
   },
   "outputs": [],
   "source": [
    "# ## appling the function\n",
    "# df['Age'] = df['YEAR'].apply(age)"
   ]
  },
  {
   "cell_type": "code",
   "execution_count": null,
   "id": "eb7f627d-3ba6-40ee-9a0b-0901e47b3289",
   "metadata": {},
   "outputs": [],
   "source": [
    "## dropping unneeded columns\n",
    "df.drop(['BIRTH_DATE', 'YEAR'], axis=1, inplace=True)"
   ]
  },
  {
   "cell_type": "code",
   "execution_count": null,
   "id": "b4160011-b3e7-4ca9-b43d-473c28550c9d",
   "metadata": {},
   "outputs": [],
   "source": [
    "## dropping duplicate players\n",
    "df = df.drop_duplicates(subset='PLAYER_ID', keep=\"first\")"
   ]
  },
  {
   "cell_type": "code",
   "execution_count": null,
   "id": "644b0b7c-764a-4f21-92f8-d067b6bcbaf6",
   "metadata": {},
   "outputs": [],
   "source": [
    "## drop people who started before 2012\n",
    "df = df[df['START_SEASON'] >= 2012]"
   ]
  },
  {
   "cell_type": "code",
   "execution_count": null,
   "id": "c0c444bc-d033-4071-88a4-99970682dd7c",
   "metadata": {},
   "outputs": [],
   "source": [
    "df.rename({'POSITION_ABBREV': 'Pos'}, axis=1, inplace=True)"
   ]
  },
  {
   "cell_type": "code",
   "execution_count": null,
   "id": "a52f873a-bb77-44a5-b58c-e30840fe0f3a",
   "metadata": {},
   "outputs": [],
   "source": [
    "df['Pos']=np.where(df['Pos']=='G','Guard',\n",
    "                                    np.where(df['Pos']=='PG','Guard',\n",
    "                                    np.where(df['Pos']=='SF','Wing',   \n",
    "                                    np.where(df['Pos']=='PF','Big',         \n",
    "                                    np.where(df['Pos']=='G/F','Wing',\n",
    "                                    np.where(df['Pos']=='F',\n",
    "                                    np.where(df['HEIGHT']<=79,'Wing','Big'),\n",
    "                                    np.where(df['Pos']=='SG',\n",
    "                                    np.where(df['HEIGHT']<=75,'Guard','Wing'),          \n",
    "                                    np.where(df['Pos']=='F/C','Big',\n",
    "                                    np.where(df['Pos']=='C','Big',\n",
    "                                    np.where(df['HEIGHT']<=75,'Guard',\n",
    "                                    np.where(df['HEIGHT']>79,'Big','Wing')))))))))))"
   ]
  },
  {
   "cell_type": "code",
   "execution_count": null,
   "id": "c26216db-2764-4da1-b9c2-ba144d41cdee",
   "metadata": {},
   "outputs": [],
   "source": [
    "## Finding averages to replace NAs\n",
    "df.groupby('Pos').agg({'HEIGHT': 'mean', 'WEIGHT': 'mean'})"
   ]
  },
  {
   "cell_type": "code",
   "execution_count": null,
   "id": "378076eb-9bf0-40a8-b51b-7c7b62b13ef4",
   "metadata": {},
   "outputs": [],
   "source": [
    "## replacing Height and Weight NAs\n",
    "df['HEIGHT'] = df.groupby('Pos')['HEIGHT'].apply(lambda x: x.fillna(x.mean()))\n",
    "df['WEIGHT'] = df.groupby('Pos')['WEIGHT'].apply(lambda x: x.fillna(x.mean()))\n"
   ]
  },
  {
   "cell_type": "code",
   "execution_count": null,
   "id": "7643ee54-0be4-4a8b-817d-01c6fa10cf99",
   "metadata": {},
   "outputs": [],
   "source": [
    "X_full = pd.merge(X_full, df, on = ['PLAYER_ID'], how='inner')"
   ]
  },
  {
   "cell_type": "code",
   "execution_count": null,
   "id": "2f5a6e8b-ac56-473e-83e8-8afd8f9fe2c6",
   "metadata": {},
   "outputs": [],
   "source": [
    "X_full.drop(['Pos','START_SEASON', 'Age'], axis=1, inplace=True)"
   ]
  },
  {
   "cell_type": "markdown",
   "id": "c9881176-5cff-409f-82e2-9f45549f20eb",
   "metadata": {
    "tags": []
   },
   "source": [
    "## Drafted/Undrafted Model - Training\n",
    "1. Normalize Data \n",
    "2. Drop features from RFE \n",
    "3. Oversample \n",
    "4. Hypertune  \n",
    "5. Random forest "
   ]
  },
  {
   "cell_type": "markdown",
   "id": "4cdbc5f0-0137-4a7b-b6c8-2fc7cfbdc0c3",
   "metadata": {},
   "source": [
    "### Normalize and Split"
   ]
  },
  {
   "cell_type": "code",
   "execution_count": null,
   "id": "62586b17-362c-49b4-8c1d-9fecdbb10a9a",
   "metadata": {},
   "outputs": [],
   "source": [
    "# X_full = X_full.drop(['League'], axis=1)"
   ]
  },
  {
   "cell_type": "code",
   "execution_count": null,
   "id": "c031524b-75df-4f2f-a94c-22af66aadebc",
   "metadata": {},
   "outputs": [],
   "source": [
    "#X_full = (X_full-X_full.mean())/(X_full.max() - X_full.min())"
   ]
  },
  {
   "cell_type": "code",
   "execution_count": null,
   "id": "5c1ea610-818a-438e-8237-dd0587cd76cb",
   "metadata": {},
   "outputs": [],
   "source": [
    "# splitting with new data\n",
    "X_train, X_test, y_train, y_test = train_test_split(X_full, y_full, random_state=0)"
   ]
  },
  {
   "cell_type": "code",
   "execution_count": null,
   "id": "49d68f27-d390-4057-a747-58bb9abd7099",
   "metadata": {},
   "outputs": [],
   "source": [
    "X_train.isna().sum().sum()"
   ]
  },
  {
   "cell_type": "markdown",
   "id": "f8ff0420-b6ae-429b-a1f5-e1bdf559a82a",
   "metadata": {
    "jp-MarkdownHeadingCollapsed": true,
    "tags": []
   },
   "source": [
    "### PCA"
   ]
  },
  {
   "cell_type": "code",
   "execution_count": null,
   "id": "9c618f94-3bb4-43e5-81c3-df66cc93bc70",
   "metadata": {},
   "outputs": [],
   "source": [
    "## Normalize the data \n",
    "X_full=(X_full-X_full.mean())/(X_full.max()-X_full.min())"
   ]
  },
  {
   "cell_type": "code",
   "execution_count": null,
   "id": "11951bbd-d1c6-4fef-8d0e-229282b4b38c",
   "metadata": {},
   "outputs": [],
   "source": [
    "# splitting with new data\n",
    "X_train, X_test, y_train, y_test = train_test_split(X_full, y_full, random_state=0)\n",
    "\n",
    "y_train.reset_index(drop=True, inplace=True) \n",
    "y_test.reset_index(drop=True, inplace=True)\n",
    "X_train.reset_index(drop=True, inplace=True)\n",
    "X_test.reset_index(drop=True, inplace=True)"
   ]
  },
  {
   "cell_type": "code",
   "execution_count": null,
   "id": "bfee1fa4-4c59-482f-a23b-d07724173392",
   "metadata": {},
   "outputs": [],
   "source": [
    "pca_all = PCA(n_components=153)\n",
    "pca_all.fit(X_full)"
   ]
  },
  {
   "cell_type": "code",
   "execution_count": null,
   "id": "11579d5b-ce86-444d-858b-a8cf16c95552",
   "metadata": {},
   "outputs": [],
   "source": [
    "plt.grid()\n",
    "plt.plot(np.cumsum(pca_all.explained_variance_ratio_ * 100))\n",
    "plt.xlabel('Number of components')\n",
    "plt.ylabel('Explained variance')"
   ]
  },
  {
   "cell_type": "code",
   "execution_count": null,
   "id": "2b3b3c9c-4c70-43ac-94b8-54618616216d",
   "metadata": {},
   "outputs": [],
   "source": [
    "# train and test sets\n",
    "pca_10 = PCA(n_components=60)\n",
    "pca_10.fit(X_train)\n",
    "X_train_reduced = pca_10.transform(X_train)\n",
    "X_test_reduced = pca_10.transform(X_test)\n",
    "\n",
    "# verify shape after PCA\n",
    "print(\"Shape:\", X_train_reduced.shape)\n",
    "print(\"Test images shape: \", X_test_reduced.shape)\n",
    "\n",
    "# get exact variability retained\n",
    "print(\"\\nVar retained (%):\", \n",
    "      np.sum(pca_10.explained_variance_ratio_ * 100))"
   ]
  },
  {
   "cell_type": "markdown",
   "id": "7f314db8-64ea-4b56-9eb5-70efa51dc845",
   "metadata": {},
   "source": [
    "### Recursive Feature Embedding"
   ]
  },
  {
   "cell_type": "code",
   "execution_count": null,
   "id": "fe642b1f-2729-446d-89db-1b204ebef219",
   "metadata": {},
   "outputs": [],
   "source": [
    "from sklearn.feature_selection import RFECV\n",
    "\n",
    "rfc = RandomForestClassifier()\n",
    "\n",
    "\n",
    "RFE_model = RFECV(\n",
    "    estimator = rfc, # the ML model\n",
    "    scoring = 'accuracy',  \n",
    "    cv=2)"
   ]
  },
  {
   "cell_type": "code",
   "execution_count": null,
   "id": "2305699c-81ec-4f5c-9469-a5b2d9b3c923",
   "metadata": {},
   "outputs": [],
   "source": [
    "RFE_model.fit(X_train_reduced, y_train)\n"
   ]
  },
  {
   "cell_type": "code",
   "execution_count": null,
   "id": "4909b86f-d981-49d7-89e6-470f6cd32851",
   "metadata": {
    "tags": []
   },
   "outputs": [],
   "source": [
    "mask = RFE_model.get_support()\n",
    "features = np.array(X_train.columns) \n",
    "best_features = features[mask]\n",
    " \n",
    "print(\"All features: \", X_train.shape[1])\n",
    "#print(features)\n",
    "\n",
    "print(\"Selected best: \", best_features.shape[0])\n",
    "#print(features[mask]) "
   ]
  },
  {
   "cell_type": "code",
   "execution_count": null,
   "id": "01764ee0-7ab8-4df7-93da-57e6cd88e2aa",
   "metadata": {
    "tags": []
   },
   "outputs": [],
   "source": [
    "for i in features[mask]:\n",
    "    print(\"'\" + i + \"',\")"
   ]
  },
  {
   "cell_type": "code",
   "execution_count": null,
   "id": "a16ebdf4-9885-4e6f-b43a-5ccc72324950",
   "metadata": {},
   "outputs": [],
   "source": [
    "cols = ['PLAYER_ID','Offensive Points/Chance',\n",
    "'Defensive Points/Chance',\n",
    "'Defensive Transition%',\n",
    "'Transition Touch%',\n",
    "'Transition Points/Touch',\n",
    "'AutoStats FG%',\n",
    "'Contested Jumper FG%',\n",
    "'% of Jumpers Contested',\n",
    "'Catch & Shoot Jumper FG%',\n",
    "'% of Shots at Rim',\n",
    "'Average Influence Score',\n",
    "'AutoStats FG% Defended',\n",
    "'Uncontested Jumper FG% Defended',\n",
    "'% of Defended 3s Contested',\n",
    "'Layup FG% Defended',\n",
    "'Led to Shot %',\n",
    "'Assist %',\n",
    "'FT Assist %',\n",
    "'% of Offensive Rebounds Contested',\n",
    "'Defensive Adjusted Rebound %',\n",
    "'Defensive Contested Rebound %',\n",
    "'Crash & Boxout %',\n",
    "'Drives/Touch',\n",
    "'Player Points/Drive',\n",
    "'Drives Defended/Defensive Chances',\n",
    "'Team Points/Drive Chance Allowed',\n",
    "'Isos/Touch',\n",
    "'Isos Defended/Defensive Chances',\n",
    "'Team Points/Iso Chance Allowed',\n",
    "'SC- Screens/Chance',\n",
    "'SC Def- Screens/Chance',\n",
    "'SC Def- Team Points/Chance',\n",
    "'Closeout Touch %',\n",
    "'Closeouts/Chance',\n",
    "'Points/Closeout Allowed',\n",
    "'Full Closeout %',\n",
    "'Cutter- Team Points/Chance',\n",
    "'Cutter- Touches/Screen',\n",
    "'Cutter- Points/Touch',\n",
    "'Screener- Cutter Touches/Screen',\n",
    "'Screener- Cutter Points/Touch',\n",
    "'Screener- Screener Points/Touch',\n",
    "'Cutter Def- Screens/Chance',\n",
    "'Cutter Def- Team Points/Chance',\n",
    "'Cutter Def- Cutter Touches/Screen',\n",
    "'Cutter Def- Screener Points/Touch',\n",
    "'Screener Def- Screens/Chance',\n",
    "'Screener Def- Cutter Touch Points',\n",
    "'Screener Def- Screener Points/Touch',\n",
    "'Setter- Handoffs/Touch',\n",
    "'Receiver Defender- Team Points/Chance',\n",
    "'Setter Defender- Handoffs/Chance',\n",
    "'Setter Defender- Team Points/Chance',\n",
    "'FGM_30',\n",
    "'FGA_30',\n",
    "'TPM_30',\n",
    "'TPA_30',\n",
    "'FTM_30',\n",
    "'FTA_30',\n",
    "'FOULS_30',\n",
    "'STEALS_30',\n",
    "'ASSISTS_30',\n",
    "'OREB_30',\n",
    "'DREB_30',\n",
    "'TOV_30',\n",
    "'FG_PCT',\n",
    "'TP_PCT',\n",
    "'FT_PCT',\n",
    "'USG',\n",
    "'BLOCK_PCT',\n",
    "'OREB_PCT',\n",
    "'DREB_PCT',\n",
    "'FTM_Rate',\n",
    "'STL_PCT',\n",
    "'TOV_PCT',\n",
    "'HEIGHT']"
   ]
  },
  {
   "cell_type": "code",
   "execution_count": null,
   "id": "94b75c57-9b1c-4837-8474-2cf1f95baa63",
   "metadata": {},
   "outputs": [],
   "source": [
    "X_train = X_train[cols]\n",
    "X_test = X_test[cols]"
   ]
  },
  {
   "cell_type": "code",
   "execution_count": null,
   "id": "66a75470-f680-45d1-bb7d-ebca479bb08e",
   "metadata": {},
   "outputs": [],
   "source": [
    "# encode labels as integers for y_train \n",
    "encoder = LabelEncoder()\n",
    "encoder.fit(y_train)\n",
    "encoded_Y_train = encoder.transform(y_train)"
   ]
  },
  {
   "cell_type": "code",
   "execution_count": null,
   "id": "58f5d381-eeeb-478d-a62e-b6a6197e4d8f",
   "metadata": {},
   "outputs": [],
   "source": [
    "# encode labels as integers for y_train \n",
    "encoder = LabelEncoder()\n",
    "encoder.fit(y_test)\n",
    "encoded_Y_test = encoder.transform(y_test)"
   ]
  },
  {
   "cell_type": "code",
   "execution_count": null,
   "id": "5b258f4e-2ada-4879-9c59-cfb41824c2dc",
   "metadata": {},
   "outputs": [],
   "source": [
    "encoder.classes_"
   ]
  },
  {
   "cell_type": "code",
   "execution_count": null,
   "id": "4f210302-ca0f-4747-ad8e-44eeb63fe22a",
   "metadata": {
    "tags": []
   },
   "outputs": [],
   "source": [
    "from imblearn.combine import SMOTETomek\n",
    "\n",
    "counter = Counter(encoded_Y_train)\n",
    "for k,v in counter.items():\n",
    "    per = v / len(encoded_Y_train) * 100\n",
    "    print('Class=%s, n=%d (%.3f%%)' % (k, v, per))\n",
    "# plot the distribution\n",
    "pyplot.title('Data Counts before Resampling')\n",
    "pyplot.bar(counter.keys(), counter.values())\n",
    "pyplot.show()\n",
    "\n",
    "smote_tomek = SMOTETomek(random_state=888)\n",
    "X_train_resampled, y_train_resampled = smote_tomek.fit_resample(X_train_reduced.drop(['PLAYER_ID'], axis=1), encoded_Y_train)\n",
    "\n",
    "counter = Counter(y_train_resampled)\n",
    "for k,v in counter.items():\n",
    "    per = v / len(y_train_resampled) * 100\n",
    "    print('Class=%s, n=%d (%.3f%%)' % (k, v, per))\n",
    "# plot the distribution\n",
    "pyplot.title('Data Counts before Resampling')\n",
    "pyplot.bar(counter.keys(), counter.values(), color = 'grey')\n",
    "pyplot.show()"
   ]
  },
  {
   "cell_type": "code",
   "execution_count": null,
   "id": "601df1ba-a0f8-4a3a-ae3e-ea8f86ee1b5e",
   "metadata": {},
   "outputs": [],
   "source": [
    "from imblearn.combine import SMOTETomek\n",
    "\n",
    "fig, ax = plt.subplots(figsize = (5,4))\n",
    "\n",
    "counter = Counter(encoded_Y_test)\n",
    "for k,v in counter.items():\n",
    "    per = v / len(encoded_Y_test) * 100\n",
    "    print('Class=%s, n=%d (%.3f%%)' % (k, v, per))\n",
    "# plot the distribution\n",
    "ax.set_xticks([0,1])\n",
    "ax.set_xticklabels(('Undrafted', 'Drafted'))\n",
    "pyplot.title('Data Counts before Resampling')\n",
    "pyplot.bar(counter.keys(), counter.values())\n",
    "pyplot.show()\n",
    "\n",
    "smote_tomek = SMOTETomek(random_state=888)\n",
    "X_test_resampled, y_test_resampled = smote_tomek.fit_resample(X_test.drop(['PLAYER_ID'], axis=1), encoded_Y_test)\n",
    "\n",
    "\n",
    "fig, ax = plt.subplots(figsize = (5,4))\n",
    "\n",
    "counter = Counter(y_test_resampled)\n",
    "for k,v in counter.items():\n",
    "    per = v / len(y_test_resampled) * 100\n",
    "    print('Class=%s, n=%d (%.3f%%)' % (k, v, per))\n",
    "# plot the distribution\n",
    "ax.set_xticks([0,1])\n",
    "ax.set_xticklabels(('Undrafted', 'Drafted'))\n",
    "pyplot.title('Data Counts after Resampling')\n",
    "pyplot.bar(counter.keys(), counter.values())\n",
    "pyplot.show()"
   ]
  },
  {
   "cell_type": "markdown",
   "id": "05594390-1628-453f-a900-c0f8b4ad01b0",
   "metadata": {},
   "source": [
    "### Random Forest "
   ]
  },
  {
   "cell_type": "code",
   "execution_count": null,
   "id": "45e9cb75-8b69-4560-8f2f-0934386f4d7e",
   "metadata": {},
   "outputs": [],
   "source": [
    "param_grid = {\n",
    "    'n_estimators': [25, 50, 100, 150],\n",
    "    'max_features': ['sqrt', 'log2', None],\n",
    "    'max_depth': [3, 6, 9],\n",
    "    'max_leaf_nodes': [3, 6, 9],\n",
    "}"
   ]
  },
  {
   "cell_type": "code",
   "execution_count": null,
   "id": "a0ed189e-f741-4a95-b410-b58081b5a817",
   "metadata": {
    "tags": []
   },
   "outputs": [],
   "source": [
    "grid_search = GridSearchCV(RandomForestClassifier(),\n",
    "                           param_grid=param_grid)\n",
    "grid_search.fit(X_train, y_train)\n",
    "print(grid_search.best_estimator_)"
   ]
  },
  {
   "cell_type": "markdown",
   "id": "eccecada-0112-46b3-80f2-ca73c181cc6c",
   "metadata": {},
   "source": [
    "max_depth=9, max_features=None, max_leaf_nodes=9,\n",
    "                       n_estimators=50"
   ]
  },
  {
   "cell_type": "code",
   "execution_count": null,
   "id": "697803ff-ad6d-498e-85df-601c9f0a426a",
   "metadata": {},
   "outputs": [],
   "source": [
    "# Instantiate and fit the RandomForestClassifier\n",
    "forest = RandomForestClassifier(max_depth=3, max_features=None, \n",
    "                                max_leaf_nodes=6, n_estimators=25)\n",
    "forest.fit(X_train, y_train)\n"
   ]
  },
  {
   "cell_type": "code",
   "execution_count": null,
   "id": "3657353e-2e61-420c-b953-d57a6c7fbca2",
   "metadata": {},
   "outputs": [],
   "source": [
    "# Use the forest's predict method on the test data\n",
    "predictions = forest.predict(X_train)\n",
    "\n",
    "# View accuracy score\n",
    "accuracy_score(y_train, predictions)\n",
    "\n",
    "# Evaluation metrics\n",
    "print(\"**Train Classification Report**\")\n",
    "print(classification_report(y_train, predictions))\n",
    "\n",
    "# Use the forest's predict method on the test data\n",
    "predictions = forest.predict(X_test)\n",
    "\n",
    "# View accuracy score\n",
    "accuracy_score(y_test, predictions)\n",
    "\n",
    "# Evaluation metrics\n",
    "print(\"**Test Classification Report**\")\n",
    "print(classification_report(y_test, predictions))"
   ]
  },
  {
   "cell_type": "code",
   "execution_count": null,
   "id": "53a1d8d2-3d08-437d-8ce5-7b30fba3efbf",
   "metadata": {},
   "outputs": [],
   "source": [
    "predictions[1]"
   ]
  },
  {
   "cell_type": "code",
   "execution_count": null,
   "id": "8c240b8e-a345-4b1a-923c-f986df77b448",
   "metadata": {},
   "outputs": [],
   "source": [
    "## The first column is 0 and second column is 1 \n",
    "## 0 = 'No'\n",
    "## 1 = 'Yes'\n",
    "probs = forest.predict_proba(X_test)\n",
    "len(probs[:,0])\n"
   ]
  },
  {
   "cell_type": "code",
   "execution_count": null,
   "id": "bef546da-d120-48db-86f3-4ae43e9ed205",
   "metadata": {},
   "outputs": [],
   "source": [
    "probs.shape"
   ]
  },
  {
   "cell_type": "markdown",
   "id": "6041e1f3-cce2-4189-a73e-fa972540991e",
   "metadata": {},
   "source": [
    "## Drafted/Undrafted Model - Implementation of Data\n",
    "\n",
    "Will input the entire dataset to then get probabilities and implement those probabilities into the overall rank model"
   ]
  },
  {
   "cell_type": "code",
   "execution_count": null,
   "id": "c381c443-22c6-4001-a4e3-f1674e2c43f7",
   "metadata": {},
   "outputs": [],
   "source": [
    "## still need to drop the features not involved in the data above \n",
    "X_full = X_full[cols]"
   ]
  },
  {
   "cell_type": "code",
   "execution_count": null,
   "id": "d3f1cca8-163c-44b8-aba3-06107ebea44e",
   "metadata": {},
   "outputs": [],
   "source": [
    "player_id = X_full['PLAYER_ID']"
   ]
  },
  {
   "cell_type": "code",
   "execution_count": null,
   "id": "439015ca-f82a-476b-91d5-6939693e706b",
   "metadata": {},
   "outputs": [],
   "source": [
    "X_full.drop(['PLAYER_ID'], axis=1, inplace=True)\n",
    "probs = forest.predict_proba(X_full)\n",
    "predictions = forest.predict(X_full)"
   ]
  },
  {
   "cell_type": "code",
   "execution_count": null,
   "id": "074b8460-fb22-46f5-9d4e-60c6be2b8cfd",
   "metadata": {},
   "outputs": [],
   "source": [
    "predictions[10]"
   ]
  },
  {
   "cell_type": "code",
   "execution_count": null,
   "id": "ad80b57c-4c0a-492b-b018-f74ce900a496",
   "metadata": {},
   "outputs": [],
   "source": [
    "probs[10]"
   ]
  },
  {
   "cell_type": "code",
   "execution_count": null,
   "id": "b4968623-7cef-49bb-8830-69e5e25a9d26",
   "metadata": {},
   "outputs": [],
   "source": [
    "# Visualization for presentation \n",
    "prob_df = pd.DataFrame(probs, columns = ['Undraft_Prob', 'Draft_Prob'])\n",
    "prob_df['PLAYER_ID'] = player_id\n",
    "\n",
    "names = pd.read_csv('NBA Caliber Players.csv')\n",
    "names = names[['PLAYER_ID', 'PLAYER']]\n",
    "\n",
    "probabilities = pd.merge(names, prob_df, on='PLAYER_ID', how='inner')\n",
    "\n",
    "# probabilities.set_index('PLAYER').drop(['PLAYER_ID'], axis=1).iloc[350:400]"
   ]
  },
  {
   "cell_type": "code",
   "execution_count": null,
   "id": "48c768c8-c3c6-4256-a5d7-2a6d0f6304e9",
   "metadata": {},
   "outputs": [],
   "source": [
    "probabilities[probabilities['PLAYER_ID'].isin([1349630, 1373356])].set_index('PLAYER').drop(['PLAYER_ID'], axis=1)"
   ]
  },
  {
   "cell_type": "code",
   "execution_count": null,
   "id": "88584774-7acb-4edf-bedd-851873ac7c4f",
   "metadata": {},
   "outputs": [],
   "source": [
    "undrafted_prob = list(probs[:,0])"
   ]
  },
  {
   "cell_type": "code",
   "execution_count": null,
   "id": "b73ed1ce-600e-412f-9725-c63dcd1250b4",
   "metadata": {},
   "outputs": [],
   "source": [
    "len(undrafted_prob)"
   ]
  },
  {
   "cell_type": "markdown",
   "id": "7c9416f4-d133-4706-8801-f42c91f8d1c5",
   "metadata": {},
   "source": [
    "**Now, we can implement this array into the data as a new feature for implementation in the next model predicting draft rank**"
   ]
  },
  {
   "cell_type": "code",
   "execution_count": null,
   "id": "21595925-5815-47aa-a449-e93c85462dbc",
   "metadata": {},
   "outputs": [],
   "source": [
    "draft_data['undraft_prob'] = undrafted_prob"
   ]
  },
  {
   "cell_type": "code",
   "execution_count": null,
   "id": "ff1ec37d-5f30-4a87-bb6c-4bd46e895c90",
   "metadata": {},
   "outputs": [],
   "source": [
    "#draft_data = draft_data.rename({'PICK_NUMBER_x' : 'PICK_NUMBER'}, axis=1)"
   ]
  },
  {
   "cell_type": "code",
   "execution_count": null,
   "id": "ee8fcf06-8d2a-4f57-84f6-f60c15480c66",
   "metadata": {},
   "outputs": [],
   "source": [
    "draft_data.to_csv(\"incorporated_data.csv\")"
   ]
  },
  {
   "cell_type": "code",
   "execution_count": null,
   "id": "37871e7c-f640-4098-afa4-0d6dedff0300",
   "metadata": {},
   "outputs": [],
   "source": [
    "# splits data into X and Y \n",
    "X = draft_data.drop(['Drafted', 'PLAYER_ID', 'PICK_NUMBER', 'GAMES_PLAYED', 'PICK_NUMBER_x', 'AutoStats Games', 'League ID_y'], axis=1)\n",
    "y = draft_data[['PICK_NUMBER']]"
   ]
  },
  {
   "cell_type": "code",
   "execution_count": null,
   "id": "5c6d60bd-28da-44dc-b3a9-cb7ae83d0122",
   "metadata": {},
   "outputs": [],
   "source": [
    "len(X.columns)"
   ]
  },
  {
   "cell_type": "code",
   "execution_count": null,
   "id": "4975025a-220d-4f7c-9878-c4f903f1e6a2",
   "metadata": {},
   "outputs": [],
   "source": [
    "# Normalize the data to be between -1 and 1 (mean centered)\n",
    "X = (X-X.mean())/(X.max() - X.min())"
   ]
  },
  {
   "cell_type": "code",
   "execution_count": null,
   "id": "5dde2575-928d-4e96-b85e-7009ab4ca3c8",
   "metadata": {},
   "outputs": [],
   "source": [
    "# splitting with new data\n",
    "X_train, X_test, y_train, y_test = train_test_split(X, y, random_state=0, stratify = y)"
   ]
  },
  {
   "cell_type": "markdown",
   "id": "8a6130ac-28a0-4993-8b17-9ca372ca885e",
   "metadata": {},
   "source": [
    "## Recursive Feature Embedding "
   ]
  },
  {
   "cell_type": "code",
   "execution_count": null,
   "id": "57a13564-7c38-44d7-b254-ff3b650aeba5",
   "metadata": {},
   "outputs": [],
   "source": [
    "rfc = RandomForestClassifier()\n",
    "\n",
    "\n",
    "RFE_model = RFECV(\n",
    "    estimator = rfc, # the ML model\n",
    "    scoring = 'accuracy',  \n",
    "    cv=2)"
   ]
  },
  {
   "cell_type": "code",
   "execution_count": null,
   "id": "e368f56e-0ada-4a5c-9c20-a4fe20ca4f08",
   "metadata": {
    "tags": []
   },
   "outputs": [],
   "source": [
    "RFE_model.fit(X_train, y_train)"
   ]
  },
  {
   "cell_type": "code",
   "execution_count": null,
   "id": "6ede7404-4d63-4adf-afa5-334c00ee93c0",
   "metadata": {},
   "outputs": [],
   "source": [
    "mask = RFE_model.get_support()\n",
    "features = np.array(X_train.columns) \n",
    "best_features = features[mask]\n",
    " \n",
    "print(\"All features: \", X_train.shape[1])\n",
    "\n",
    "print(\"Selected best: \", best_features.shape[0])"
   ]
  },
  {
   "cell_type": "code",
   "execution_count": null,
   "id": "ba36e149-d45e-47a5-93af-642b912c677f",
   "metadata": {},
   "outputs": [],
   "source": [
    "for i in features[mask]:\n",
    "    print(i)"
   ]
  },
  {
   "cell_type": "code",
   "execution_count": null,
   "id": "abf7eb3a-1828-462e-ab19-fa87294d0729",
   "metadata": {},
   "outputs": [],
   "source": [
    "# cols = ['Offensive Chances',\n",
    "# 'Defensive Chances',\n",
    "# 'Touches',\n",
    "# 'Defensive Points/Chance',\n",
    "# 'Defensive Transition%',\n",
    "# 'Transition Touch%',\n",
    "# 'AutoStats FGM',\n",
    "# 'AutoStats FGA',\n",
    "# 'Contested Jumper FGM',\n",
    "# 'Contested Jumper FGA',\n",
    "# '% of Jumpers Contested',\n",
    "# 'Catch & Shoot Jumper FG%',\n",
    "# 'Average Influence Score',\n",
    "# 'Expected eFG%',\n",
    "# 'AutoStats FGA Defended',\n",
    "# 'AutoStats FG% Defended',\n",
    "# 'AutoStats 3P% Defended',\n",
    "# 'Contested Jumper FGA Defended',\n",
    "# 'Contested Jumper FG% Defended',\n",
    "# 'Uncontested Jumper FG% Defended',\n",
    "# 'Contested 3P% Defended',\n",
    "# 'Uncontested 3P% Defended',\n",
    "# 'Average Influence Score Defended',\n",
    "# 'Expected eFG% Defended',\n",
    "# 'Expected eFG% Defended- 3s',\n",
    "# 'Layup FG% Defended',\n",
    "# 'Passes/Touch',\n",
    "# 'Assist %',\n",
    "# 'Secondary Assist %',\n",
    "# 'AutoStats Rebounds',\n",
    "# 'Rebound Chances',\n",
    "# 'Rebound %',\n",
    "# 'Adjusted Rebound %',\n",
    "# 'Contested Rebound %',\n",
    "# 'Offensive Rebound %',\n",
    "# 'Offensive Adjusted Rebound %',\n",
    "# 'Offensive Contested Rebound %',\n",
    "# 'AutoStats Defensive Rebounds',\n",
    "# 'Defensive Rebound Chances',\n",
    "# 'Crash %',\n",
    "# 'Rebound at Rim %',\n",
    "# 'Drives Defended',\n",
    "# 'Player Points/Drive Allowed',\n",
    "# 'Team Points/Drive Chance Allowed',\n",
    "# 'Direct Drives Defended %',\n",
    "# 'Player Points/Direct Drive Allowed',\n",
    "# 'Team Points/Direct Drive Chance Allowed',\n",
    "# 'Drive Defended Start-Iso %',\n",
    "# 'Isos Defended',\n",
    "# 'Isos Defended/Defensive Chances',\n",
    "# 'Direct Isos Defended %',\n",
    "# 'Player Points/Direct Iso Allowed',\n",
    "# 'Team Points/Direct Iso Chance Allowed',\n",
    "# 'BH Def- Team Points/Chance',\n",
    "# 'BH Def- Direct Screen %',\n",
    "# 'SC Def- Screens',\n",
    "# 'SC Def- Ball Handler Points',\n",
    "# 'SC Def- Team Points',\n",
    "# 'SC Def- Team Points/Chance',\n",
    "# 'SC Def- Team Points/Direct Chance',\n",
    "# 'SC Def- Ball Handler Pass to Screener %',\n",
    "# 'SC Def- Up to Touch %',\n",
    "# 'SC Def- Switch %',\n",
    "# 'Points/Closeout Touch- Offense',\n",
    "# 'Direct Closeout Touch %',\n",
    "# 'Points/Full Closeout Touch- Offense',\n",
    "# 'Team Points/Full Closeout Chance- Offense',\n",
    "# 'Closeout Points Allowed',\n",
    "# 'Points/Closeout Allowed',\n",
    "# 'Team Points/Closeout Chance Allowed',\n",
    "# 'Points/Direct Closeout Touch Allowed',\n",
    "# 'Team Points/Direct Closeout Chance Allowed',\n",
    "# 'Short Closeout %',\n",
    "# 'Cutter- Screens/Chance',\n",
    "# 'Cutter- Direct Cutter Touch %',\n",
    "# 'Screener- Screens/Chance',\n",
    "# 'Screener- Team Points/Chance',\n",
    "# 'Screener- Cutter Touches/Screen',\n",
    "# 'Screener- Team Points/Screener Touch Chance',\n",
    "# 'Cutter Def- Cutter Touches/Screen',\n",
    "# 'Cutter Def- Team Points/Cutter Touch Chance',\n",
    "# 'Cutter Def- Screener Points/Touch',\n",
    "# 'Cutter Def- Team Points/Screener Touch Chance',\n",
    "# 'Cutter Def- Gap %',\n",
    "# 'Cutter Def- Switch %',\n",
    "# 'Screener Def- Screens',\n",
    "# 'Screener Def- Team Points/Chance',\n",
    "# 'Screener Def- Cutter Touches/Screen',\n",
    "# 'Screener Def- Cutter Touch Points',\n",
    "# 'Screener Def- Team Points/Cutter Touch Chance',\n",
    "# 'Screener Def- Screener Touches/Screen',\n",
    "# 'Screener Def- Screener Points/Touch',\n",
    "# 'Screener Def- None %',\n",
    "# 'Screener Def- Up to Touch %',\n",
    "# 'Screener Def- Switch %',\n",
    "# 'Setter- Handoffs/Touch',\n",
    "# 'Receiver Defender- Handoff Pick %',\n",
    "# 'Setter Defender- Handoffs',\n",
    "# 'Setter Defender- Handoffs/Chance',\n",
    "# 'Setter Defender- Receiver Points/Handoff',\n",
    "# 'Setter Defender- Team Points',\n",
    "# 'Setter Defender- Team Points/Chance',\n",
    "# 'Setter Defender- Team Points/Pick Chance',\n",
    "# 'Setter Defender- Receiver Points/Direct Handoff',\n",
    "# 'AutoStats Games Rank',\n",
    "# 'Offensive Chances Rank',\n",
    "# 'Defensive Points/Chance Rank',\n",
    "# 'Defensive Transition% Rank',\n",
    "# 'Transition Touch% Rank',\n",
    "# 'AutoStats FGM Rank',\n",
    "# 'Contested Jumper FGM Rank',\n",
    "# 'Contested Jumper FGA Rank',\n",
    "# 'Catch & Shoot Jumper FGM Rank',\n",
    "# 'FT Assists Rank',\n",
    "# 'AutoStats Rebounds Rank',\n",
    "# 'Rebound Chances Rank',\n",
    "# 'AutoStats Defensive Rebounds Rank',\n",
    "# 'Defensive Rebound Chances Rank',\n",
    "# 'Iso Player Points Allowed Rank',\n",
    "# 'Iso Team Points Allowed Rank',\n",
    "# 'Cutter- Screens/Chance Rank',\n",
    "# 'Screener- Screens Rank',\n",
    "# 'Screener- Screens/Chance Rank',\n",
    "# 'Screener Def- Screens/Chance Rank',\n",
    "# 'Screener Def- Cutter Touch Points Rank',\n",
    "# 'Setter- Handoffs Rank',\n",
    "# 'Setter- Handoffs/Touch Rank',\n",
    "# 'Offensive Chances Role Rank',\n",
    "# 'Defensive Chances Role Rank',\n",
    "# 'Offensive Transition% Role Rank',\n",
    "# 'Transition Touch% Role Rank',\n",
    "# 'AutoStats FGM Role Rank',\n",
    "# 'AutoStats FGA Role Rank',\n",
    "# 'Contested Jumper FGM Role Rank',\n",
    "# 'Contested Jumper FGA Role Rank',\n",
    "# 'Catch & Shoot Jumper FGM Role Rank',\n",
    "# 'FT Assists Role Rank',\n",
    "# 'AutoStats Rebounds Role Rank',\n",
    "# 'Rebound Chances Role Rank',\n",
    "# 'AutoStats Defensive Rebounds Role Rank',\n",
    "# 'Defensive Rebound Chances Role Rank',\n",
    "# 'Drive Player Points Role Rank',\n",
    "# 'Drives Defended Role Rank',\n",
    "# 'Drive Player Points Allowed Role Rank',\n",
    "# 'Iso Team Points Role Rank',\n",
    "# 'Isos Defended Role Rank',\n",
    "# 'Iso Player Points Allowed Role Rank',\n",
    "# 'BH Def- Team Points Role Rank',\n",
    "# 'SC- Screens/Chance Role Rank',\n",
    "# 'Cutter- Screens/Chance Role Rank',\n",
    "# 'Cutter- Touch Points Role Rank',\n",
    "# 'Screener- Screens/Chance Role Rank',\n",
    "# 'Screener Def- Screens/Chance Role Rank',\n",
    "# 'Screener Def- Cutter Touches Role Rank',\n",
    "# 'Screener Def- Cutter Touch Points Role Rank',\n",
    "# 'Receiver- Handoffs/Touch Role Rank',\n",
    "# 'Setter- Handoffs/Touch Role Rank',\n",
    "# 'Setter- Team Points Role Rank',\n",
    "# 'MINUTES_PLAYED',\n",
    "# 'FIELD_GOALS_MADE',\n",
    "# 'FIELD_GOALS_ATT',\n",
    "# 'FREE_THROWS_MADE',\n",
    "# 'FREE_THROWS_ATT',\n",
    "# 'THREE_POINT_ATT',\n",
    "# 'TOTAL_POINTS',\n",
    "# 'BLOCKS',\n",
    "# 'PERSONAL_FOULS',\n",
    "# 'HIGH_POINTS_GAME',\n",
    "# 'DOUBLE_DOUBLES',\n",
    "# 'WINS',\n",
    "# 'LOSSES'] "
   ]
  },
  {
   "cell_type": "code",
   "execution_count": null,
   "id": "5eab61e6-a145-4455-a906-420d473a3a8a",
   "metadata": {},
   "outputs": [],
   "source": [
    "X_train = X_train[cols]\n",
    "X_test = X_test[cols]"
   ]
  },
  {
   "cell_type": "markdown",
   "id": "de9cf1f8-8feb-4565-9984-0fd8c84bfd23",
   "metadata": {},
   "source": [
    "## Artifical Neural Network"
   ]
  },
  {
   "cell_type": "code",
   "execution_count": null,
   "id": "1534f638-18df-4569-96b6-116b37120649",
   "metadata": {},
   "outputs": [],
   "source": [
    "from keras.models import Sequential\n",
    "from keras.layers import Dense, Dropout\n",
    "from keras.callbacks import EarlyStopping\n",
    "import keras"
   ]
  },
  {
   "cell_type": "code",
   "execution_count": null,
   "id": "d5927cef-d502-4232-9628-5704645ac9b4",
   "metadata": {},
   "outputs": [],
   "source": [
    "# Convert X values to numpy array \n",
    "X_train_array = np.array(X_train)\n",
    "X_test_array = np.array(X_test)"
   ]
  },
  {
   "cell_type": "code",
   "execution_count": null,
   "id": "f3fa6c95-e76b-4b1c-96d2-7dc3f1104c0d",
   "metadata": {},
   "outputs": [],
   "source": [
    "# encode labels as integers for y_train \n",
    "encoder = LabelEncoder()\n",
    "encoder.fit(y_train)\n",
    "encoded_Y_train = encoder.transform(y_train)\n",
    "# convert integers to dummy variables (i.e. one hot encoded)\n",
    "dummy_y_train = np_utils.to_categorical(encoded_Y_train)"
   ]
  },
  {
   "cell_type": "code",
   "execution_count": null,
   "id": "1758a82b-8a29-4e96-8d86-b7786d5afbbf",
   "metadata": {},
   "outputs": [],
   "source": [
    "list(encoder.classes_)"
   ]
  },
  {
   "cell_type": "code",
   "execution_count": null,
   "id": "3671ce84-40e9-4064-ac23-334dac337607",
   "metadata": {},
   "outputs": [],
   "source": [
    "# encode labels as integers for y_test \n",
    "encoder = LabelEncoder()\n",
    "encoder.fit(y_test)\n",
    "encoded_Y_test = encoder.transform(y_test)\n",
    "# convert integers to dummy variables (i.e. one hot encoded)\n",
    "dummy_y_test = np_utils.to_categorical(encoded_Y_test)"
   ]
  },
  {
   "cell_type": "code",
   "execution_count": null,
   "id": "a25a1856-0ef3-4f16-bcc6-c24d3530f37c",
   "metadata": {},
   "outputs": [],
   "source": [
    "list(encoder.classes_)"
   ]
  },
  {
   "cell_type": "markdown",
   "id": "f0c772b2-7ab0-49eb-a9e4-230c78795a0e",
   "metadata": {},
   "source": [
    "### Weighting the Model"
   ]
  },
  {
   "cell_type": "code",
   "execution_count": null,
   "id": "e0851201-ba30-4542-aa9d-18a8618bead0",
   "metadata": {},
   "outputs": [],
   "source": [
    "## Invert the value_counts to get the weights \n",
    "1/y_train.value_counts()*100"
   ]
  },
  {
   "cell_type": "code",
   "execution_count": null,
   "id": "12367638-572b-40b8-ab5c-f1b0dea19eac",
   "metadata": {},
   "outputs": [],
   "source": [
    "calc_weights = {0:4.166667, 1:2.857143, 2:1.265823, 3:0.617284, 4:4.347826, 5:4.166667, 6:0.164745}"
   ]
  },
  {
   "cell_type": "code",
   "execution_count": null,
   "id": "05fa05b1-2a06-49c8-adda-379b48f7e703",
   "metadata": {},
   "outputs": [],
   "source": [
    "from sklearn.utils import class_weight\n",
    "class_w = class_weight.compute_class_weight('balanced',\n",
    "                                                 classes = ['1-4', '13-18', '19-30', '31-60', '5-8', '9-12', 'Other- NBA'],\n",
    "                                                 y = y_train.values.reshape(-1))"
   ]
  },
  {
   "cell_type": "code",
   "execution_count": null,
   "id": "580d78d0-1bc8-4ecf-94f4-53e083eda001",
   "metadata": {},
   "outputs": [],
   "source": [
    "class_w"
   ]
  },
  {
   "cell_type": "code",
   "execution_count": null,
   "id": "0f399997-113d-4cc3-84ff-1c59d22e442e",
   "metadata": {},
   "outputs": [],
   "source": [
    "class_weights = {0: 5.67857143, 1: 3.89387755, 2:1.72513562, 3:0.84126984, 4:5.92546584, 5:5.67857143, 6:0.22452342}"
   ]
  },
  {
   "cell_type": "markdown",
   "id": "93451711-26e0-425a-b54e-2d0032780999",
   "metadata": {
    "jp-MarkdownHeadingCollapsed": true,
    "tags": []
   },
   "source": [
    "### Or Oversampling the Model"
   ]
  },
  {
   "cell_type": "code",
   "execution_count": null,
   "id": "2a0fce6d-852f-45c1-97ab-b9799f1db120",
   "metadata": {},
   "outputs": [],
   "source": [
    "encoded_Y_train.shape"
   ]
  },
  {
   "cell_type": "code",
   "execution_count": null,
   "id": "a10ebc4d-cc27-497d-a8c4-0b5d220266dd",
   "metadata": {},
   "outputs": [],
   "source": [
    "dummy_y_train.shape"
   ]
  },
  {
   "cell_type": "code",
   "execution_count": null,
   "id": "5b98dd28-8d4f-4840-bf05-4371b4d87a4a",
   "metadata": {},
   "outputs": [],
   "source": [
    "X_train_array.shape"
   ]
  },
  {
   "cell_type": "code",
   "execution_count": null,
   "id": "89bdf1c5-3565-4e10-ac89-351df9b96345",
   "metadata": {},
   "outputs": [],
   "source": [
    "from imblearn.combine import SMOTETomek\n",
    "\n",
    "counter = Counter(encoded_Y_train)\n",
    "for k,v in counter.items():\n",
    "    per = v / len(dummy_y_train) * 100\n",
    "    print('Class=%s, n=%d (%.3f%%)' % (k, v, per))\n",
    "# plot the distribution\n",
    "pyplot.title('Data Counts before Resampling')\n",
    "pyplot.bar(counter.keys(), counter.values())\n",
    "pyplot.show()\n",
    "\n",
    "smote_tomek = SMOTETomek(random_state=888)\n",
    "X_train_resampled, y_train_resampled = smote_tomek.fit_resample(X_train_array, encoded_Y_train)\n",
    "\n",
    "counter = Counter(y_train_resampled)\n",
    "for k,v in counter.items():\n",
    "    per = v / len(y_train_resampled) * 100\n",
    "    print('Class=%s, n=%d (%.3f%%)' % (k, v, per))\n",
    "# plot the distribution\n",
    "pyplot.title('Data Counts before Resampling')\n",
    "pyplot.bar(counter.keys(), counter.values())\n",
    "pyplot.show()"
   ]
  },
  {
   "cell_type": "code",
   "execution_count": null,
   "id": "06ec95c3-8924-4384-9541-186958cc4810",
   "metadata": {},
   "outputs": [],
   "source": [
    "from imblearn.combine import SMOTETomek\n",
    "\n",
    "counter = Counter(encoded_Y_test)\n",
    "for k,v in counter.items():\n",
    "    per = v / len(encoded_Y_test) * 100\n",
    "    print('Class=%s, n=%d (%.3f%%)' % (k, v, per))\n",
    "# plot the distribution\n",
    "pyplot.title('Data Counts before Resampling')\n",
    "pyplot.bar(counter.keys(), counter.values())\n",
    "pyplot.show()\n",
    "\n",
    "smote_tomek = SMOTETomek(random_state=888)\n",
    "X_test_resampled, y_test_resampled = smote_tomek.fit_resample(X_test_array, encoded_Y_test)\n",
    "\n",
    "counter = Counter(y_test_resampled)\n",
    "for k,v in counter.items():\n",
    "    per = v / len(y_test_resampled) * 100\n",
    "    print('Class=%s, n=%d (%.3f%%)' % (k, v, per))\n",
    "# plot the distribution\n",
    "pyplot.title('Data Counts before Resampling')\n",
    "pyplot.bar(counter.keys(), counter.values())\n",
    "pyplot.show()"
   ]
  },
  {
   "cell_type": "code",
   "execution_count": null,
   "id": "2fc590d8-04e2-41dd-8679-09f42503c2c0",
   "metadata": {},
   "outputs": [],
   "source": [
    "## change the resampled data to dummy data \n",
    "y_train_resampled = np_utils.to_categorical(y_train_resampled)\n",
    "\n",
    "y_test_resampled = np_utils.to_categorical(y_test_resampled)"
   ]
  },
  {
   "cell_type": "markdown",
   "id": "d115c510-a681-4c3c-b8cf-436f3f12ec9c",
   "metadata": {
    "jp-MarkdownHeadingCollapsed": true,
    "tags": []
   },
   "source": [
    "### ANN #1"
   ]
  },
  {
   "cell_type": "code",
   "execution_count": null,
   "id": "5d0a3192-7e65-42ce-9d51-288b0eb19f7e",
   "metadata": {},
   "outputs": [],
   "source": [
    "# build a model\n",
    "model = Sequential()\n",
    "model.add(Dense(50, input_shape=(X_train_array.shape[1],), activation='relu')) # input shape is (features,)\n",
    "model.add(Dense(25, activation='softmax'))\n",
    "model.add(Dense(16, activation='softmax'))\n",
    "model.add(Dense(7, activation='softmax'))\n",
    "model.summary()\n",
    "\n",
    "# compile the model\n",
    "model.compile(optimizer='adam', \n",
    "              loss='categorical_crossentropy', # this is different instead of binary_crossentropy (for regular classification)\n",
    "              metrics=['accuracy'])"
   ]
  },
  {
   "cell_type": "code",
   "execution_count": null,
   "id": "bc99caa5-3e33-49f9-ad0d-bb7aaa498fc8",
   "metadata": {},
   "outputs": [],
   "source": [
    "# early stopping callback\n",
    "# This callback will stop the training when there is no improvement in  \n",
    "# the validation loss for 10 consecutive epochs.  \n",
    "es = keras.callbacks.EarlyStopping(monitor='val_loss', \n",
    "                                   mode='min',\n",
    "                                   patience=10, \n",
    "                                   restore_best_weights=True) \n",
    "\n",
    "# now we just update our model fit call\n",
    "history =  model.fit(X_train_array,\n",
    "                    dummy_y_train,\n",
    "                    callbacks=[es],\n",
    "                    epochs=1000, \n",
    "                    class_weight = calc_weights,\n",
    "                    batch_size=5,\n",
    "                    shuffle=True,\n",
    "                    validation_split=0.2,\n",
    "                    verbose=1)"
   ]
  },
  {
   "cell_type": "code",
   "execution_count": null,
   "id": "2fa66bd9-560a-4201-b979-f01f80a0f7d1",
   "metadata": {},
   "outputs": [],
   "source": [
    "history_dict = history.history\n",
    "\n",
    "# learning curve\n",
    "# accuracy\n",
    "acc = history_dict['accuracy']\n",
    "val_acc = history_dict['val_accuracy']\n",
    "\n",
    "# loss\n",
    "loss = history_dict['loss']\n",
    "val_loss = history_dict['val_loss']\n",
    "\n",
    "# range of X (no. of epochs)\n",
    "epochs = range(1, len(acc) + 1)\n",
    "\n",
    "# plot\n",
    "# \"r\" is for \"solid red line\"\n",
    "plt.plot(epochs, acc, 'r', label='Training accuracy')\n",
    "# b is for \"solid blue line\"\n",
    "plt.plot(epochs, val_acc, 'b', label='Validation accuracy')\n",
    "plt.title('Training and validation accuracy')\n",
    "plt.xlabel('Epochs')\n",
    "plt.ylabel('Accuracy')\n",
    "plt.legend()\n",
    "\n",
    "plt.show()"
   ]
  },
  {
   "cell_type": "code",
   "execution_count": null,
   "id": "74dc11a7-ede2-4c92-8bc0-44b1e3814f29",
   "metadata": {},
   "outputs": [],
   "source": [
    "from sklearn.metrics import confusion_matrix\n",
    "from sklearn.metrics import classification_report\n",
    "\n",
    "preds = model.predict(X_train_array) # see how the model did!\n",
    "print(preds[4]) # i'm spreading that prediction across three nodes and they sum to 1\n",
    "print(np.sum(preds[0])) # sum it up! Should be 1"
   ]
  },
  {
   "cell_type": "code",
   "execution_count": null,
   "id": "db9f97af-9c15-434c-95c9-9f0526f8db78",
   "metadata": {},
   "outputs": [],
   "source": [
    "predictions = preds.argmax(axis=1)"
   ]
  },
  {
   "cell_type": "code",
   "execution_count": null,
   "id": "fd689a99-9669-4540-a7bf-880fdc228f7a",
   "metadata": {},
   "outputs": [],
   "source": [
    "cm = confusion_matrix(encoded_Y_train, predictions)"
   ]
  },
  {
   "cell_type": "code",
   "execution_count": null,
   "id": "e8b7ff40-db11-46ee-bac9-217c7b45144a",
   "metadata": {},
   "outputs": [],
   "source": [
    "len(y_train)"
   ]
  },
  {
   "cell_type": "code",
   "execution_count": null,
   "id": "8d69c833-531f-4907-842d-0e57f45594e3",
   "metadata": {},
   "outputs": [],
   "source": [
    "len(encoded_Y_train)"
   ]
  },
  {
   "cell_type": "code",
   "execution_count": null,
   "id": "d8a9d2c1-4196-4aed-a743-87294496d050",
   "metadata": {},
   "outputs": [],
   "source": [
    "import seaborn as sns\n",
    "import matplotlib.pyplot as plt     \n",
    "\n",
    "ax= plt.subplot()\n",
    "sns.heatmap(cm, annot=True, fmt='g', ax=ax);  #annot=True to annotate cells, ftm='g' to disable scientific notation\n",
    "\n",
    "# labels, title and ticks\n",
    "ax.set_xlabel('Predicted labels');ax.set_ylabel('True labels'); \n",
    "ax.set_title('Confusion Matrix'); \n",
    "ax.xaxis.set_ticklabels(['1-4', '13-18', '19-30', '31-60', '5-8', '9-12', 'Other']); ax.yaxis.set_ticklabels(['1-4', '13-18', '19-30', '31-60', '5-8', '9-12', 'Other']);"
   ]
  },
  {
   "cell_type": "code",
   "execution_count": null,
   "id": "a5a81baf-7790-4c47-aa4e-992a3ef43084",
   "metadata": {},
   "outputs": [],
   "source": [
    "y_train.value_counts()"
   ]
  },
  {
   "cell_type": "markdown",
   "id": "8be7b759-f0dc-47bb-9d6c-7f20740df1ef",
   "metadata": {},
   "source": [
    "### ANN #2"
   ]
  },
  {
   "cell_type": "code",
   "execution_count": null,
   "id": "a9c12048-9b39-4e3f-b4e2-2b672cf80bba",
   "metadata": {},
   "outputs": [],
   "source": [
    "#Dependencies\n",
    "import keras\n",
    "from keras.models import Sequential\n",
    "from keras.layers import Dense\n",
    "# Neural network\n",
    "model2 = Sequential()\n",
    "model2.add(Dense(16, input_dim=23, activation='relu'))\n",
    "model2.add(Dense(12, activation='relu'))\n",
    "model2.add(Dense(7, activation='softmax'))"
   ]
  },
  {
   "cell_type": "code",
   "execution_count": null,
   "id": "34211fc7-432c-40f4-8575-3c6a79289eb2",
   "metadata": {},
   "outputs": [],
   "source": [
    "model2.compile(loss='categorical_crossentropy', optimizer='adam', metrics=['accuracy'])"
   ]
  },
  {
   "cell_type": "code",
   "execution_count": null,
   "id": "8ee76fa9-1ce7-4d28-9d71-5c32fdee49de",
   "metadata": {},
   "outputs": [],
   "source": [
    "history2 = model2.fit(X_train_array, dummy_y_train, \n",
    "                      epochs=100, \n",
    "                      class_weight = class_weights, \n",
    "                      batch_size=32)"
   ]
  },
  {
   "cell_type": "code",
   "execution_count": null,
   "id": "68143e4b-ae4e-4c89-a63a-dc4133195e8f",
   "metadata": {},
   "outputs": [],
   "source": [
    "y_pred = model2.predict(X_test_array)\n",
    "#Converting predictions to label\n",
    "pred = list()\n",
    "for i in range(len(y_pred)):\n",
    "    pred.append(np.argmax(y_pred[i]))\n",
    "#Converting one hot encoded test label to label\n",
    "test = list()\n",
    "for i in range(len(dummy_y_test)):\n",
    "    test.append(np.argmax(dummy_y_test[i]))"
   ]
  },
  {
   "cell_type": "code",
   "execution_count": null,
   "id": "89293042-1011-4d38-9402-eb9693848a75",
   "metadata": {},
   "outputs": [],
   "source": [
    "from sklearn.metrics import accuracy_score\n",
    "a = accuracy_score(pred,test)\n",
    "print('Accuracy is:', a*100)"
   ]
  },
  {
   "cell_type": "code",
   "execution_count": null,
   "id": "6b636cea-fa71-49d8-9064-1d9523046aaa",
   "metadata": {},
   "outputs": [],
   "source": [
    "history2 = model2.fit(X_train_array, dummy_y_train, \n",
    "                      validation_data = (X_test_array, dummy_y_test), \n",
    "                      epochs=100, \n",
    "                      #class_weight = class_weights, \n",
    "                      batch_size=32)"
   ]
  },
  {
   "cell_type": "code",
   "execution_count": null,
   "id": "9c98c980-6c14-4211-81c7-3c7a1d33290f",
   "metadata": {},
   "outputs": [],
   "source": [
    "import matplotlib.pyplot as plt\n",
    "plt.plot(history2.history['accuracy'])\n",
    "plt.plot(history2.history['val_accuracy'])\n",
    "plt.title('Model accuracy')\n",
    "plt.ylabel('Accuracy')\n",
    "plt.xlabel('Epoch')\n",
    "plt.legend(['Train', 'Test'], loc='upper left')\n",
    "plt.show()"
   ]
  },
  {
   "cell_type": "code",
   "execution_count": null,
   "id": "d8441506-e172-4862-94d9-20bb31560ba5",
   "metadata": {},
   "outputs": [],
   "source": [
    "X_test_array.shape"
   ]
  },
  {
   "cell_type": "code",
   "execution_count": null,
   "id": "c64feb6d-16b1-4605-aaab-a688d7a2ba62",
   "metadata": {},
   "outputs": [],
   "source": [
    "len(encoded_Y_test)"
   ]
  },
  {
   "cell_type": "code",
   "execution_count": null,
   "id": "4dd1da74-34d4-4ce5-bfe6-3927ddabbd06",
   "metadata": {},
   "outputs": [],
   "source": [
    "pred = model2.predict(X_test_array)\n",
    "\n",
    "predictions = pred.argmax(axis=1)\n",
    "\n",
    "cm = confusion_matrix(encoded_Y_test, predictions)"
   ]
  },
  {
   "cell_type": "code",
   "execution_count": null,
   "id": "019213e2-fcd6-4745-a83c-a0abe18df00e",
   "metadata": {},
   "outputs": [],
   "source": [
    "import seaborn as sns\n",
    "import matplotlib.pyplot as plt     \n",
    "\n",
    "ax= plt.subplot()\n",
    "sns.heatmap(cm, annot=True, fmt='g', ax=ax);  #annot=True to annotate cells, ftm='g' to disable scientific notation\n",
    "\n",
    "# labels, title and ticks\n",
    "ax.set_xlabel('Predicted labels');ax.set_ylabel('True labels'); \n",
    "ax.set_title('Confusion Matrix'); \n",
    "ax.xaxis.set_ticklabels(['1-4', '13-18', '19-30', '31-60', '5-8', '9-12', 'Other']); ax.yaxis.set_ticklabels(['1-4', '13-18', '19-30', '31-60', '5-8', '9-12', 'Other']);"
   ]
  },
  {
   "cell_type": "markdown",
   "id": "10d4d5df-4090-486f-9699-3b032cce1cef",
   "metadata": {},
   "source": [
    "Not really predicting 9-12 but does predict the next class!?"
   ]
  },
  {
   "cell_type": "code",
   "execution_count": null,
   "id": "2b4c2b1e-aaed-4fa4-83d0-d3b5467f0ff5",
   "metadata": {},
   "outputs": [],
   "source": [
    "predictions[21]"
   ]
  },
  {
   "cell_type": "code",
   "execution_count": null,
   "id": "a54d50da-2ff5-4297-b5aa-17909e0b399e",
   "metadata": {},
   "outputs": [],
   "source": [
    "pred[21]"
   ]
  },
  {
   "cell_type": "code",
   "execution_count": null,
   "id": "991790d4-852e-43e7-8e01-a81c7de2d5cd",
   "metadata": {},
   "outputs": [],
   "source": [
    "encoded_Y_test[21]"
   ]
  },
  {
   "cell_type": "code",
   "execution_count": null,
   "id": "087ddae9-966e-4826-82de-d142c8942776",
   "metadata": {},
   "outputs": [],
   "source": [
    "print(classification_report(encoded_Y_test, predictions))"
   ]
  },
  {
   "cell_type": "markdown",
   "id": "4c079f7d-8fc9-4839-905a-6fd4c90e1b5b",
   "metadata": {},
   "source": [
    "### Tunning ANN"
   ]
  },
  {
   "cell_type": "code",
   "execution_count": null,
   "id": "90ed5aff-6fd1-4b8b-95a2-41d28e4f9a25",
   "metadata": {},
   "outputs": [],
   "source": [
    "import tensorflow as tf\n",
    "from sklearn.model_selection import GridSearchCV\n",
    "from tensorflow.keras.models import Sequential\n",
    "from tensorflow.keras.layers import Dense\n",
    "from scikeras.wrappers import KerasClassifier\n",
    "from tensorflow.keras.constraints import MaxNorm\n",
    "\n",
    "\n",
    "# Function to create model, required for KerasClassifier\n",
    "def create_model(neurons):\n",
    "    # create model\n",
    "    model = Sequential()\n",
    "    model.add(Dense(neurons, input_dim=171, kernel_initializer='glorot_normal',  activation='softsign', kernel_constraint=MaxNorm(4)))\n",
    "    # model.add(Dense(12, activation='relu', kernel_initializer='glorot_normal'))\n",
    "    model.add(Dropout(0.2))\n",
    "    model.add(Dense(7, activation='softmax', kernel_initializer='glorot_normal'))\n",
    "    # Compile model\n",
    "    model.compile(loss='categorical_crossentropy', optimizer='adam', metrics=['accuracy'])\n",
    "    return model\n",
    "# fix random seed for reproducibility\n",
    "seed = 7\n",
    "tf.random.set_seed(seed)\n",
    "\n",
    "# create model\n",
    "model = KerasClassifier(model=create_model, epochs = 50, batch_size = 100, verbose=0)\n",
    "# define the grid search parameters\n",
    "# batch_size = [10, 20, 40, 60, 80, 100]\n",
    "# epochs = [10, 50, 100]\n",
    "# optimizer = ['SGD', 'RMSprop', 'Adagrad', 'Adadelta', 'Adam', 'Adamax', 'Nadam']\n",
    "\n",
    "# learn_rate = [0.001, 0.01, 0.1, 0.2, 0.3]\n",
    "#momentum = [0.0, 0.2, 0.4, 0.6, 0.8, 0.9]\n",
    "\n",
    "# init_mode = ['uniform', 'lecun_uniform', 'normal', 'zero', 'glorot_normal', 'glorot_uniform', 'he_normal', 'he_uniform']\n",
    "# weight_constraint = [1.0, 2.0, 3.0, 4.0, 5.0]\n",
    "# dropout_rate = [0.0, 0.1, 0.2, 0.3, 0.4, 0.5, 0.6, 0.7, 0.8, 0.9]\n",
    "neurons = [1, 5, 10, 15, 20, 25, 30]\n",
    "param_grid = dict(model__neurons=neurons)\n",
    "\n",
    "grid = GridSearchCV(estimator=model, param_grid=param_grid, n_jobs=-1, cv=3)\n",
    "grid_result = grid.fit(X_train_array, dummy_y_train)\n",
    "# summarize results\n",
    "print(\"Best: %f using %s\" % (grid_result.best_score_, grid_result.best_params_))\n",
    "means = grid_result.cv_results_['mean_test_score']\n",
    "stds = grid_result.cv_results_['std_test_score']\n",
    "params = grid_result.cv_results_['params']\n",
    "for mean, stdev, param in zip(means, stds, params):\n",
    "    print(\"%f (%f) with: %r\" % (mean, stdev, param))"
   ]
  },
  {
   "cell_type": "markdown",
   "id": "18de70bf-f16f-4173-8e5c-343249cabda6",
   "metadata": {},
   "source": [
    "Best: 0.655136 using {'batch_size': 100, 'epochs': 50}\n",
    "\n",
    "Best: 0.643606 using {'optimizer__learning_rate': 0.001}\n",
    "\n",
    "\n",
    "Best: 0.656184 using {'model__optimizer': 'Nadam'}\n",
    "\n",
    "Best: 0.651992 using {'model__init_mode': 'glorot_normal'}\n",
    "\n",
    "Best: 0.649895 using {'model__activation': 'softsign'}\n",
    "\n",
    "Best: 0.656184 using {'model__dropout_rate': 0.2, 'model__weight_constraint': 4.0}\n",
    "\n",
    "Best: 0.642558 using {'model__neurons': 30 or 15 }\n",
    "\n",
    "\n"
   ]
  },
  {
   "cell_type": "markdown",
   "id": "56437844-63f1-440f-b65a-2e2134c38bd3",
   "metadata": {},
   "source": [
    "### Trying with new parameters"
   ]
  },
  {
   "cell_type": "code",
   "execution_count": null,
   "id": "521e325d-6fde-41f1-9390-dc3332bb18bd",
   "metadata": {},
   "outputs": [],
   "source": [
    "#Dependencies\n",
    "import keras\n",
    "from keras.models import Sequential\n",
    "from keras.layers import Dense\n",
    "from tensorflow.keras.optimizers import Adam\n",
    "\n",
    "# Neural network\n",
    "model3 = Sequential()\n",
    "model3.add(Dense(15, input_dim=171, activation='relu'))\n",
    "model3.add(Dense(12, activation='relu'))\n",
    "model3.add(Dropout(0.2))\n",
    "model3.add(Dense(7, activation='softmax'))"
   ]
  },
  {
   "cell_type": "code",
   "execution_count": null,
   "id": "5f3cd5f7-9b01-45d3-a733-38a4ab6d6b9d",
   "metadata": {},
   "outputs": [],
   "source": [
    "model3.compile(loss='categorical_crossentropy', optimizer=Adam(learning_rate=0.001), metrics=['accuracy'])"
   ]
  },
  {
   "cell_type": "code",
   "execution_count": null,
   "id": "7daeaa44-eaaf-429e-9bf6-61771c89ddae",
   "metadata": {},
   "outputs": [],
   "source": [
    "history3 = model3.fit(X_train_array, dummy_y_train, \n",
    "                      epochs=50, \n",
    "                      class_weight = class_weights, \n",
    "                      batch_size=100)"
   ]
  },
  {
   "cell_type": "code",
   "execution_count": null,
   "id": "fe0884ef-0d0e-4511-a850-e282bd8b8bab",
   "metadata": {},
   "outputs": [],
   "source": [
    "y_pred = model3.predict(X_test_array)\n",
    "#Converting predictions to label\n",
    "pred = list()\n",
    "for i in range(len(y_pred)):\n",
    "    pred.append(np.argmax(y_pred[i]))\n",
    "#Converting one hot encoded test label to label\n",
    "test = list()\n",
    "for i in range(len(dummy_y_test)):\n",
    "    test.append(np.argmax(dummy_y_test[i]))"
   ]
  },
  {
   "cell_type": "code",
   "execution_count": null,
   "id": "fdb5ac10-46ca-49bf-9f6c-7db3c5ca9efc",
   "metadata": {},
   "outputs": [],
   "source": [
    "from sklearn.metrics import accuracy_score\n",
    "a = accuracy_score(pred,test)\n",
    "print('Accuracy is:', a*100)"
   ]
  },
  {
   "cell_type": "code",
   "execution_count": null,
   "id": "bde989b6-3a6f-4231-8451-62f191456110",
   "metadata": {},
   "outputs": [],
   "source": [
    "history3 = model3.fit(X_train_array, dummy_y_train, \n",
    "                      validation_data = (X_test_array, dummy_y_test), \n",
    "                      epochs=100, \n",
    "                      class_weight = class_weights, \n",
    "                      batch_size=32)"
   ]
  },
  {
   "cell_type": "code",
   "execution_count": null,
   "id": "29e83ee0-8f56-49dd-9649-73b75aff9749",
   "metadata": {},
   "outputs": [],
   "source": [
    "import matplotlib.pyplot as plt\n",
    "plt.plot(history3.history['accuracy'])\n",
    "plt.plot(history3.history['val_accuracy'])\n",
    "plt.title('Model accuracy')\n",
    "plt.ylabel('Accuracy')\n",
    "plt.xlabel('Epoch')\n",
    "plt.legend(['Train', 'Test'], loc='upper left')\n",
    "plt.show()"
   ]
  },
  {
   "cell_type": "code",
   "execution_count": null,
   "id": "857afe9e-8a40-4d05-9c4a-feaa1f61c89c",
   "metadata": {},
   "outputs": [],
   "source": [
    "pred = model3.predict(X_test_array)\n",
    "\n",
    "predictions = pred.argmax(axis=1)\n",
    "\n",
    "cm = confusion_matrix(encoded_Y_test, predictions)"
   ]
  },
  {
   "cell_type": "code",
   "execution_count": null,
   "id": "27302c66-7d2d-4d3b-892e-371284e0558c",
   "metadata": {},
   "outputs": [],
   "source": [
    "print(classification_report(encoded_Y_test, predictions))"
   ]
  },
  {
   "cell_type": "code",
   "execution_count": null,
   "id": "9777f82f-018a-436d-a94c-422882d2fc2e",
   "metadata": {},
   "outputs": [],
   "source": [
    "ax= plt.subplot()\n",
    "sns.heatmap(cm, annot=True, fmt='g', ax=ax);  #annot=True to annotate cells, ftm='g' to disable scientific notation\n",
    "\n",
    "# labels, title and ticks\n",
    "ax.set_xlabel('Predicted labels');ax.set_ylabel('True labels'); \n",
    "ax.set_title('Confusion Matrix'); \n",
    "ax.xaxis.set_ticklabels(['1-4', '13-18', '19-30', '31-60', '5-8', '9-12', 'Other']); ax.yaxis.set_ticklabels(['1-4', '13-18', '19-30', '31-60', '5-8', '9-12', 'Other']);"
   ]
  },
  {
   "cell_type": "markdown",
   "id": "ad7b9280-6e7b-45b6-a0e4-ccfccfffb4c1",
   "metadata": {
    "jp-MarkdownHeadingCollapsed": true,
    "tags": []
   },
   "source": [
    "## Problems \n",
    "ANNs using weights or oversampling does not guess one of the classes \n",
    "\n",
    "Second ANN does better than first with weights "
   ]
  },
  {
   "cell_type": "markdown",
   "id": "c42db701-31e2-4b81-a378-d75afd83ed19",
   "metadata": {},
   "source": [
    "## Penalized-SVM"
   ]
  },
  {
   "cell_type": "code",
   "execution_count": null,
   "id": "f028d642-914b-4946-936c-cb9a3d16048c",
   "metadata": {},
   "outputs": [],
   "source": [
    "# load library\n",
    "from sklearn.svm import SVC\n",
    "import sklearn.metrics\n",
    "\n",
    "# we can add class_weight='balanced' to add panalize mistake\n",
    "svc_model = SVC(class_weight='balanced', probability=True)\n",
    "\n",
    "svc_model.fit(X_train, y_train)\n",
    "\n",
    "svc_predict = svc_model.predict(X_test)# check performance\n",
    "#print('ROCAUC score:',roc_auc_score(y_test, svc_predict))\n",
    "print('Accuracy score:',accuracy_score(y_test, svc_predict))\n",
    "#print('F1 score:',f1_score(y_test, svc_predict))"
   ]
  },
  {
   "cell_type": "code",
   "execution_count": null,
   "id": "38ff80cb-b609-4b20-a310-00ddfd617459",
   "metadata": {},
   "outputs": [],
   "source": [
    "print(classification_report(y_test, svc_predict))"
   ]
  },
  {
   "cell_type": "code",
   "execution_count": null,
   "id": "d8f417ae-5ad8-4865-881e-0019d191fbdc",
   "metadata": {},
   "outputs": [],
   "source": [
    "cm_svm = confusion_matrix(y_test, svc_predict)"
   ]
  },
  {
   "cell_type": "code",
   "execution_count": null,
   "id": "fd752c21-6fdd-40c2-a001-34ed2563f004",
   "metadata": {},
   "outputs": [],
   "source": [
    "ax= plt.subplot()\n",
    "sns.heatmap(cm, annot=True, fmt='g', ax=ax);  #annot=True to annotate cells, ftm='g' to disable scientific notation\n",
    "\n",
    "# labels, title and ticks\n",
    "ax.set_xlabel('Predicted labels');ax.set_ylabel('True labels'); \n",
    "ax.set_title('Confusion Matrix'); \n",
    "ax.xaxis.set_ticklabels(['1-4', '13-18', '19-30', '31-60', '5-8', '9-12', 'Other']); ax.yaxis.set_ticklabels(['1-4', '13-18', '19-30', '31-60', '5-8', '9-12', 'Other']);"
   ]
  },
  {
   "cell_type": "code",
   "execution_count": null,
   "id": "0d9b6f43-eb44-40f4-bab9-eebadb794c92",
   "metadata": {},
   "outputs": [],
   "source": []
  }
 ],
 "metadata": {
  "kernelspec": {
   "display_name": "Python 3 (ipykernel)",
   "language": "python",
   "name": "python3"
  },
  "language_info": {
   "codemirror_mode": {
    "name": "ipython",
    "version": 3
   },
   "file_extension": ".py",
   "mimetype": "text/x-python",
   "name": "python",
   "nbconvert_exporter": "python",
   "pygments_lexer": "ipython3",
   "version": "3.9.12"
  }
 },
 "nbformat": 4,
 "nbformat_minor": 5
}
