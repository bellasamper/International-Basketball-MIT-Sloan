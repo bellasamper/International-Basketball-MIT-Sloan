{
 "cells": [
  {
   "cell_type": "markdown",
   "id": "ab7fc3e2-4420-48e9-ba2e-1be46c647ea3",
   "metadata": {},
   "source": [
    "# Combined Data (Step Three) "
   ]
  },
  {
   "cell_type": "code",
   "execution_count": 1,
   "id": "a906a0da-3f89-489e-a97b-ed31d6dada85",
   "metadata": {},
   "outputs": [],
   "source": [
    "import pandas as pd \n",
    "import numpy as np \n",
    "import numpy as np\n",
    "from sklearn.linear_model import LinearRegression\n",
    "from sklearn.model_selection import train_test_split\n",
    "import statsmodels.api as sm\n",
    "from statsmodels.formula.api import glm\n",
    "from sklearn.metrics import mean_squared_error\n",
    "import matplotlib.pyplot as plt\n",
    "from sklearn.linear_model import LassoCV\n",
    "from sklearn.preprocessing import StandardScaler\n",
    "from sklearn.linear_model import Lasso, LogisticRegression\n",
    "from sklearn.decomposition import PCA\n",
    "from sklearn.ensemble import RandomForestClassifier\n",
    "from sklearn.metrics import accuracy_score, confusion_matrix, classification_report\n",
    "from sklearn.linear_model import LassoCV\n",
    "import tensorflow as tf\n",
    "from sklearn.preprocessing import LabelEncoder\n",
    "from keras.utils import np_utils\n",
    "\n",
    "\n",
    "import warnings\n",
    "warnings.filterwarnings(\"ignore\")"
   ]
  },
  {
   "cell_type": "code",
   "execution_count": 2,
   "id": "972de24a-a2b4-4e7d-bca7-18f145e8ac38",
   "metadata": {},
   "outputs": [],
   "source": [
    "## data that has been aggregated already (includes multipliers)\n",
    "autostats_pct = pd.read_csv('autostats_data.csv').drop(['Unnamed: 0'], axis=1)"
   ]
  },
  {
   "cell_type": "code",
   "execution_count": 3,
   "id": "b5080208-706b-427f-99f5-bf022caf0384",
   "metadata": {},
   "outputs": [],
   "source": [
    "## data that has been aggregated already (includes multipliers)\n",
    "\n",
    "box_data = pd.read_csv('box_data.csv').drop(['Unnamed: 0'], axis=1)"
   ]
  },
  {
   "cell_type": "code",
   "execution_count": 4,
   "id": "51adcf6b-266d-4af0-a3d6-43e59e135db7",
   "metadata": {},
   "outputs": [
    {
     "name": "stdout",
     "output_type": "stream",
     "text": [
      "1464\n",
      "2183\n"
     ]
    }
   ],
   "source": [
    "print(len(autostats_pct) )\n",
    "print(len(box_data))"
   ]
  },
  {
   "cell_type": "code",
   "execution_count": 5,
   "id": "cb8bc2e1-4e65-4a62-99d8-f30507603975",
   "metadata": {},
   "outputs": [],
   "source": [
    "## merge them \n",
    "combined = pd.merge(autostats_pct, box_data, how='inner', on= ['PLAYER_ID'])"
   ]
  },
  {
   "cell_type": "code",
   "execution_count": 6,
   "id": "35c630c8-d8fd-4ffd-9c31-6fd2369cd34c",
   "metadata": {},
   "outputs": [],
   "source": [
    "#combined.drop(['PICK_NUMBER_x'], axis=1, inplace=True)\n",
    "combined.rename({'PICK_NUMBER_y': 'PICK_NUMBER'}, axis=1, inplace=True)"
   ]
  },
  {
   "cell_type": "code",
   "execution_count": 7,
   "id": "7e13e898-cfd4-4c58-8135-ade3d49c905c",
   "metadata": {},
   "outputs": [],
   "source": [
    "combined.to_csv('combined_data.csv')"
   ]
  }
 ],
 "metadata": {
  "kernelspec": {
   "display_name": "Python 3 (ipykernel)",
   "language": "python",
   "name": "python3"
  },
  "language_info": {
   "codemirror_mode": {
    "name": "ipython",
    "version": 3
   },
   "file_extension": ".py",
   "mimetype": "text/x-python",
   "name": "python",
   "nbconvert_exporter": "python",
   "pygments_lexer": "ipython3",
   "version": "3.9.12"
  }
 },
 "nbformat": 4,
 "nbformat_minor": 5
}
